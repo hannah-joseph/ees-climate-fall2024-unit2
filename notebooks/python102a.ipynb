{
 "cells": [
  {
   "cell_type": "markdown",
   "id": "e933c8b6-4289-4274-8368-4f725ddbcd04",
   "metadata": {},
   "source": [
    "### This notebook goes over fundamentals of Python __flow control__.\n",
    "__Author__: Rebecca L. Beadling. For any questions regarding the contents of this notebook please contact rebecca.beadling@temple.edu."
   ]
  },
  {
   "cell_type": "markdown",
   "id": "bda5fc46-1810-4de3-85c5-81a52d1eab9b",
   "metadata": {},
   "source": [
    "### You should be __entering__ this lesson with ...\n",
    "* Having completely worked through `python101.ipynb` and `jupyter101.ipynb`.\n",
    "* Having read:\n",
    "> [Intro to jupyter](https://hackmd.io/@0u33W-OOTm2AI2VgNuXi3Q/Hyhg7nmsC).\n",
    "> > Knowledge of the fundamentals of the structure of a Jupyter notebook including how to execute cells, cell types, how to format Markdown cells, and the usefulness of including Markdown throughout your notebooks for descriptive documentation.\n",
    "> > \n",
    "> [Python Bootcamp 101](https://hackmd.io/@0u33W-OOTm2AI2VgNuXi3Q/r1n037VgC).\n",
    "> > Python fundamentals including import statements, data types, basic arithematic operations, logical (boolean) operators, indexing (remember our first element is always [0] in Python!!)\n",
    "> > \n",
    "> [Incorpating Git & GitHub into your Daily Workflow](https://hackmd.io/@0u33W-OOTm2AI2VgNuXi3Q/SJuvGlArC).\n",
    "> > \n",
    "> > Knowledge of how to use git clone, git status, git add, git commit, git push.\n",
    "> > \n",
    "> [Python Bootcamp 102](https://hackmd.io/@0u33W-OOTm2AI2VgNuXi3Q/B134oH9mR).\n",
    ">> This is the topic covered in this notebook. This will provide a foundation of basic control flow in Python programming.\n"
   ]
  },
  {
   "cell_type": "markdown",
   "id": "79c4ccda-bb5e-4d0b-9121-4413c5db1860",
   "metadata": {},
   "source": [
    "### You should be __leaving__ this lesson with ...\n",
    "* The ability to read Python flow control statements and understand what they are doing (i.e., what the desired output will be).\n",
    "* use statements for __Control flow__ within your code including the use of: `if`, `else`, `elif`, `for loops`, and `while loops`."
   ]
  },
  {
   "cell_type": "code",
   "execution_count": null,
   "id": "81c2c094-33a3-4414-97d1-d5f8bc099329",
   "metadata": {},
   "outputs": [],
   "source": []
  },
  {
   "cell_type": "markdown",
   "id": "b179aff2-47ee-4f29-ad03-7ef42f4bc353",
   "metadata": {},
   "source": [
    "#### The term __Control Flow__ in programming refers to __the order__ in which individual statements are executed or evaluated. The __control flow__ of a Python program is regulated by conditional statements (`if`, `while`, `if else` `if elif else`), loops (`for` loops, `while` loops), and function calls. \n",
    "\n",
    "#### You can think of control flow as your _\"recipe\"_ as if you were cooking your dinner. There is a particular order in which you need to complete tasks and combine ingredients to create your desired dish. Imagine we wanted to cook up some Cauliflower Bacon Mac n Cheese."
   ]
  },
  {
   "cell_type": "markdown",
   "id": "7d5a88c7-9f1a-4df1-ac3a-3247e26dbdb3",
   "metadata": {},
   "source": [
    "![](https://img.hellofresh.com/hellofresh_s3/image/cauliflower-bacon-mac-n-cheese-bda3eb35.jpg)"
   ]
  },
  {
   "cell_type": "markdown",
   "id": "f2dc4d97-bdf6-4b61-b7e1-370b359d1ac0",
   "metadata": {},
   "source": [
    "#### __To create the dish in the image above, we must follow the instructions below__.\n",
    "\n",
    "1. Wash and dry all produce. \n",
    "2. Preheat oven to 400 degrees. \n",
    "3. Bring a large pot of salted water to a boil. \n",
    "4. Thinly slice scallions, keeping greens and whites separate. \n",
    "5. Toss cauliflower on a baking sheet with a large drizzle of olive oil and a pinch of salt and pepper. \n",
    "6. Roast in oven until tender, 20-25 minutes.\n",
    "7. Once water is boiling, add cavatappi to pot. \n",
    "8. Cook, stirring occasionally, until al dente, 9-11 minutes. \n",
    "9. Drain.\n",
    "10. Heat a large pan over medium-high heat (use an ovenproof pan if you have one). \n",
    "11. Add bacon and cook, turning occasionally, until just browned and crispy, 4-6 minutes. \n",
    "12. Remove from pan and set aside to drain on paper towels. \n",
    "13. Pour out all but 1 tsp grease in pan.\n",
    "14. Crumble bacon into small pieces with hands. \n",
    "15. Stir bacon, cavatappi, and ¾ of the cauliflower into sauce in pan. \n",
    "    (TIP: __If__ your pan is not ovenproof, transfer mixture to a medium, lightly oiled baking dish at this point.\n",
    "16. Scatter remaining cauliflower over top. \n",
    "17. Bake in oven until bubbly, 5-7 minutes.\n",
    "18. Divide mac ’n’ cheese between plates. \n",
    "19. Garnish with scallion greens and serve."
   ]
  },
  {
   "cell_type": "markdown",
   "id": "4aa8fccb-a84c-4cec-b5f4-d09e558f4ef8",
   "metadata": {},
   "source": [
    "### There are certain steps in the recipe above that __must__ be done before others, i.e., to cook our mac 'n' cheese we must do things in a __certain order__.\n",
    "* Before we roast the cauliflower in the oven (Step 6), we first need to Preheat the oven (Step 2) --- otherwise it won't roast!\n",
    "* Before we add the pasta to the pot (Step 7), we must have first brought the water to a boil (Step 3).\n",
    "* Before we crumble bacon with our hands (Step 14), we must have first cooked the bacon (Step 11)."
   ]
  },
  {
   "cell_type": "markdown",
   "id": "6a301fc9-176c-4023-a1aa-551c42455cd0",
   "metadata": {},
   "source": [
    "### You should also notice in the recipe above that there are several `if` statements that allow for some flexibility in your recipe or different __possible flow of control__.\n",
    "* In step 10, `if` we had an ovenproof pan, we could have used that instead of a regular large pan.\n",
    "* In step 15, `if` we did not use an ovenproof pan we needed to transfer our mixture to a medium, lightly oiled baking dish. But `if` we did use an ovenproof pan, we could have skipped this step!\n",
    "\n",
    "#### You could imagine that you could introduce many more `if` statements into your recipe to customize it to an individuals preferences: \n",
    "* `if` you are a vegetarian, you could have used a substitute for bacon in step 11. \n",
    "* `if` you wanted to air-fry your cauliflower instead of baking it, you would have had a very different set of instructions regarding cooktime, etc."
   ]
  },
  {
   "cell_type": "markdown",
   "id": "94682690-85bb-4a72-8076-b38fd11fc57a",
   "metadata": {},
   "source": [
    "## if Statements\n",
    "#### The `if` statement evaluates an expression, and `if` that expression is `True`, it then executes the code that follows. The `if` statement is a __Conditional Statement__, i.e., it requires the result of the statement immediately after it to evaluate to `True` for the code to execute. When writing flow control statements, __indentation is mandatory__ and __code blocks__ are closed by identation."
   ]
  },
  {
   "cell_type": "code",
   "execution_count": null,
   "id": "d6cec6ca-74b4-4370-8726-f640998795d2",
   "metadata": {},
   "outputs": [],
   "source": [
    "name = 'Dr. Beadling'  # Define a variable called name that is equal to the string, Dr. Beadling\n",
    "\n",
    "if name == 'Dr. Beadling': # our statement that must evaluate to True for this code to execute, i.e., name MUST BE EQUAL TO DR. BEADLING\n",
    "    print('Hi, Dr. Beadling')"
   ]
  },
  {
   "cell_type": "markdown",
   "id": "7af214da-6211-46f1-b922-12d568586381",
   "metadata": {},
   "source": [
    "#### <span style=\"color:red\"> Change the value of the variable name in the first line of the cell above to your name, leave everything else unchanged. Execute the cell again - what is the result? Change it back to Dr. Beadling and run it again - what is the result? Remove the indent in front of the print statement and run it again - what is the result? \n",
    "\n",
    "#### <span style=\"color:red\"> In the cell below, write markdown text that explains the behavior observed in the steps above."
   ]
  },
  {
   "cell_type": "code",
   "execution_count": null,
   "id": "03a1467b-3f1c-4fa9-a134-bf50bad6a6ea",
   "metadata": {},
   "outputs": [],
   "source": []
  },
  {
   "cell_type": "markdown",
   "id": "57e18fe8-0ce6-4434-acae-f3670555dd8f",
   "metadata": {},
   "source": [
    "#### <span style=\"color:red\"> In the cell below, rewrite the code so that it returns __your name__ and execute the cell. Put comments next to each line that explains in _words_ what the statement says."
   ]
  },
  {
   "cell_type": "code",
   "execution_count": null,
   "id": "f4a3ff1f-177a-4082-b7e7-ba23511b731a",
   "metadata": {},
   "outputs": [],
   "source": []
  },
  {
   "cell_type": "markdown",
   "id": "4449a57a-63a0-4cc8-a97d-90bf02185b3c",
   "metadata": {},
   "source": [
    "### It is worth reviewing here from our hello_world.ipynb what our conditional statement options are:\n",
    "\n",
    "#### Comparison operators are used to compare values and evaluate down to a single Boolean value of either `True` or `False`:\n",
    "* #### `==` _Equal to_ : results in a `True` if the 2 operands are equal, and a `False` if unequal.\n",
    "* #### `!=` _Not equal to_ : results in a `True` if the 2 operands are unequal, and a `False` if equal.\n",
    "* #### `<` _Less than_ : results in a `True` if the first operand is smaller than the second, else a `False`.\n",
    "* #### `>` _Greater than_ : results in a `True` if the first operand is greater than the second, else a `False`.\n",
    "* #### `<=` _Less than or equal to_ : results in a `True` if the first operand is lesser than or equal to the second, else a `False`.\n",
    "* #### `>=` _Greater than or equal to_ : results in a `True` if the first operand is greater than or equal to the second, else a `False`."
   ]
  },
  {
   "cell_type": "code",
   "execution_count": null,
   "id": "c9c7b65d-408f-499d-9661-eef0e2189d45",
   "metadata": {},
   "outputs": [],
   "source": [
    "if name != 'George':\n",
    "    print('You are not George')"
   ]
  },
  {
   "cell_type": "markdown",
   "id": "25074199-e210-408f-af0d-ccb912f5dd36",
   "metadata": {},
   "source": [
    "#### <span style=\"color:red\"> Put comments next to each line in the code cell above that explains in _words_ what the statement says. As Markdown in the cell below, describe why did we __not__ have to define our name variable again. What is the current value of your name variable? Change it to your name if it is not!"
   ]
  },
  {
   "cell_type": "code",
   "execution_count": null,
   "id": "9caca3b9-b785-4312-8cde-6e371c2d2969",
   "metadata": {},
   "outputs": [],
   "source": []
  },
  {
   "cell_type": "markdown",
   "id": "9ade9c6d-dfb9-407e-a89b-994491bd5d11",
   "metadata": {},
   "source": [
    "#### What if we wanted an option to say _something_ instead of returning nothing if the name is not ours? i.e., we want more possible options in our recipe. \n",
    "\n",
    "#### We can use an `else` statement in combination with `if` that will execute the code following `else` if the statment following the `if` statement evaluates to `False`."
   ]
  },
  {
   "cell_type": "code",
   "execution_count": null,
   "id": "590c8ced-8821-45f7-a285-bc878cde5ec3",
   "metadata": {},
   "outputs": [],
   "source": [
    "name = 'George'  # assign value 'George' to variable name.\n",
    "\n",
    "if name == 'Dr. Beadling':    # our statement must evaluate to True for this code below to execute.\n",
    "    print('Hi, Dr. Beadling.')\n",
    "else:                         # if the statement following `if` above evaluates to False, THEN do this.\n",
    "    print('You are not Dr. Beadling')"
   ]
  },
  {
   "cell_type": "markdown",
   "id": "43fdfcf0-165a-424f-87ed-d3b64f7f85f4",
   "metadata": {},
   "source": [
    "#### We can use an `elif` statement in combination with an `if` statement or in combination with `if` and `else` to add more possible outcomes to our code. `elif` stands for \"else if\", i.e, similar to `else`, the code following the `elif` will execute if the statement following `if` evaluates to `False` __and__ the statement following `elif` evaluates to `True`.\n",
    "\n",
    "#### <span style=\"color:red\"> Explore what happens in the code below if you switch the name from George to Nancy. Do you understand why this occurs?"
   ]
  },
  {
   "cell_type": "code",
   "execution_count": null,
   "id": "8bbd88cd-60be-4bcd-aabc-7e7c4a14ef53",
   "metadata": {},
   "outputs": [],
   "source": []
  },
  {
   "cell_type": "code",
   "execution_count": null,
   "id": "b041fc91-7731-44b1-b039-ec300ab5a63b",
   "metadata": {},
   "outputs": [],
   "source": [
    "name = 'George' # assign value 'George' to variable name\n",
    "\n",
    "if name == 'Debora': # our statement must evaluate to True for this code below to execute.\n",
    "    print('Hi Debora!') \n",
    "elif name == 'George': # our statement must evaluate to True for this code below to execute.\n",
    "    print('Hi George!')"
   ]
  },
  {
   "cell_type": "markdown",
   "id": "cd5f8f50-eaa7-4ac7-b060-ac76d829c011",
   "metadata": {},
   "source": [
    "#### <span style=\"color:red\"> Before you run the cell below, make a prediction of what the result will be. Explain why."
   ]
  },
  {
   "cell_type": "code",
   "execution_count": null,
   "id": "a24d5d9f-f0ae-4041-8d2b-512c0f3cbb66",
   "metadata": {},
   "outputs": [],
   "source": []
  },
  {
   "cell_type": "code",
   "execution_count": null,
   "id": "c56574f0-7241-4415-a8db-8aeb2ec88cfd",
   "metadata": {},
   "outputs": [],
   "source": [
    "name = 'Dr. Beadling'\n",
    "\n",
    "if name == 'Debora':\n",
    "    print('Hi Debora!')\n",
    "elif name == 'George':\n",
    "    print('Hi George!')\n",
    "else:\n",
    "    print('Who are you?')"
   ]
  },
  {
   "cell_type": "code",
   "execution_count": null,
   "id": "aaf65020-c94e-4621-9eb3-7ed21e4aaaf3",
   "metadata": {},
   "outputs": [],
   "source": [
    "x = 100\n",
    "if x > 0:\n",
    "    print('Positive Number')\n",
    "elif x < 0:\n",
    "    print('Negative Number')\n",
    "else:\n",
    "    print ('Zero!')"
   ]
  },
  {
   "cell_type": "markdown",
   "id": "dae0a0a1-709d-4159-8e2f-189d12907ce7",
   "metadata": {},
   "source": [
    "#### We can nest `if` statements within `if` statements. Remember that indentation is mandatory!!!"
   ]
  },
  {
   "cell_type": "code",
   "execution_count": null,
   "id": "b8a5a7ed-5930-409e-b857-7c03fcb017b6",
   "metadata": {},
   "outputs": [],
   "source": [
    "if x > 0:\n",
    "    print('Positive Number')\n",
    "    if x >= 100:\n",
    "        print('Huge number!')"
   ]
  },
  {
   "cell_type": "markdown",
   "id": "020cfd0e-e0fb-4e0c-95eb-285c3f88fe10",
   "metadata": {},
   "source": [
    "#### Voila! That is basic, yet powerful, Control Flow in Python!"
   ]
  },
  {
   "cell_type": "markdown",
   "id": "6fbb557e-0568-4652-b148-d693d2779110",
   "metadata": {},
   "source": [
    "#### <span style=\"color:red\"> Take 5 minutes and write three progams (in 3 code cells below) that incorporate `if`, `else`, and / or `elif` statements to produce a desired outcome. We have used mostly `str` data types so far in our examples, but incorporate another one of Python's data types in one of your programs. Accompanying your code, write using either comments within the code cell, or Markdown above the cell, what your code does, describing each line. Explain your code to the person sitting next to you after you are done."
   ]
  },
  {
   "cell_type": "code",
   "execution_count": null,
   "id": "5a6eed4c-f55c-4705-8107-072604dfe29b",
   "metadata": {},
   "outputs": [],
   "source": []
  },
  {
   "cell_type": "code",
   "execution_count": null,
   "id": "35e72a0b-9f91-425d-96c5-75524fc749b2",
   "metadata": {},
   "outputs": [],
   "source": []
  },
  {
   "cell_type": "code",
   "execution_count": null,
   "id": "f564abe2-f684-494a-85be-cf4d4ecfd710",
   "metadata": {},
   "outputs": [],
   "source": []
  },
  {
   "cell_type": "markdown",
   "id": "67358e71-aaa1-498a-9bbd-56a8351bdc98",
   "metadata": {},
   "source": [
    "### The power of __looping__.\n",
    "#### Python has two primitive loop commands:\n",
    "* `while` loops\n",
    "* `for` loops\n",
    "\n",
    "#### A loop is powerful because it allows for __repeated execution__ of code. This means that the code is continually repeated __until a certain condition__, defined by the user, is reached. Imagine that you could have your computer do something a thousand times, but you only have to press a button once!"
   ]
  },
  {
   "cell_type": "markdown",
   "id": "1cbc3861-a3e6-4543-ba25-0c19b321dc31",
   "metadata": {},
   "source": [
    "### While Statements / Loops\n",
    "#### The `while` statement is used for __repeated execution__ of statements as long as the expression being evaluated is `True`. Just like any other Control Flow statement, indentation is mandatory!! The `while` loop requires relevant variables to be ready, in the example below we need to define an __indexing variable__, planets, which we set initially to 0."
   ]
  },
  {
   "cell_type": "code",
   "execution_count": null,
   "id": "54bb7fb2-22d6-45e7-b2d0-e207ae2420e4",
   "metadata": {},
   "outputs": [],
   "source": [
    "planets = 0                # define a variable planet that is equal to zero (0)\n",
    "while planets < 8:             # while the value of planet is LESS THAN (<) 8, do the following ..\n",
    "    print('planets')            # print the word planet\n",
    "    planets = planets + 1      # THEN take the value of planet and add 1 to it, i.e., INCREMENT by 1"
   ]
  },
  {
   "cell_type": "markdown",
   "id": "3995e499-9c99-4a9b-90e0-70ed78a5c6cb",
   "metadata": {},
   "source": [
    "#### In words, the code above does the following:"
   ]
  },
  {
   "cell_type": "markdown",
   "id": "0b7bbd2a-9480-4d33-aa61-9b2d56e6e169",
   "metadata": {},
   "source": [
    "* define a variable named planets and set it equal to 1\n",
    "* while the value of 'planets' is less than 8, do the following:\n",
    "* print the word 'planet'\n",
    "* set the variable planets equal to the current value of planets plus 1.\n",
    "* Now repeat the same exact steps above, but for the new value of planets.\n",
    "* Repeat UNTIL the value of planets is NO LONGER < 8 (i.e., execution of the code will stop when planets < 8 is `False`)\n",
    "\n",
    "### The last point here where we increment a variable by 1 and update the original value is a __key concept__ to grasp. Take a minute a work through __by hand__ each step of the code above."
   ]
  },
  {
   "cell_type": "markdown",
   "id": "9d0f003c-04b2-46c5-a591-9d8fa9af5cd2",
   "metadata": {},
   "source": [
    "#### <span style=\"color:red\"> If we changed our initial value of `planets` in the example code above to 5, how many times would planets would be printed out? Make a prediction and then test your code. Place your answer in the cell below."
   ]
  },
  {
   "cell_type": "code",
   "execution_count": null,
   "id": "79a6bd80-d909-4dd3-adde-c3bf0ae2a070",
   "metadata": {},
   "outputs": [],
   "source": []
  },
  {
   "cell_type": "markdown",
   "id": "b1410720-b572-4019-8ed6-34c03f978c1b",
   "metadata": {},
   "source": [
    "#### Another `while` loop example using integer values:"
   ]
  },
  {
   "cell_type": "code",
   "execution_count": null,
   "id": "32f61fa2-4f7b-4f67-a6e9-f9030501f6a6",
   "metadata": {},
   "outputs": [],
   "source": [
    "i = 1\n",
    "while i < 6:\n",
    "  print(i)\n",
    "  i = i+1"
   ]
  },
  {
   "cell_type": "markdown",
   "id": "e281e72f-6d6c-4572-b234-f16dd27c51f8",
   "metadata": {},
   "source": [
    "#### A short notation for writing the increment operation is shown in the code below. Instead of writing out `planets = planets + 1`, we can write `planets += 1` and achieve the same behavior. You will often encounter it written this way."
   ]
  },
  {
   "cell_type": "code",
   "execution_count": null,
   "id": "d274ae8a-d800-488b-aa06-e36183b4958d",
   "metadata": {},
   "outputs": [],
   "source": [
    "planets = 0                # define a variable planet that is equal to zero (0)\n",
    "while planets < 8:         # while the value of planet is LESS THAN (<) 8, do the following ..\n",
    "    print('planets')       # print the word planet\n",
    "    planets += 1           # THEN take the value of planet and add 1 to it, i.e., INCREMENT by 1"
   ]
  },
  {
   "cell_type": "markdown",
   "id": "be55e648-626b-4908-bac9-7f0bc8b6ee02",
   "metadata": {},
   "source": [
    "## For Statements / Loops"
   ]
  },
  {
   "cell_type": "markdown",
   "id": "60d27e23-93f3-40c6-9d28-576bad223c69",
   "metadata": {},
   "source": [
    "#### A `for` loop is used for __iterating over a sequence__ (that is either a `list`, a `tuple`, a `dictionary`, a `set`, or a `string`). Within a `for` loop, we can execute a set of statements, __once for each item (element)__ in a list, tuple, string etc."
   ]
  },
  {
   "cell_type": "markdown",
   "id": "c5220767-08c6-4d95-adc7-73f2eaefe598",
   "metadata": {},
   "source": [
    "#### The following code prints each element in the list `fruits`:"
   ]
  },
  {
   "cell_type": "code",
   "execution_count": null,
   "id": "2ec0deba-6a08-495a-98f2-ad0cddf50f8e",
   "metadata": {},
   "outputs": [],
   "source": [
    "fruits = [\"apple\", \"banana\", \"cherry\"] # define a variable fruits that is equal to the following list\n",
    "for x in fruits:                       # for every element, x, inside of the list fruits ... do the following\n",
    "  print(x)                             # print the element"
   ]
  },
  {
   "cell_type": "markdown",
   "id": "2f93fdb5-d8ca-4055-b8ba-0fa1255a4438",
   "metadata": {},
   "source": [
    "#### An important (and initially confusing!) point to note:\n",
    "* the variable `x` in the code above is just an arbitrary variable that represents each element in the sequence. You could change this to element, or, y, or z, or beadling, or climate, or even fruits. It does not matter, it just represents an element!\n",
    "Note in the below that you can change this variable to any name!"
   ]
  },
  {
   "cell_type": "code",
   "execution_count": null,
   "id": "ca818897-89e2-4082-99a2-7082f5833322",
   "metadata": {},
   "outputs": [],
   "source": [
    "fruits = [\"apple\", \"banana\", \"cherry\"]        # define a variable fruits that is equal to the following list\n",
    "for elements in fruits:                       # for each element, x, inside of the list fruits ... do the following\n",
    "  print(elements)                             # print the element"
   ]
  },
  {
   "cell_type": "markdown",
   "id": "8aa25765-2dd6-4a2b-9076-bb30b379a3b4",
   "metadata": {},
   "source": [
    "#### Even strings are iterable objects, they contain a sequence of characters:"
   ]
  },
  {
   "cell_type": "code",
   "execution_count": null,
   "id": "b47dc965-6f04-4804-8a80-54b2fc191f74",
   "metadata": {},
   "outputs": [],
   "source": [
    "for x in \"climate\":\n",
    "  print(x)"
   ]
  },
  {
   "cell_type": "markdown",
   "id": "1f08c165-c087-4dd4-b121-74fb7b1cfef4",
   "metadata": {},
   "source": [
    "#### Using `else` inside of a `for` or `while` loop specifies a block of code to be executed when the loop is finished:"
   ]
  },
  {
   "cell_type": "code",
   "execution_count": null,
   "id": "75dc247a-9e5b-4ef9-8052-d645b92b9987",
   "metadata": {},
   "outputs": [],
   "source": [
    "i = 0\n",
    "while i < 4:\n",
    "    print(i)\n",
    "    i += 1\n",
    "else:\n",
    "    print(\"i is no longer less than 4\")"
   ]
  },
  {
   "cell_type": "code",
   "execution_count": null,
   "id": "abc7ee84-d847-41e4-b97f-9207dc9ec644",
   "metadata": {},
   "outputs": [],
   "source": [
    "for x in \"climate modeling\":\n",
    "    print(x)\n",
    "else:\n",
    "    print()                     ## adds a space between the letters and the statement below.\n",
    "    print(\"The word is done!\")  ## print the string in the \"\"."
   ]
  },
  {
   "cell_type": "markdown",
   "id": "e2b1f98a-046a-40e8-8365-ee9fd7c90b81",
   "metadata": {},
   "source": [
    "#### <span style=\"color:red\"> Take 5 minutes and write 4 different progams, 2 while loops and 2 for loops in the code cells below. Accompanying your code, write using either comments within the code cell, or Markdown above the cell, what your code does, describing each line. Explain your code to the person sitting next to you after you are done."
   ]
  },
  {
   "cell_type": "code",
   "execution_count": null,
   "id": "61742b41-78d0-4827-be5e-8b697575a899",
   "metadata": {},
   "outputs": [],
   "source": []
  },
  {
   "cell_type": "code",
   "execution_count": null,
   "id": "b6922f95-9590-45ac-a935-96fad90d0277",
   "metadata": {},
   "outputs": [],
   "source": []
  },
  {
   "cell_type": "code",
   "execution_count": null,
   "id": "d8911184-26f9-49ff-b07e-7a04be541bdd",
   "metadata": {},
   "outputs": [],
   "source": []
  },
  {
   "cell_type": "code",
   "execution_count": null,
   "id": "accf4b05-3fba-423c-9b9c-e912a16cd022",
   "metadata": {},
   "outputs": [],
   "source": []
  }
 ],
 "metadata": {
  "kernelspec": {
   "display_name": "Python 3 (ipykernel)",
   "language": "python",
   "name": "python3"
  },
  "language_info": {
   "codemirror_mode": {
    "name": "ipython",
    "version": 3
   },
   "file_extension": ".py",
   "mimetype": "text/x-python",
   "name": "python",
   "nbconvert_exporter": "python",
   "pygments_lexer": "ipython3",
   "version": "3.11.9"
  }
 },
 "nbformat": 4,
 "nbformat_minor": 5
}
