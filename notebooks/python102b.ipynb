{
 "cells": [
  {
   "cell_type": "markdown",
   "id": "1e5a8215-0853-4154-9139-e90aa243a02a",
   "metadata": {},
   "source": [
    "### This notebook goes over the syntax and utility of Python __functions__.\n",
    "\n",
    "__Author__: Rebecca L. Beadling. For any questions regarding the contents of this notebook please contact rebecca.beadling@temple.edu."
   ]
  },
  {
   "cell_type": "markdown",
   "id": "10de0e22-f9ec-4abf-bfb7-733962aa17e2",
   "metadata": {
    "jp-MarkdownHeadingCollapsed": true
   },
   "source": [
    "### You should be __entering__ this lesson with ...\n",
    "* Having completely worked through `python101.ipynb` and `jupyter101.ipynb`.\n",
    "* Having read:\n",
    "> [Intro to jupyter](https://hackmd.io/@0u33W-OOTm2AI2VgNuXi3Q/Hyhg7nmsC).\n",
    "> > Knowledge of the fundamentals of the structure of a Jupyter notebook including how to execute cells, cell types, how to format Markdown cells, and the usefulness of including Markdown throughout your notebooks for descriptive documentation.\n",
    "> > \n",
    "> [Python Bootcamp 101](https://hackmd.io/@0u33W-OOTm2AI2VgNuXi3Q/r1n037VgC).\n",
    "> > Python fundamentals including import statements, data types, basic arithematic operations, logical (boolean) operators, indexing (remember our first element is always [0] in Python!!)\n",
    "> > \n",
    "> [Incorpating Git & GitHub into your Daily Workflow](https://hackmd.io/@0u33W-OOTm2AI2VgNuXi3Q/SJuvGlArC).\n",
    "> > \n",
    "> > Knowledge of how to use git clone, git status, git add, git commit, git push.\n",
    "> > \n",
    "> [Python Bootcamp 102](https://hackmd.io/@0u33W-OOTm2AI2VgNuXi3Q/B134oH9mR).\n",
    ">> This will provide a foundation of basic control flow in Python programming with a discussion of functions at the end."
   ]
  },
  {
   "cell_type": "markdown",
   "id": "33c8c879-2f10-41bc-84e0-c4b1428d649a",
   "metadata": {
    "tags": []
   },
   "source": [
    "### You should be __leaving__ this lesson with ...\n",
    "* An understanding of the syntax of a __function__ within Python including __defining functions__ and for __calling the function__.\n",
    "* The ability to write basic functions, which contain control flow statements, that return a desired result."
   ]
  },
  {
   "cell_type": "code",
   "execution_count": null,
   "id": "0b8ebd10-9e4d-4059-aa4b-16d0eb95318f",
   "metadata": {},
   "outputs": [],
   "source": [
    "%matplotlib inline                           \n",
    "%config InlineBackend.figure_format='retina' \n",
    "plt.rcParams['figure.figsize'] = 12,6"
   ]
  },
  {
   "cell_type": "markdown",
   "id": "34a9452e-888d-4d93-9ee4-81a2bda4195c",
   "metadata": {
    "tags": []
   },
   "source": [
    "![](https://img.hellofresh.com/hellofresh_s3/image/cauliflower-bacon-mac-n-cheese-bda3eb35.jpg)"
   ]
  },
  {
   "cell_type": "markdown",
   "id": "b82fa3bf-56fd-4905-8bf9-3aae7e948045",
   "metadata": {},
   "source": [
    "#### __To create the dish in the image above, we must follow the instructions below__.\n",
    "\n",
    "1. Wash and dry all produce. \n",
    "2. Preheat oven to 400 degrees. \n",
    "3. Bring a large pot of salted water to a boil. \n",
    "4. Thinly slice scallions, keeping greens and whites separate. \n",
    "5. Toss cauliflower on a baking sheet with a large drizzle of olive oil and a pinch of salt and pepper. \n",
    "6. Roast in oven until tender, 20-25 minutes.\n",
    "7. Once water is boiling, add cavatappi to pot. \n",
    "8. Cook, stirring occasionally, until al dente, 9-11 minutes. \n",
    "9. Drain.\n",
    "10. Heat a large pan over medium-high heat (use an ovenproof pan if you have one). \n",
    "11. Add bacon and cook, turning occasionally, until just browned and crispy, 4-6 minutes. \n",
    "12. Remove from pan and set aside to drain on paper towels. \n",
    "13. Pour out all but 1 tsp grease in pan.\n",
    "14. Crumble bacon into small pieces with hands. \n",
    "15. Stir bacon, cavatappi, and ¾ of the cauliflower into sauce in pan. \n",
    "    (TIP: __If__ your pan is not ovenproof, transfer mixture to a medium, lightly oiled baking dish at this point.\n",
    "16. Scatter remaining cauliflower over top. \n",
    "17. Bake in oven until bubbly, 5-7 minutes.\n",
    "18. Divide mac ’n’ cheese between plates. \n",
    "19. Garnish with scallion greens and serve."
   ]
  },
  {
   "cell_type": "markdown",
   "id": "77851f08-58f6-415d-89c3-9ace04cddecd",
   "metadata": {},
   "source": [
    "# Defining Functions"
   ]
  },
  {
   "cell_type": "markdown",
   "id": "e74170ce-70aa-481f-ad86-c72c84edbdf0",
   "metadata": {},
   "source": [
    "### A very useful skill to develop as a scientist using computer programming is to learn to use and write __functions__. A function is a block of code that runs when it is __called__, which you can pass data into (input parameters, or \"arguments\") and it will __return__ a desired result or do something in response.\n",
    "\n",
    "### __Why are functions useful?__ Imagine you were developing some code that calculates something and you found yourself typing out the same lines of code over and over and over again. That is a waste of time (and space in your Jupyter Notebook) and exposes you to errors from copy and pasting or typing again and again.\n",
    "\n",
    "### We will just go over the basics here, but you should refer to this as your develop your skills in the class and build up the confidence to begin creating __elegant__ and __simple__ code.\n",
    "\n"
   ]
  },
  {
   "cell_type": "markdown",
   "id": "f0f714e3-7e20-4754-b6a0-dd1cde632582",
   "metadata": {},
   "source": [
    "#### In Python, functions are defined using the keyword `def` followed by the name of your function (my_first_function in the example below), closed parentheses (), and a colon (:).\n",
    "\n",
    "#### The code that your function will execute is indented below your `def` line.\n",
    "\n",
    "---"
   ]
  },
  {
   "cell_type": "markdown",
   "id": "eb88b9d9-ea64-4140-a0de-e3dddc2578a5",
   "metadata": {},
   "source": [
    "#### The function below is an example of a very basic function which does not take any input parameters (\"arguments\")"
   ]
  },
  {
   "cell_type": "code",
   "execution_count": null,
   "id": "618796a2-a74c-4dae-914b-f929a77c46db",
   "metadata": {
    "tags": []
   },
   "outputs": [],
   "source": [
    "#### This is a very basic example showing the syntax, but this function does not take any input parameters (\"arguments\").\n",
    "\n",
    "def my_first_function():                            # define our function\n",
    "    print(\"this is my first function, woohoo!\")     # execute the code"
   ]
  },
  {
   "cell_type": "markdown",
   "id": "25da1368-d90a-479e-bc51-5014819e61d0",
   "metadata": {},
   "source": [
    "#### Now to __call__ a function, meaning to run the code within the function, we must use the following syntax. We simply type the function name followed by closed parentheses:"
   ]
  },
  {
   "cell_type": "code",
   "execution_count": null,
   "id": "b176950a-71f0-4aea-b6a9-6831e8b43fc3",
   "metadata": {
    "tags": []
   },
   "outputs": [],
   "source": [
    "my_first_function()  ### Call function"
   ]
  },
  {
   "cell_type": "markdown",
   "id": "2c9c087a-3aa7-4830-b4c7-6137f7966017",
   "metadata": {},
   "source": [
    "#### The example above provides the basic syntax of defining and calling a function in Python, but what if we want to pass information (data) into a function and have it *do something* with that data? We have to pass __input parameters (\"arguments\")__ into the function and we need to define what input parameters the function accepts in our definition:"
   ]
  },
  {
   "cell_type": "markdown",
   "id": "628a5391-cbf0-49b8-8513-d3e7621424c7",
   "metadata": {},
   "source": [
    "---"
   ]
  },
  {
   "cell_type": "markdown",
   "id": "5bf56cd4-83b4-4ac2-8e3a-3fc4d6fbf2cd",
   "metadata": {},
   "source": [
    "#### The function below takes a variable identified as \"name\" as an input parameter."
   ]
  },
  {
   "cell_type": "code",
   "execution_count": null,
   "id": "8b598fa3-5982-4c6e-a344-b9141e19b6c3",
   "metadata": {
    "tags": []
   },
   "outputs": [],
   "source": [
    "def my_second_function(name):                              # define our function and the variable, name, as our input parameters\n",
    "    print(\"Hi\" + \" \" + name+\",\" + \" \" + \"this is your first function, woohoo!\")     # Use the variable name within our code."
   ]
  },
  {
   "cell_type": "markdown",
   "id": "7a37270d-813e-4791-996e-3fa3de6cdef7",
   "metadata": {},
   "source": [
    "#### <span style=\"color:red\"> Execute the code below. Describe in a markdown cell below what happens and why."
   ]
  },
  {
   "cell_type": "code",
   "execution_count": null,
   "id": "5f286236-ae50-4887-805f-40c4769e0af0",
   "metadata": {
    "tags": []
   },
   "outputs": [],
   "source": [
    "my_second_function()"
   ]
  },
  {
   "cell_type": "code",
   "execution_count": null,
   "id": "fbb6d2d5-0b08-4618-9de9-c370027a150f",
   "metadata": {
    "tags": []
   },
   "outputs": [],
   "source": [
    "my_first_function(\"Becki\")  ### Pass a string with a name in it to our function, my_first_function"
   ]
  },
  {
   "cell_type": "markdown",
   "id": "9e097930-5fe8-4a38-a3bf-cf528c92bda9",
   "metadata": {},
   "source": [
    "#### <span style=\"color:red\"> What if we try to pass the function two names?"
   ]
  },
  {
   "cell_type": "code",
   "execution_count": null,
   "id": "ad0a08df-f9d9-4e88-bafd-ecbba83bf478",
   "metadata": {
    "tags": []
   },
   "outputs": [],
   "source": [
    "my_second_function(\"Becki\",\"Beadling\")"
   ]
  },
  {
   "cell_type": "markdown",
   "id": "94d03224-bd0c-449c-be23-a0d679c3bab9",
   "metadata": {},
   "source": [
    "#### By default, a function must be called with the __correct number of arguments__. Meaning that if your function expects 2 arguments, you have to call the function with 2 arguments, not more, and not less. This is important, otherwise you will get an error as shown above!"
   ]
  },
  {
   "cell_type": "markdown",
   "id": "a06eb9a2-86a8-40c7-b690-b3e0de0f176c",
   "metadata": {
    "tags": []
   },
   "source": [
    "#### In the examples above, our code executes a print() statement, which my definition __returns__ a print out (as a string) of whatever is inside the ( ). But what if we wanted the code to execute a calculation and __return the result__ as a new variable that we could use?\n",
    "\n",
    "#### In this case, we need to issue a `return` statement at the end of our function with the syntax of `return variable`"
   ]
  },
  {
   "cell_type": "markdown",
   "id": "6a8a1243-53b3-429c-a164-67679bff7798",
   "metadata": {},
   "source": [
    "---"
   ]
  },
  {
   "cell_type": "markdown",
   "id": "987f734c-0276-4843-8c5f-4a7a7d8b198a",
   "metadata": {},
   "source": [
    "#### The function below takes a variable identified as \"temp_C\" as an input parameter, performs a calculation to convert the input value from Celcius to Kelvin and then __returns__ the resulting value."
   ]
  },
  {
   "cell_type": "code",
   "execution_count": null,
   "id": "ba69b6e6-4728-462a-b7f4-cfdeb8640ece",
   "metadata": {
    "tags": []
   },
   "outputs": [],
   "source": [
    "def convert_celcius_to_Kelvin(temp_C):  ## define our function name and input parameters\n",
    "    tempK = temp_C + 273.15             ## perform the calculation\n",
    "    return tempK                        ## return the value stored in our tempK variable."
   ]
  },
  {
   "cell_type": "code",
   "execution_count": null,
   "id": "9c4bf665-2f62-4b0d-b0b3-1c76aca91ddd",
   "metadata": {
    "tags": []
   },
   "outputs": [],
   "source": [
    "T_Kelvin = convert_celcius_to_Kelvin(5)  # Passes 5 into the convert_celcius_to_Kelvin function \n",
    "                                          # and saves the result as a new variable, T_Kelvin."
   ]
  },
  {
   "cell_type": "markdown",
   "id": "7af931c6-0ddf-45a4-a922-a373278b78bc",
   "metadata": {},
   "source": [
    "#### Note that immediately printing out the variables you assign / compute is an important habit to get into so that you are more aware of what you are doing as you develop your code. Typing our variable name below prints out the result."
   ]
  },
  {
   "cell_type": "code",
   "execution_count": null,
   "id": "f5629e56-4fb2-4b90-8a64-2ebeac494f57",
   "metadata": {
    "tags": []
   },
   "outputs": [],
   "source": [
    "T_Kelvin"
   ]
  },
  {
   "cell_type": "markdown",
   "id": "964c00ba-2271-4c57-9f83-ea0470ca7193",
   "metadata": {
    "tags": []
   },
   "source": [
    "#### __A function can return multiple variables__. The variables will be returned in the order in which they are called."
   ]
  },
  {
   "cell_type": "code",
   "execution_count": null,
   "id": "34370da9-40d9-4417-9c6e-3eb93c66ff87",
   "metadata": {
    "tags": []
   },
   "outputs": [],
   "source": [
    "def convert_celcius_to_Kelvin_2var(temp_C):\n",
    "    tempK = temp_C + 273.15\n",
    "    return tempK, temp_C                ## <--- This will return BOTH the tempK and tempC variables defined in the function."
   ]
  },
  {
   "cell_type": "code",
   "execution_count": null,
   "id": "ecc6632e-b67f-42b4-8ddb-86099ea2d3c0",
   "metadata": {
    "tags": []
   },
   "outputs": [],
   "source": [
    "T_Conversion = convert_celcius_to_Kelvin_2var(5)"
   ]
  },
  {
   "cell_type": "code",
   "execution_count": null,
   "id": "bf45fa8a-1daa-4719-9646-e69be0d2a204",
   "metadata": {
    "tags": []
   },
   "outputs": [],
   "source": [
    "T_Conversion"
   ]
  },
  {
   "cell_type": "markdown",
   "id": "46969c19-7bf1-4f2c-9d17-cb15f2c94df3",
   "metadata": {},
   "source": [
    "#### Note that when a function returns multiple arguments, it will return them as elements inside of a `tuple`, indicated by the `( )`."
   ]
  },
  {
   "cell_type": "markdown",
   "id": "e3a9c522-720d-4a07-846d-c4c385abe052",
   "metadata": {},
   "source": [
    "#### Recall the definition of a `tuple`, in our python101.ipynb. A `tuple` is a collection of elements inside ( ), similar to a `list` enclosed in [ ], but it is unchangeable (immutable!). We can index and slice a `tuple` just like a `list`, but we cannot modify the contents."
   ]
  },
  {
   "cell_type": "markdown",
   "id": "7f4051c7-19b7-465c-a7c8-e4ace13aaa1c",
   "metadata": {},
   "source": [
    "#### <span style=\"color:red\"> Take a few minutes and review our lesson in idexing and slicing a `list` and write code in the cell below that defines a variable called Kelvin that is equal to the appropriate variable returned by T_Conversion. Repeat for a variable called Celcius. Chat with the person next to you if you have difficulties."
   ]
  },
  {
   "cell_type": "code",
   "execution_count": null,
   "id": "85a8c32e-714e-4272-8e27-3a87a05fa7e3",
   "metadata": {
    "tags": []
   },
   "outputs": [],
   "source": [
    "Kelvin = \n",
    "Celcius = "
   ]
  },
  {
   "cell_type": "markdown",
   "id": "ec44d039-bbf7-4337-8d1c-1756327b006e",
   "metadata": {},
   "source": [
    "#### <span style=\"color:red\"> In the space below, create a function that takes a temperature in Celcius and returns the temperature in Celcius, Fahreheit, and Kelvin. In cells below your function, Convert 55 Celcius and display the result in Kelvin, and Fahrenheit."
   ]
  },
  {
   "cell_type": "code",
   "execution_count": null,
   "id": "640c1055-b0fb-4f02-a85a-023d55d88db3",
   "metadata": {
    "tags": []
   },
   "outputs": [],
   "source": []
  },
  {
   "cell_type": "code",
   "execution_count": null,
   "id": "6cce8675-0aa4-4b22-b46d-511a3431f97c",
   "metadata": {},
   "outputs": [],
   "source": []
  },
  {
   "cell_type": "markdown",
   "id": "2ba5c088-76c3-4bcb-85ee-2df87bb7a854",
   "metadata": {},
   "source": []
  },
  {
   "cell_type": "markdown",
   "id": "500db734-a101-4152-a2bb-617f78d86e41",
   "metadata": {},
   "source": [
    "### A bit more sophistication: a function can take user specified options as arguments.\n",
    "#### In the example below, the first argument is the input temperature, the second argument is the user specific units to convert to. By default the function will evaluate using Kelvin, unless the user specifies the `to_units` variable as `degrees F`. This function utlizes `if` statements which can be reviewed in the `python102a.ipynb`."
   ]
  },
  {
   "cell_type": "code",
   "execution_count": null,
   "id": "81ec3287-38d6-4d96-ab34-d546f8a00a0b",
   "metadata": {
    "tags": []
   },
   "outputs": [],
   "source": [
    "def convert_celcius(temp, to_units='Kelvin'): \n",
    "    if to_units == 'Kelvin' :\n",
    "        new_temp = temp + 273.15\n",
    "    if to_units == 'degrees F' :\n",
    "        new_temp = temp * (9/5) + 32 \n",
    "\n",
    "    return new_temp"
   ]
  },
  {
   "cell_type": "code",
   "execution_count": null,
   "id": "1f8fdaf5-c1df-4ce9-8d7e-7f02089a7191",
   "metadata": {
    "tags": []
   },
   "outputs": [],
   "source": [
    "convert_celcius(36, to_units='degrees F')"
   ]
  },
  {
   "cell_type": "code",
   "execution_count": null,
   "id": "84489c9f-dbfd-44c6-bb15-ca57d10dc94a",
   "metadata": {
    "tags": []
   },
   "outputs": [],
   "source": [
    "convert_celcius(36, to_units='Kelvin')"
   ]
  },
  {
   "cell_type": "markdown",
   "id": "5122be5f-43f4-4c5a-b98a-7985fbe315aa",
   "metadata": {},
   "source": [
    "#### It is __very good practice__ to include a __docstring__ at the top of all of your functions that you write, particularly when they are more complex so that you and your collaborators or users of your code know exactly what input parameters your function requires and what it returns. See below for an example. The descriptive text is enclosed in `\"\"\" \"\"\"` at the top of the function. All the text within the `\"\"\" \"\"\"` is ignored during the execution of the code, serving just like a #."
   ]
  },
  {
   "cell_type": "code",
   "execution_count": null,
   "id": "ba6f7a96-6ebe-421d-8c20-cf24cac2065f",
   "metadata": {
    "tags": []
   },
   "outputs": [],
   "source": [
    "def convert_celcius(temp, to_units='Kelvin'): \n",
    "    \n",
    "    \"\"\" \n",
    "    This function converts degrees Celcius to \n",
    "    to either degrees F or Kelvin depending on\n",
    "    user specified input\n",
    "    \n",
    "    Parameters\n",
    "    ----------\n",
    "    input : temp (int)\n",
    "    input : to_units (str), accepts 'Kelvin' or 'degrees F'\n",
    "    \n",
    "    Returns\n",
    "    -------\n",
    "    output: new_temp (int)\n",
    "    \n",
    "    \"\"\"\n",
    "    \n",
    "    if to_units == 'Kelvin' :\n",
    "        new_temp = temp + 273.15\n",
    "    if to_units == 'degrees F' :\n",
    "        new_temp = temp * (9/5) + 32 \n",
    "\n",
    "    return new_temp"
   ]
  },
  {
   "cell_type": "code",
   "execution_count": null,
   "id": "b1ffb7ab-c0be-4e4a-b43e-dd8dad7985c0",
   "metadata": {
    "tags": []
   },
   "outputs": [],
   "source": [
    "convert_celcius(36, to_units='degrees F')"
   ]
  },
  {
   "cell_type": "markdown",
   "id": "76cd3b0e-8faf-4491-b23b-dcb2c641efbf",
   "metadata": {},
   "source": [
    "### Example of using a function to set up a plot, which you will encounter in unit3."
   ]
  },
  {
   "cell_type": "code",
   "execution_count": null,
   "id": "750dcbe9-24b5-4142-bad5-e34e49cd3ace",
   "metadata": {},
   "outputs": [],
   "source": [
    "from cartopy import crs as ccrs, feature as cfeature        ## for plotting geo spatial data\n",
    "import cmocean                    ## for nice colormaps.\n",
    "import matplotlib.path as mpath   ## needed for nice looking polar projections.\n",
    "import matplotlib.pyplot as plt\n",
    "import xarray as xr\n",
    "import numpy as np\n",
    "import zarr"
   ]
  },
  {
   "cell_type": "code",
   "execution_count": null,
   "id": "099bcbb0-14fb-4f36-80e1-ed8bbc0106e5",
   "metadata": {},
   "outputs": [],
   "source": [
    "ees_climate_dir = 'C:/Users/TU_Climate24_Student/Desktop/ees_climate/'\n",
    "seaice_observations = xr.open_zarr(ees_climate_dir+'unit3/data/seaice_concentration_data')"
   ]
  },
  {
   "cell_type": "code",
   "execution_count": null,
   "id": "f9c21fdf-9685-4b11-9a91-7dce8ae9b8a1",
   "metadata": {},
   "outputs": [],
   "source": [
    "def North_Polar(array,vmin,vmax,cmap):\n",
    "    subplot_kws = dict(projection=ccrs.NorthPolarStereo()) \n",
    "    fig, ax = plt.subplots(figsize=[10, 5],subplot_kw=subplot_kws)\n",
    "    \n",
    "    array.plot(ax=ax,\n",
    "               transform =ccrs.PlateCarree(),\n",
    "               vmin=vmin,\n",
    "               vmax=vmax,\n",
    "               extend='both',\n",
    "               cmap=cmap,levels=30)\n",
    "\n",
    "    # Limit the map to -50 degrees latitude and below.\n",
    "    ax.set_extent([-180, 180, 50, 90], ccrs.PlateCarree())\n",
    "    \n",
    "    # Compute a circle in axes coordinates, which we can use as a boundary\n",
    "    # for the map. We can pan/zoom as much as we like - the boundary will be\n",
    "    # permanently circular.\n",
    "    \n",
    "    theta = np.linspace(0, 2*np.pi, 100)\n",
    "    center, radius = [0.5, 0.5], 0.5\n",
    "    verts = np.vstack([np.sin(theta), np.cos(theta)]).T\n",
    "    circle = mpath.Path(verts * radius + center)\n",
    "\n",
    "    ax.set_boundary(circle, transform=ax.transAxes)\n",
    "    ax.coastlines()"
   ]
  },
  {
   "cell_type": "code",
   "execution_count": null,
   "id": "0ed4036c-2ef3-45d3-85c1-f183e6213497",
   "metadata": {},
   "outputs": [],
   "source": [
    "North_Polar(seaice_observations.icec.isel(time=0),0,1,cmap=cmocean.cm.ice)"
   ]
  },
  {
   "cell_type": "markdown",
   "id": "6c54ad4e-d8e7-4c38-ae47-71f57b84742d",
   "metadata": {},
   "source": [
    "## <span style=\"color:red\"> Complete the excercises below to refine your skills and understanding. "
   ]
  },
  {
   "cell_type": "markdown",
   "id": "27147a18-c1d2-4532-8e31-d3c8c49ca480",
   "metadata": {},
   "source": [
    "#### <span style=\"color:red\"> In the space below, create a function takes a number as input and returns its square. You must include a docstring at the start of your function. In cell below your function, run it and make sure it returns the desired result."
   ]
  },
  {
   "cell_type": "code",
   "execution_count": null,
   "id": "166f25ab-a996-4ea8-905a-6d9b6310d7d9",
   "metadata": {},
   "outputs": [],
   "source": []
  },
  {
   "cell_type": "markdown",
   "id": "fed99889-1c12-424a-8828-9aaec4d94e04",
   "metadata": {},
   "source": [
    "#### <span style=\"color:red\"> In the space below, write a function to convert from miles to kilometers (km) and km to miles, with the user specifying either miles or km as inputs. Check that the results are sensible by trying several examples."
   ]
  },
  {
   "cell_type": "code",
   "execution_count": null,
   "id": "283ba793-7e9b-4bb5-a894-31256be4ca3c",
   "metadata": {},
   "outputs": [],
   "source": []
  },
  {
   "cell_type": "markdown",
   "id": "ef88d6d3-628d-4243-b497-6c6595e4f076",
   "metadata": {},
   "source": [
    "#### <span style=\"color:red\"> In the cell below, use your function to determine the length of a 5K race in miles."
   ]
  },
  {
   "cell_type": "code",
   "execution_count": null,
   "id": "22210b9e-b741-44f4-84b0-8ab7c1360920",
   "metadata": {},
   "outputs": [],
   "source": []
  },
  {
   "cell_type": "markdown",
   "id": "45783fde-003c-4e9d-ac03-e4ec65b76777",
   "metadata": {},
   "source": [
    "#### <span style=\"color:red\"> Write a function that takes that takes one argument (height in meters) and returns two arguments (feet and inches)."
   ]
  },
  {
   "cell_type": "code",
   "execution_count": null,
   "id": "361378a6-1bdb-4179-a4b1-7d6834d0c6ca",
   "metadata": {},
   "outputs": [],
   "source": []
  },
  {
   "cell_type": "markdown",
   "id": "a3409cd0-ed33-41ab-aa03-fbccaa4d692a",
   "metadata": {},
   "source": [
    "#### <span style=\"color:red\"> Write a function that computes and returns the surface area of a sphere in square meters. Then use this function to determine the surface area of the Sun and Earth."
   ]
  },
  {
   "cell_type": "code",
   "execution_count": null,
   "id": "487caf89-f287-45b4-be4f-607fed89bbad",
   "metadata": {},
   "outputs": [],
   "source": []
  },
  {
   "cell_type": "markdown",
   "id": "ca326700-6be9-4299-a234-3b359b890b4e",
   "metadata": {},
   "source": [
    "#### <span style=\"color:red\"> If the ocean covers ~71% of Earth's surface, what value is this in meters squared? Compute this using the variable returned by your function above."
   ]
  },
  {
   "cell_type": "code",
   "execution_count": null,
   "id": "ccfa4467-4ff6-4f21-ad41-e0487ebb2852",
   "metadata": {},
   "outputs": [],
   "source": []
  },
  {
   "cell_type": "markdown",
   "id": "93ad0ba8-116e-421b-bd3a-38e9396abe09",
   "metadata": {},
   "source": [
    "### After you have completed the tasks above, complete the following exercises on each link below. DO NOT CLICK SHOW ANSWERS!!! CHALLENGE YOURSELF. If you do not understand something and are stuck, try to work it out with those around you.\n",
    "* ### __[functions exercises](https://www.w3schools.com/python/exercise.asp?x=xrcise_functions1)__\n",
    "\n"
   ]
  },
  {
   "cell_type": "code",
   "execution_count": null,
   "id": "51052048-2041-49d2-a380-5da7945efbec",
   "metadata": {},
   "outputs": [],
   "source": []
  }
 ],
 "metadata": {
  "kernelspec": {
   "display_name": "Python 3 (ipykernel)",
   "language": "python",
   "name": "python3"
  },
  "language_info": {
   "codemirror_mode": {
    "name": "ipython",
    "version": 3
   },
   "file_extension": ".py",
   "mimetype": "text/x-python",
   "name": "python",
   "nbconvert_exporter": "python",
   "pygments_lexer": "ipython3",
   "version": "3.11.9"
  }
 },
 "nbformat": 4,
 "nbformat_minor": 5
}
