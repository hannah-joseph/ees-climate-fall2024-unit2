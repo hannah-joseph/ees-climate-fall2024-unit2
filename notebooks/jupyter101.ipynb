{
 "cells": [
  {
   "cell_type": "markdown",
   "id": "937916e2-b186-4b3a-af64-ecb3e842ea91",
   "metadata": {},
   "source": [
    "### Fundamentals of Working with Jupyter Notebooks"
   ]
  },
  {
   "cell_type": "markdown",
   "id": "9bcd9439-e528-4874-b3cb-3aa55cf5f678",
   "metadata": {},
   "source": [
    "The contents of this notebook were adapted from one of the labs from the [__Elements of Data Science__](https://sites.temple.edu/eds8/) course taught at Temple University. The purpose of this notebook is to provide users with a brief overview of what a Jupyter Notebook is and how to navigate and use one. If you are an experienced user, please feel free to skip. If you have limited experience or simply want a refresher, read on!\n",
    "\n",
    "#### You should be __entering__ this lesson with ...\n",
    "* Having completely read through [__Introduction to Jupyter__](https://hackmd.io/@0u33W-OOTm2AI2VgNuXi3Q/Hyhg7nmsC/)."
   ]
  },
  {
   "cell_type": "markdown",
   "id": "b9e6698a-f7cc-4cce-9fcb-b76833905420",
   "metadata": {},
   "source": [
    "#### For any questions regarding the contents of this notebook please contact rebecca.beadling@temple.edu."
   ]
  },
  {
   "cell_type": "markdown",
   "id": "a4480122-8004-4d37-bc5f-c7d72b3e5dd0",
   "metadata": {},
   "source": [
    "## 1. Jupyter notebooks\n",
    "This webpage is called a Jupyter notebook. A notebook is a place to write programs and view their results."
   ]
  },
  {
   "cell_type": "markdown",
   "id": "1a2e1095-111d-492d-a7d4-525ff1b37972",
   "metadata": {},
   "source": [
    "### 1.1. Text cells\n",
    "In a notebook, each rectangle containing text or code is called a *cell*.\n",
    "\n",
    "Text cells (like this one) can be edited by double-clicking on them. They're written in a simple format called [Markdown](http://daringfireball.net/projects/markdown/syntax) to add formatting and section headings.  You don't need to learn Markdown, but you might want to.\n",
    "\n",
    "After you edit a text cell, select the \"run cell\" button at the top that looks like ▶| to confirm any changes.  You can also use a keyboard shortcut to run a cell by holding down the `Ctrl` key and pressing `Enter`."
   ]
  },
  {
   "cell_type": "markdown",
   "id": "ccdb36c7-04da-4540-8d14-abca5e5bc7d6",
   "metadata": {},
   "source": [
    "<font color=blue> **Question 1.** </font><br />\n",
    "This paragraph is in its own text cell.  Try editing it so that **this** sentence is the last sentence in the paragraph, and then select the \"run cell\" ▶| button on the top."
   ]
  },
  {
   "cell_type": "markdown",
   "id": "8353bc85-d6a9-4333-83f1-ecf7a357834e",
   "metadata": {},
   "source": [
    "Now we will now run our first code cell below. Code cells are highlighted in grey and the computer interprets the computer code and carries out the instructions as long as it can interpret the code. Examine and run the below code ( \"run cell\" button at the top that looks like ▶| to confirm any changes. You can also use a keyboard shortcut to run a cell by holding down the `Ctrl` key and pressing `Enter`)."
   ]
  },
  {
   "cell_type": "code",
   "execution_count": null,
   "id": "e581bb7d-a172-4d1d-b672-a5cdcafb3acb",
   "metadata": {},
   "outputs": [],
   "source": [
    "print(\"Hello, World!\")"
   ]
  },
  {
   "cell_type": "markdown",
   "id": "824dbc13-94d8-425b-be73-cf928cdc92e8",
   "metadata": {},
   "source": [
    "Now create your own code in the below empty cell which prints Hello to yourself by modelling your code after the above example."
   ]
  },
  {
   "cell_type": "code",
   "execution_count": null,
   "id": "3b3c9f63-e20f-4adf-8f9b-187f15382690",
   "metadata": {},
   "outputs": [],
   "source": []
  },
  {
   "cell_type": "markdown",
   "id": "fd9e5e50-4f9d-41ad-b753-9978b6d0cde7",
   "metadata": {},
   "source": [
    "##### String variables\n",
    "A variable has a descriptive label and can be assigned a value by using the `=` assignment operator like below"
   ]
  },
  {
   "cell_type": "code",
   "execution_count": null,
   "id": "b91f7aa7-2d04-48c5-a5dd-7b48c5508d72",
   "metadata": {},
   "outputs": [],
   "source": [
    "founder = \"Russell Conwell\""
   ]
  },
  {
   "cell_type": "markdown",
   "id": "6a35cf47-a60c-453d-b7fe-722f62ad48a6",
   "metadata": {},
   "source": [
    "The variable can now be used throughout the rest of the code after the assignment. This is a key tool and often used advantage of computer code rather than retyping values each time they are used. The variable **founder** points to a string of characters: \"Russell Conwell\" hence it is called a string variable. As we will see later, variables can refer to all different types of data."
   ]
  },
  {
   "cell_type": "markdown",
   "id": "837ebd95-2ffd-4c20-a21b-a73c977cd415",
   "metadata": {},
   "source": [
    "We can \"add\" strings together. Addition of strings just sticks one onto the end of the other, which is known as \"concatenation.\""
   ]
  },
  {
   "cell_type": "code",
   "execution_count": null,
   "id": "e46ec1ee-1c5d-4acf-9fa3-b78c7bdbcd6c",
   "metadata": {},
   "outputs": [],
   "source": [
    "founder + founder"
   ]
  },
  {
   "cell_type": "markdown",
   "id": "6c9d92cf-c161-488f-bd8e-5c36b07ac89f",
   "metadata": {},
   "source": [
    "The `print()` statement can accept any number of argments separated by commas, including variables. For example, the print statement below has three arguments: a string, a string variable and another string."
   ]
  },
  {
   "cell_type": "code",
   "execution_count": null,
   "id": "3dfa052c-0810-4fcf-b48c-87a67b7e40e9",
   "metadata": {},
   "outputs": [],
   "source": [
    "print(\"You can see\", founder, \"in the Founder's Garden.\")"
   ]
  },
  {
   "cell_type": "markdown",
   "id": "f1cb2db1-ac3c-4302-97a5-1a14666de6d0",
   "metadata": {},
   "source": [
    "Notice how the variable `founder` is included in the print statement below and that concatenation is used to add the period at the end."
   ]
  },
  {
   "cell_type": "code",
   "execution_count": null,
   "id": "c8843bba-58c6-4d64-8cb1-b95738d88682",
   "metadata": {},
   "outputs": [],
   "source": [
    "print(\"The founder of Temple University is\", founder + \".\")\n",
    "print(founder,\" was born in 1843 and in 1862 was commissioned as a captain in the Union Army despite the initial objections of his father.\")"
   ]
  },
  {
   "cell_type": "markdown",
   "id": "9f9e7de5-255c-42a5-a2e9-5dee6215c068",
   "metadata": {},
   "source": [
    "__The fundamental building block of Python code is an expression.__ Cells can contain multiple lines with multiple expressions. When you run a cell, the lines of code are executed in the order in which they appear. Every `print` expression prints a line. Run the next cell and notice the order of the output."
   ]
  },
  {
   "cell_type": "code",
   "execution_count": null,
   "id": "e5cbbb2a-2b86-4b5c-ab7a-bcff859e599e",
   "metadata": {},
   "outputs": [],
   "source": [
    "print(\"First this line,\")\n",
    "print(\"and then this one.\")"
   ]
  },
  {
   "cell_type": "markdown",
   "id": "fefe76ef-2bd1-403a-902d-e2494c830ea5",
   "metadata": {},
   "source": [
    "<font color=blue> **Question 2.** </font><br />\n",
    "Change the cell above so that it prints out:\n",
    "\n",
    "    First this line,\n",
    "    then another line,\n",
    "    and then this one."
   ]
  },
  {
   "cell_type": "markdown",
   "id": "a72e1398-78d3-4396-8130-05b39b561f56",
   "metadata": {},
   "source": [
    "### 1.3. Writing Jupyter notebooks\n",
    "You can use Jupyter notebooks for your own projects or documents. They are among the world's most popular programming environments for data science. When you make your own notebook, you'll need to create your own cells for text and code.\n",
    "\n",
    "To add a cell, select the __+__ button in the menu bar.  A new cell starts out as text.  You can change it to a code cell by selecting it so that it's highlighted, then selecting the drop-down box next to the restart (⟳) button in the menu bar, and choosing Code instead of Markdown.\n",
    "\n",
    "<font color=blue> **Question 3.** </font><br />\n",
    "Add a code cell below this one.  Write code in it that prints out:\n",
    "   \n",
    "    A whole new cell!\n",
    "    Some new fantastic code to view\n",
    "    From charts to graphs, to vibrant prose,\n",
    "    A notebook grows,\n",
    "    Where creativity flows.\n",
    "\n",
    "Run your cell to verify that it works. Debugging the poetry is optional &#128512;."
   ]
  },
  {
   "cell_type": "markdown",
   "id": "6a721c3e-2c44-4d1e-a90c-61b2ec037670",
   "metadata": {},
   "source": [
    "### 1.4. Errors and debugging\n",
    "Python is a language, and like natural human languages, it has rules.  It differs from natural language in two important ways:\n",
    "1. The rules are *simple*.  You can learn most of them in a few weeks and gain reasonable proficiency with the language in a semester.\n",
    "2. The rules are *rigid*.  If you're proficient in a natural language, you can understand a non-proficient speaker, glossing over small mistakes.  A computer running Python code is not smart enough to do that.\n",
    "\n",
    "Whenever you write code, you'll make mistakes.  When you run a code cell that has errors, Python will sometimes produce error messages to tell you what you did wrong.\n",
    "\n",
    "__Errors are okay; even experienced programmers make many errors.  When you make an error, you just have to find the source of the problem, fix it, and move on.__\n",
    "\n",
    "We have made an error in the next cell.  Run it and see what happens."
   ]
  },
  {
   "cell_type": "code",
   "execution_count": null,
   "id": "087d17cb-cf65-452f-bbaa-4eafe4fbe634",
   "metadata": {},
   "outputs": [],
   "source": [
    "print(\"This line is missing something.\""
   ]
  },
  {
   "cell_type": "markdown",
   "id": "66ce17cb-ad43-4175-8657-743cfaae8c41",
   "metadata": {},
   "source": [
    "The last line of the error output above attempts to tell you what went wrong. The syntax of a language is its structure, and this SyntaxError tells you that you have created an illegal structure. The `^` character is pointing to the location of the error and the message is saying Python expected you to write something more (in this case, a right parenthesis) before finishing the cell.\n",
    "\n",
    "__There's a lot of terminology in programming languages. You'll learn as you go. If you are ever having trouble understanding an error message, copy and paste it into Google and see if anyone else has encountered the error. If you don't find an answer, post a question about the error yourself -- this is helpful to the community.__\n",
    "\n",
    "Try to fix the code above so that you can run the cell and see the intended message instead of an error."
   ]
  },
  {
   "cell_type": "markdown",
   "id": "a585c98a-58a8-4d4e-9e82-43b70c44eab5",
   "metadata": {},
   "source": [
    "### 1.5. The Kernel\n",
    "The kernel is a program that executes the code inside your notebook and outputs the results. In the top right of your window, you can see a circle that indicates the status of your kernel. If the circle is empty (⚪), the kernel is idle and ready to execute code. If the circle is filled in (⚫), the kernel is busy running some code. \n",
    "\n",
    "You may run into problems where your kernel is stuck for an excessive amount of time, your notebook is very slow and unresponsive, or your kernel loses its connection. If this happens, try the following steps:\n",
    "1. In the menu at the top of your screen, select **Kernel**, then **Interrupt**.\n",
    "2. If that doesn't help, select **Kernel**, then **Restart**. If you do this, you will have to run your code cells from the start of your notebook up until where you paused your work.\n",
    "3. If that doesn't help, restart your server. First, save your work by selecting **File** at the top left of your screen, then **Save and Checkpoint**. Next, select **Control Panel** at the top right. Choose **Stop My Server** to shut it down, then **My Server** to start it back up. Then, navigate back to the notebook you were working on."
   ]
  },
  {
   "cell_type": "markdown",
   "id": "91ec3ac4-bf28-42e9-9859-97e8d8d59faf",
   "metadata": {},
   "source": [
    "## What is a Jupyter Notebook?"
   ]
  },
  {
   "cell_type": "markdown",
   "id": "58ee22a7-bf99-4275-be1d-bdbf1e55a0c5",
   "metadata": {},
   "source": [
    "A Jupyter Notebook is a file/notebook that can contain both code and regular text (like this paragraph here!) as well as math formulas images, links, and more. The fact that a Jupyter Notebook can contains all of these various elements makes it a valuable tool for people, especially when doing data analysis, since the analysis description and the results can be contained in the same document. \n",
    "\n",
    "There are two ways to run and execute a Jupyter notebook:\n",
    "1. On a local Desktop (which requires no internet access).\n",
    "2. On a remote server (Our Elements of Data Science course at Temple uses this option so you can save your work and later review your notebooks to help with future course work).\n",
    "\n",
    "Every notebook has something called a __kernel__, which acts as the operation part of the notebook. With the kernel, we can execute the lines of code that are in a notebook. When you open a notebook, the kernel associated with that notebook is automatically launched as well. When we execute or run a notebook (more on this down below), the kernel performs the computations and then returns the results. To see when the kernel is running/executing, you can look at the top right hand corner of your notebook, at a circle. If the circle is gray/filled in, the kernel is currently executing cells. If the circle is not filled in, the kernel is not currently executing.\n",
    "\n",
    "When you first open your Jupyter Notebook, you are given an empty cell that you are free to edit. Cells can be of different types based on the content you want to write in it. Any Python code that is written will be in a \"Code\" cell, while paragraphs and images will be in a \"Markdown\" cell. \n",
    "\n",
    "Cells can also be in Edit Mode or Command Mode. When a cell is in edit mode, in the top right corner of the menu, there will be a pencil icon. When the cell is in command mode, this icon will not be there. Based on which mode the cell is in, we can do different actions/shortcuts."
   ]
  },
  {
   "cell_type": "markdown",
   "id": "02be037b-e5f5-4a47-95b7-d101e24a2ba8",
   "metadata": {},
   "source": [
    "### Actions you can do in a Jupyter Notebook\n",
    "There are many different actions that you can do once you are within a notebook, a lot of which is in the top toolbar (containing icons) or the \"File Edit View ...\" menu. In this section, we will go over some common actions you can take to use your notebook. "
   ]
  },
  {
   "cell_type": "markdown",
   "id": "e38bf7df-62aa-4cbf-92a7-adaaccbae3ab",
   "metadata": {},
   "source": [
    "#### Change Type of Cell\n",
    "Based on what purpose you are using your Jupyter Notebook for, you may want one type of cell or various types of cells within your notebook. The most common types of cells are Markdown cells and Code cells, which exist among Heading cells and Raw NBConvert cells. For any cells in your notebook, you can change what type of cell it is by selecting the cell you want to change and then going to the top toolbar and looking for the drop down menu with all the types options."
   ]
  },
  {
   "cell_type": "markdown",
   "id": "8624c51d-8c4e-458d-9d85-d778e2b3993c",
   "metadata": {},
   "source": [
    "#### Add a Cell\n",
    "In order to add a cell to your notebook, select an existing cell and then navigate to the toolbar and __click on the + symbol.__ A cell will be added, below the cell you selected before. The cell will be default be a \"Code\" type cell. "
   ]
  },
  {
   "cell_type": "markdown",
   "id": "7725d675-fbed-4eae-bf74-f68acb564a0e",
   "metadata": {},
   "source": [
    "#### Delete a Cell \n",
    "To delete a cell from your notebook, select the cell you want to delete (by clicking on the cell) and then navigate to the menu at the top and do `Edit -> Delete Cells`."
   ]
  },
  {
   "cell_type": "markdown",
   "id": "e99955ea-8e88-4bb3-8ec2-b6401a8ca4dc",
   "metadata": {},
   "source": [
    "#### Run Cells\n",
    "To run a single cell (so the kernel can evaluate what is in the cell), select the cell and then navigate to the menu and do: `Cell -> Run Cells`.\n",
    "\n",
    "To run a single cell and then select the next cell after the evaluation is complete, select the cell and then navigate to the __'Run' menu__ and do: `Run -> Run Selected Cell`. __This can also be done quicker by selecting the cell, going to the toolbar and clicking on the step icon (the triangle with a line on the right side).__ \n",
    "\n",
    "To run a single cell and then add a new cell after the evaluation is complete, select the cell and then navigate to the 'Run' menu and do: `Run -> Run Selected Cell and Insert Below`.\n",
    "\n",
    "To run all the cells in the notebook, navigate to the then navigate to the 'Run' menu and do: `Run -> Run All Cells`.\n",
    "\n",
    "To run all the cells above a certain cell, click on the cell then navigate to the 'Run' menu and do:  `Run -> Run All Above Selected Cell`.\n",
    "\n",
    "To run all the cells below a certain cell, click on the cell then navigate to the 'Run' menu and do: `Run -> Run Selected Cell and All Below`"
   ]
  },
  {
   "cell_type": "markdown",
   "id": "6af528b2-fab7-4e41-8e54-4536ca991e58",
   "metadata": {},
   "source": [
    "#### Stop Executing\n",
    "Suppose you run a cell (which is taking a long time to finish), and you want to stop the kernel from executing it. Simply closing the window that your notebook is in will not make the kernel stop executing. To do this, you can go to the menu and select `Kernel -> Interrupt`. Alternatively, you can go to toolbar and press the stop icon (the full black square). Doing either of these actions will stop the kernel from executing the current cell."
   ]
  },
  {
   "cell_type": "markdown",
   "id": "62c7e9c3-f08b-440c-a78f-b12958655adc",
   "metadata": {},
   "source": [
    "#### Other Kernel Actions\n",
    "There are other actions (besides interrupting) that you can do with your kernel. These actions are in the menu under `Kernel`. \n",
    "\n",
    "`Kernel -> Restart Kernel`: This restarts the kernel and refreshes all the current variables in the kernel (__variables are lost__). __The notebook cells are NOT run automatically but the output from the cells from before the restart are still there on the screen.__\n",
    "\n",
    "`Kernel -> Restart Kernel and Clear Outputs of all Cells`: This restarts the kernel and refreshes all the current variables in the kernel (variables are lost). The notebook cells are NOT run automatically and the output from the cells from before the restart are cleared from the screen.\n",
    "\n",
    "`Kernel -> Restart & Run All Cells`: This restarts your kernel (and refreshes all the outputs/variables previously computed) and then runs all the cells in the notebook from the top. \n",
    "\n",
    "`Kernel -> Reconnect to Kernel`: __This helps to reconnect to the kernel in the case that your kernel disconnects or is having a problem. If your kernel is not working, you can try this action so that you can connect and execute with the kernel again.__\n",
    "\n",
    "`Kernel -> Shutdown Kernel`: This shuts down the kernel so it will not be running or executing or taking up memory/storage."
   ]
  },
  {
   "cell_type": "markdown",
   "id": "7aafcb4b-31a8-40f8-8542-b922d23e7cf1",
   "metadata": {},
   "source": [
    "#### Markdown Cells\n",
    "Markdown cells can contain text, photos, videos, even code chunks that cannot be executed. To insert these elements and change the text (headings, bold, italics, links, etc), there is a language called Markdown Language. \n",
    "\n",
    "With Markdown you can:\n",
    "\n",
    "Make text **bold** by surrounding the text with double asterisks or double underscores.\n",
    "\n",
    "Make text *italicized* by surrounding the text with single asterisks or single underscores.\n",
    "\n",
    "\n",
    "* Create bulleted lists\n",
    "* By adding \n",
    "* An asterisk and a space and then your text\n",
    "\n",
    "\n",
    "Insert a [link](https://medium.com/ibm-data-science-experience/markdown-for-jupyter-notebooks-cheatsheet-386c05aeebed) into your text, by surrounding the text with brackets and immediately putting your url with parentheses around it.\n",
    "\n",
    "\n",
    "Add headings by starting a line with one or more `#` followed by a space and your heading text,\n",
    "### Like\n",
    "## this\n",
    "# example\n",
    "\n",
    "\n",
    "You can also embed code for illustration purposes (not execution) by surrounding the code with a single backtick, like `x = 5`.\n",
    "\n",
    "\n",
    "It is also possible to include mathematical equations by surrounding the expression with single dollar signs. The way you write the math formulas follows LaTeX rules. To have the expression on its own line, surround the expression with double dollar signs.\n",
    "$e^x=\\sum_{i=0}^\\infty \\frac{1}{i!}x^i$ \n",
    "$$e^x=\\sum_{i=0}^\\infty \\frac{1}{i!}x^i$$\n",
    "\n",
    "\n",
    "There are many more commands and tricks you can do with Markdown, check out this cheat sheet for more tips: https://medium.com/ibm-data-science-experience/markdown-for-jupyter-notebooks-cheatsheet-386c05aeebed."
   ]
  },
  {
   "cell_type": "markdown",
   "id": "7104bb5e-31cd-47ed-b663-59736eee473a",
   "metadata": {},
   "source": [
    "#### Move Cells Up and Down \n",
    "It is also possible to move cells up or down if you want to change their location within the notebook. This can be done by selecting the cell(s) and clicking the up or down icons (based on where you want the cell to be). Each time the buttons is pressed, the cell selected will move one cell in that direction. This can also be done with Edit -> Move Cell Up or Move Cell Down."
   ]
  },
  {
   "cell_type": "code",
   "execution_count": null,
   "id": "b2aa1d88-cf89-49a5-9400-1d851c794485",
   "metadata": {},
   "outputs": [],
   "source": []
  },
  {
   "cell_type": "markdown",
   "id": "39e6673b-ae09-439c-b906-4cf3c2d5a67b",
   "metadata": {},
   "source": [
    "#### Cut, Copy, Paste Cells\n",
    "Similar to how you can cut, copy, and paste text in other editors like Google Docs or Word, you can do the same with cells in Jupyter Notebook. To do any of these commands you can select the cells and then navigate to the toolbar - the scissor icon is the Cut command, the double pages icon next to it is the Copy command, and the clipboard and page icon next to that is the Paste icon. Alternatively, you can do the same commands by going to the Menu and clicking Edit (where there are commands Cut Cells, Copy Cells, Paste Cells Above, Paste Cells Below, Paste Cells and Replace)."
   ]
  },
  {
   "cell_type": "markdown",
   "id": "6989221a-65f9-4ec0-9658-9991e9ea4d86",
   "metadata": {},
   "source": [
    "#### Save Notebook\n",
    "To save your notebook in the location where it is currently, you can click on the save icon in the leftmost side of the toolbar or go to File -> Save and Checkpoint in the Menu. Checkpoints are created with this command so you are able to go back to the checkpoint if needed (similar to Google Docs and how you can see previous edits and versions of the document). "
   ]
  },
  {
   "cell_type": "markdown",
   "id": "a1506646-51ea-4495-b769-559644ed0e81",
   "metadata": {},
   "source": [
    "## Jupyter Notebook Shortcuts\n",
    "In the previous section, we talked about various actions we can do within a Jupyter Notebook. All of these actions required going to the Toolbar or the Menu at the top of the notebook. Doing this for every single action can be tiring, so luckily for us, there are a number of neat shortcuts to help us do the same actions.\n",
    "\n",
    "Some of these shortcuts require you to be in the Edit Mode or the Command Mode of a cell. Remember, you are in Edit Mode if you can see the pencil icon in the top right corner of the Menu. \n",
    "\n",
    "To activate command mode, press `Esc` and to activate Edit Mode, press `Enter`. \n",
    "\n",
    "Below the shortcuts are grouped based on what mode you are in."
   ]
  },
  {
   "cell_type": "markdown",
   "id": "06752d98-0328-404c-b0d6-b6caa8a6ad8f",
   "metadata": {},
   "source": [
    "#### Shortcuts for Both Modes\n",
    "* Run the current cell and select below: `Shift + Enter`\n",
    "* Run the selected cell: `Ctrl + Enter`\n",
    "* Run the current cell and insert cell below: `Alt + Enter`\n",
    "* Save and checkpoint: `Ctrl + S`\n",
    "\n",
    "\n",
    "#### Shortcuts while in Command Mode\n",
    "* Show all shortcuts: `H`\n",
    "* Select cell above: `Up`\n",
    "* Select cell below: `Down`\n",
    "* Extend selected cells above: `Shift + Up`\n",
    "* Extend selected cells below: `Shift + Down`\n",
    "* Insert cell above: `A`\n",
    "* Insert cell below: `B`\n",
    "* Cut selected cells: `X`\n",
    "* Copy selected cells: `C`\n",
    "* Paste cells above: `Shift + V`\n",
    "* Paste cells below: `V`\n",
    "* Delete selected cells: `D, D` (press `D` key twice)\n",
    "* Undo deleting cell: `Z`\n",
    "* Save and checkpoint: `S`\n",
    "* Change to Code cell type: `Y`\n",
    "* Change to Markdown cell type: `M`\n",
    "* Scroll notebook up: `Shift + Space`\n",
    "* Scroll notebook down: `Space`\n",
    "\n",
    "\n",
    "#### Shortcuts while in Edit Mode\n",
    "Many of these are similar to other text editors because we are doing them in Edit Mode.\n",
    "* Code completion or indent: `Tab`\n",
    "* Indent: `Ctrl + ]`\n",
    "* Dedent: `Ctrl + [`\n",
    "* Select all: `Ctrl + A`\n",
    "* Undo: ` Ctrl + Z`\n",
    "* Redo: ` Ctrl + Y`\n",
    "* Go to left of line: `Ctrl + Left`\n",
    "* Go to right of line: `Ctrl + Right`\n",
    "* Move cursor down: `Down`\n",
    "* Move cursor up: `Up`\n",
    "\n",
    "There are other shortcuts that also exist, many of them are documented online as well as in the Jupyter Notebook documentation."
   ]
  }
 ],
 "metadata": {
  "kernelspec": {
   "display_name": "Python 3 (ipykernel)",
   "language": "python",
   "name": "python3"
  },
  "language_info": {
   "codemirror_mode": {
    "name": "ipython",
    "version": 3
   },
   "file_extension": ".py",
   "mimetype": "text/x-python",
   "name": "python",
   "nbconvert_exporter": "python",
   "pygments_lexer": "ipython3",
   "version": "3.11.9"
  }
 },
 "nbformat": 4,
 "nbformat_minor": 5
}
