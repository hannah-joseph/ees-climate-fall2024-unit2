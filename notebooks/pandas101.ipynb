{
 "cells": [
  {
   "cell_type": "markdown",
   "id": "b36bbfdc-cb9f-407f-8aec-35ba3e102ab6",
   "metadata": {},
   "source": [
    "### This notebook goes over fundamentals of using Python's Pandas package to work with 1 dimensional (1D) datasets. For your first mini-project you will need to be able to load in 1D climate datasets and create effective visualizations of them. Use this lesson as a resource to look back on when you are working on your mini-project.\n",
    "### These datasets may come in the form of ...\n",
    " * #### Comma Seperated Values(CSV) files.\n",
    " * #### Data stored in Excel spreadsheets (.xlxs, or .xls prior to Excel 2007)\n",
    " * #### Data stored in JavaScript Object Notation (JSON) files\n",
    " * #### Text (.txt) files \n",
    " \n",
    " \n",
    " #### Portions of this notebook are inspired from the [__10 minutes to pandas__ tutorial ](https://pandas.pydata.org/docs/user_guide/10min.html)from pandas.pydata.org:\n",
    " __Author__: Rebecca L. Beadling. For any questions regarding the contents of this notebook please contact rebecca.beadling@temple.edu."
   ]
  },
  {
   "cell_type": "markdown",
   "id": "cd78e55e-28ce-4f3f-be89-d6ca1d9bc250",
   "metadata": {},
   "source": [
    "### You should be __entering__ this lesson with ...\n",
    "* Knowledge of Python fundamentals covered in python101-103.\n",
    "* Knowledge of how to use git status, git commit, git push.\n",
    "\n",
    "### You should be __leaving__ this lesson with ...\n",
    "* An understanding of what a Pandas series & DataFrame are.\n",
    "* An understanding of how to load in specific file types as Pandas DataFrames.\n",
    "* How to carry out basic calculations across a DataFrame.\n",
    "* How to produce a __very basic__ plot from your data (plot customization via Matplotlib is the topic of the next lesson)"
   ]
  },
  {
   "cell_type": "code",
   "execution_count": null,
   "id": "a463a355-7b8f-4f17-bf5a-f8d15a56acab",
   "metadata": {
    "tags": []
   },
   "outputs": [],
   "source": [
    "import pandas as pd                          \n",
    "import matplotlib.pyplot as plt \n",
    "import numpy as np"
   ]
  },
  {
   "cell_type": "code",
   "execution_count": null,
   "id": "951539d0-7542-45ca-93d5-8f22560644f7",
   "metadata": {
    "tags": []
   },
   "outputs": [],
   "source": [
    "%matplotlib inline                           \n",
    "%config InlineBackend.figure_format='retina' \n",
    "plt.rcParams['figure.figsize'] = 12,6  "
   ]
  },
  {
   "cell_type": "markdown",
   "id": "ff87d5dd-21c5-4acc-bdcb-7435c505d2c3",
   "metadata": {
    "tags": []
   },
   "source": [
    "### Pandas has two types of data structures:\n",
    "* #### __Series__: 1D labeled array holding data of any type.\n",
    "* #### __DataFrame__: 2D data structure that holds data like a Table with rows or columns (think of an Excel spreadsheet).\n",
    "\n",
    "### For the purpose of this course, you just need to understand how to use Pandas to load in and manipulate Series & DataFrames that contain information regarding climate."
   ]
  },
  {
   "cell_type": "markdown",
   "id": "51bf742e-6dda-4982-8ced-6c95f9b66010",
   "metadata": {},
   "source": [
    "### Load a CSV files that contain measurements of atmospheric CO2 concentrations as Pandas DataFrames:\n",
    "* Monthly atmospheric CO2 concentrations as measured from the Mauna Loa Observatory, Hawaii from 1958 to 2023 (https://keelingcurve.ucsd.edu/)\n",
    "* Monthly atmospheric CO2 concentrations from a global network of CO2 measurements (NOAA's Global Monitoring Laboratory) from 1979 to 2023 (https://gml.noaa.gov/ccgg/trends/global.html?doi=10.15138/9n0h-zh07)\n",
    "* Monthly atmospheric CO2 concentrations from the World Data Centre for Greenhouse Gases (WDCGG) operated by the Japan Meteorological Agency (https://gaw.kishou.go.jp/)"
   ]
  },
  {
   "cell_type": "code",
   "execution_count": null,
   "id": "51b4b267-3617-4296-a88a-26ac0c16b9e0",
   "metadata": {},
   "outputs": [],
   "source": [
    "ees_climate_dir = 'C:/Users/TU_Climate24_Student/Desktop/ees_climate/'  #### This is the home directory we are always working out of\n",
    "\n",
    "CO2_MaunaLoa = pd.read_csv(ees_climate_dir+'unit2/data/greenhouse_gases/CO2_MaunaLoa_TimeSeries.csv',parse_dates=['Date'])\n",
    "CO2_NOAA = pd.read_csv(ees_climate_dir+'unit2/data/greenhouse_gases/CO2_NOAA_TimeSeries.csv',parse_dates=['Date'])\n",
    "CO2_WDCGG = pd.read_csv(ees_climate_dir+'unit2/data/greenhouse_gases/CO2_WDCGG_TimeSeries.csv',parse_dates=['Date'])"
   ]
  },
  {
   "cell_type": "code",
   "execution_count": null,
   "id": "4ff9001a-248c-4cb0-98d5-ea4e766f6acf",
   "metadata": {
    "tags": []
   },
   "outputs": [],
   "source": [
    "CO2_MaunaLoa"
   ]
  },
  {
   "cell_type": "markdown",
   "id": "ab2cc457-3fcd-4982-bae4-a7a317e00cb9",
   "metadata": {
    "tags": []
   },
   "source": [
    "### For the purpose of learning, we will just work with one of these datasets to start. Writing the name of the DataFrame and executing the cell below reveals the structure of the DataFrame:\n",
    "* #### We see that the CO2_MaunaLoa DataFram was 781 rows and 3 columns.\n",
    "* #### We see that the labels of the columns of the DataFrame has the values:\n",
    "    __`Date`__, __`Mauna Loa CO2 (ppm)`__, and __`Mauna Loa CO2 uncertainty`__.\n",
    "* #### We also see that executing the cell with just the DataFrames name by default returns the first 5 rows and the last 5 rows.\n",
    "* #### You can also see that the values within each column are indexed such that the first value is value 0 [left hand column]"
   ]
  },
  {
   "cell_type": "code",
   "execution_count": null,
   "id": "be8e9352-19af-465d-b6b5-ddb6a34d1e74",
   "metadata": {
    "tags": []
   },
   "outputs": [],
   "source": [
    "CO2_MaunaLoa"
   ]
  },
  {
   "cell_type": "markdown",
   "id": "34b32f46-e6b1-464a-9ce8-aef0d9d0bb3e",
   "metadata": {},
   "source": [
    "### The first few columns of the DataFrame are referred to as the __head__ and the last few rows are referred to as the __tail__. If we want, we can specify that we want to see a certain number of rows using the `.head()` and `.tail()` methods:"
   ]
  },
  {
   "cell_type": "code",
   "execution_count": null,
   "id": "eeea9814-752e-4150-8fdc-6ca09f6f8513",
   "metadata": {
    "tags": []
   },
   "outputs": [],
   "source": [
    "CO2_MaunaLoa.head(0) "
   ]
  },
  {
   "cell_type": "code",
   "execution_count": null,
   "id": "1798ccf4-39c2-476e-8527-e967a7da0d27",
   "metadata": {
    "tags": []
   },
   "outputs": [],
   "source": [
    "CO2_MaunaLoa.head(10)"
   ]
  },
  {
   "cell_type": "markdown",
   "id": "94d13cbb-d96e-4cd0-85f5-94dd01a7f793",
   "metadata": {},
   "source": [
    "### <span style=\"color:red\">  In the cell below, write code that displays the last row and the last 5 rows using the .tail() method:"
   ]
  },
  {
   "cell_type": "code",
   "execution_count": null,
   "id": "292a0a55-7f9b-4f2d-9aa8-14e947671d0b",
   "metadata": {},
   "outputs": [],
   "source": []
  },
  {
   "cell_type": "code",
   "execution_count": null,
   "id": "585f8cb4-922f-474e-9f87-927b9fc9d0fe",
   "metadata": {
    "tags": []
   },
   "outputs": [],
   "source": []
  },
  {
   "cell_type": "markdown",
   "id": "98e54636-179a-4696-b431-033d0057e2e9",
   "metadata": {},
   "source": [
    "### The DataFrames object has a method called info(), that gives you more information about the data set. Here we can see that this DataFrame is composed of 3 distinct columns named 'Date', 'Mauna Loa CO2', and 'Mauna Loa CO2 uncertainty', with Data Types of datetime64, float64, float64. There  RangeIndex tells us there are 781 rows from 0 to 780 spanning 3 columns. \n",
    "\n",
    "### The Non-Null Count tells us that the column named 'Mauna Loa CO2 uncertainty' has 781 values that are NaN values. We can ignore this for now as we won't be using this data. However there may be situatons where you want to \"clean\" your datasets and remove NaN values. If you find yourself in this situation .... follow this tutorial: https://www.w3schools.com/python/pandas/pandas_cleaning.asp."
   ]
  },
  {
   "cell_type": "code",
   "execution_count": null,
   "id": "896b8f06-a59b-462f-bfe0-e440edcb7d94",
   "metadata": {
    "tags": []
   },
   "outputs": [],
   "source": [
    "CO2_MaunaLoa.info()"
   ]
  },
  {
   "cell_type": "markdown",
   "id": "22215ad6-7fd0-4eda-b677-b945092d6247",
   "metadata": {},
   "source": [
    "### Let's look at the structure of our array again and use our knowledge of indexing to figure out how we could extract specfic values / rows / columns. If you have a really large dataset / spreadsheet, you may have __lots__ of columns ..... but you likely only want to plot or analyze a few:\n",
    "\n",
    "### The column on the far left of our DataFrame shows the index label associated with each row. In Pandas, we can access data using the `.loc ` method and specify an __index label__. <span style=\"color:red\"> How would we return the values for March 1958 ?"
   ]
  },
  {
   "cell_type": "code",
   "execution_count": null,
   "id": "be179ab7-c71b-47c6-af32-142ff6d932d6",
   "metadata": {
    "tags": []
   },
   "outputs": [],
   "source": [
    "CO2_MaunaLoa.head(10)"
   ]
  },
  {
   "cell_type": "markdown",
   "id": "592499f9-9315-40e3-9fd0-3fff772da1ab",
   "metadata": {},
   "source": [
    "### Executing the cell below shows us the values for first row of our DataFrame, which contains the CO2 concentration in ppm for March 1958:"
   ]
  },
  {
   "cell_type": "code",
   "execution_count": null,
   "id": "0140d5bc-4237-4c7e-9cdc-4f74a53f26a5",
   "metadata": {
    "tags": []
   },
   "outputs": [],
   "source": [
    "CO2_MaunaLoa.loc[0]"
   ]
  },
  {
   "cell_type": "markdown",
   "id": "6e949dcb-5138-4b27-a576-d813ee485d03",
   "metadata": {
    "tags": []
   },
   "source": [
    "### <span style=\"color:red\"> How would we return the last value, for March 2023 ?"
   ]
  },
  {
   "cell_type": "code",
   "execution_count": null,
   "id": "27ac0890-aa8f-4f1a-864d-076eb921aa36",
   "metadata": {
    "tags": []
   },
   "outputs": [],
   "source": []
  },
  {
   "cell_type": "code",
   "execution_count": null,
   "id": "0639171c-1d98-41f9-832f-520c729e27e6",
   "metadata": {},
   "outputs": [],
   "source": []
  },
  {
   "cell_type": "markdown",
   "id": "808ca750-405a-4ebf-a7e5-f679dac55bd7",
   "metadata": {},
   "source": [
    "### We can specify a list of index labels to return using `.loc`. The code below will return the values of the first two rows of the DataFrame:"
   ]
  },
  {
   "cell_type": "code",
   "execution_count": null,
   "id": "78cdd5f8-158a-45fc-8a2c-37ddb8fc9377",
   "metadata": {
    "tags": []
   },
   "outputs": [],
   "source": [
    "CO2_MaunaLoa.loc[[1,2]]"
   ]
  },
  {
   "cell_type": "markdown",
   "id": "d08f8c57-8431-4886-af8d-d4cb419c6952",
   "metadata": {},
   "source": [
    "### The `.loc` method is locating based off of index label, so we could give it any list of lables to return. The code below returns row 7, 8, 100, and 700:"
   ]
  },
  {
   "cell_type": "code",
   "execution_count": null,
   "id": "f9a76cf1-664a-4bd6-84cf-88815a1455fa",
   "metadata": {
    "tags": []
   },
   "outputs": [],
   "source": [
    "CO2_MaunaLoa.loc[[7,8,100,700]]"
   ]
  },
  {
   "cell_type": "markdown",
   "id": "8848c00b-d110-4b49-a1f6-c4d248e400cb",
   "metadata": {
    "tags": []
   },
   "source": [
    "### OK, so we now know how to access data within specific rows ... but what about if we want to isolate a specific column? Say we only care about the Mauna Loa CO2 (ppm) data ...\n",
    "\n",
    "### As we saw earlier, each column has a specific __label__, which is a `string` data type:\n",
    "* __`Date`__, __`Mauna Loa CO2 (ppm)`__, and __`Mauna Loa CO2 uncertainty`__.\n",
    "\n",
    "### We can use this label information to specify which columns to extract, using the syntax of `DataFrame_Name['column label']` as shown below. You see when this cell is executed, that we no longer have information regarding year, month, etc ..."
   ]
  },
  {
   "cell_type": "code",
   "execution_count": null,
   "id": "d681c02a-cc46-4177-851c-701b0ecb9837",
   "metadata": {
    "tags": []
   },
   "outputs": [],
   "source": [
    "CO2_MaunaLoa[\"Mauna Loa CO2 (ppm)\"]"
   ]
  },
  {
   "cell_type": "markdown",
   "id": "35390991-437f-4848-a73d-9c6a9dc28288",
   "metadata": {
    "tags": []
   },
   "source": [
    "### <span style=\"color:red\"> How would we extract the column with information regarding the Date? Write code in the cell below that does this."
   ]
  },
  {
   "cell_type": "code",
   "execution_count": null,
   "id": "2d1bb2f5-1226-41ab-bacb-632585dfa587",
   "metadata": {},
   "outputs": [],
   "source": []
  },
  {
   "cell_type": "markdown",
   "id": "cf6fe1e2-d18f-410f-9a3d-a9c99b9f5367",
   "metadata": {},
   "source": [
    "### Our columns within a DataFrame are a __Series__ .... which can be further indexed to extract specific values associated with their index label: \n",
    "### To extract the first and last value of atmospheric CO2 concentrations:"
   ]
  },
  {
   "cell_type": "code",
   "execution_count": null,
   "id": "9f2823f4-ae30-474a-8954-8464323e7f39",
   "metadata": {
    "tags": []
   },
   "outputs": [],
   "source": [
    "CO2_MaunaLoa[\"Mauna Loa CO2 (ppm)\"][0]"
   ]
  },
  {
   "cell_type": "code",
   "execution_count": null,
   "id": "d6169799-f8fe-4d58-b7e3-4147b87e32f5",
   "metadata": {
    "tags": []
   },
   "outputs": [],
   "source": [
    "CO2_MaunaLoa[\"Mauna Loa CO2 (ppm)\"][780]"
   ]
  },
  {
   "cell_type": "markdown",
   "id": "dad1afff-8334-4770-a3d0-45d1b426fb80",
   "metadata": {},
   "source": [
    "### Let's create a new variable called CO2_ppm and set it equal to the CO2 concentrations from our Pandas DataFrame and perform some calculations on it:"
   ]
  },
  {
   "cell_type": "code",
   "execution_count": null,
   "id": "983c4e96-8f01-4d97-9c5f-1a2af3ac7007",
   "metadata": {
    "tags": []
   },
   "outputs": [],
   "source": [
    "CO2_ppm = CO2_MaunaLoa[\"Mauna Loa CO2 (ppm)\"]\n",
    "CO2_ppm"
   ]
  },
  {
   "cell_type": "markdown",
   "id": "be8d1823-48d8-44cb-a449-9f7a08e8bb4e",
   "metadata": {
    "tags": []
   },
   "source": [
    "### Because Pandas is __built on NumPy__, it also has some built in methods for basic calcuations. We can compute the mean, median, mode, max, min, and standard deviation across our Series using the `.mean()`, `.median()`, `.mode()` , `.max()`, `.min()`, and `.std()` methods:\n",
    "\n",
    "### There are a large number of methods you can apply to Pandas Series & DataFrames, a full list can be found here for further study: https://pandas.pydata.org/docs/reference/frame.html"
   ]
  },
  {
   "cell_type": "code",
   "execution_count": null,
   "id": "0f777fed-1a64-48e9-b39f-bf206ed29f20",
   "metadata": {
    "tags": []
   },
   "outputs": [],
   "source": [
    "CO2_ppm.mean()"
   ]
  },
  {
   "cell_type": "code",
   "execution_count": null,
   "id": "d632e03e-b8eb-49da-aa41-65f83491eed6",
   "metadata": {
    "tags": []
   },
   "outputs": [],
   "source": [
    "CO2_ppm.median()"
   ]
  },
  {
   "cell_type": "code",
   "execution_count": null,
   "id": "e07ffe90-29db-4da5-aad6-ce979359f020",
   "metadata": {
    "tags": []
   },
   "outputs": [],
   "source": [
    "CO2_ppm.mode()"
   ]
  },
  {
   "cell_type": "code",
   "execution_count": null,
   "id": "d6c9ef76-1113-40e4-bf5d-0b163b81dc0a",
   "metadata": {
    "tags": []
   },
   "outputs": [],
   "source": [
    "CO2_ppm.max()"
   ]
  },
  {
   "cell_type": "code",
   "execution_count": null,
   "id": "c99a1458-4902-4938-9049-6dc7d9a3886e",
   "metadata": {
    "tags": []
   },
   "outputs": [],
   "source": [
    "CO2_ppm.min()"
   ]
  },
  {
   "cell_type": "code",
   "execution_count": null,
   "id": "b65b400d-3174-4933-ab7d-a551783121d0",
   "metadata": {
    "tags": []
   },
   "outputs": [],
   "source": [
    "CO2_ppm.std()"
   ]
  },
  {
   "cell_type": "markdown",
   "id": "37c50064-1194-4dc4-be7b-18daa8c42911",
   "metadata": {
    "tags": []
   },
   "source": [
    "### If you need to take advantage of the sophisticated (and high performance) computing of NumPy, we can easily read in any dataset as a DataFrame and convert a Pandas Series to a NumPy array:"
   ]
  },
  {
   "cell_type": "code",
   "execution_count": null,
   "id": "436e6bd8-f234-4e36-95b7-489b29fde604",
   "metadata": {
    "tags": []
   },
   "outputs": [],
   "source": [
    "CO2_ppm_np = np.array(CO2_ppm)\n",
    "type(CO2_ppm_np)"
   ]
  },
  {
   "cell_type": "code",
   "execution_count": null,
   "id": "d0686a02-228d-4381-ac5d-f54fc80fcdd6",
   "metadata": {
    "tags": []
   },
   "outputs": [],
   "source": [
    "CO2_ppm_np.ndim"
   ]
  },
  {
   "cell_type": "code",
   "execution_count": null,
   "id": "18a332e0-88f3-4eb2-ae31-788e0aede720",
   "metadata": {
    "tags": []
   },
   "outputs": [],
   "source": [
    "CO2_ppm_np.shape"
   ]
  },
  {
   "cell_type": "code",
   "execution_count": null,
   "id": "6bb1fbed-6065-40b0-93cc-34c292527e39",
   "metadata": {
    "tags": []
   },
   "outputs": [],
   "source": [
    "CO2_ppm_np"
   ]
  },
  {
   "cell_type": "code",
   "execution_count": null,
   "id": "aafb826f-19ea-4405-813e-3b8997872eec",
   "metadata": {
    "tags": []
   },
   "outputs": [],
   "source": [
    "CO2_year = np.array(CO2_MaunaLoa[\"Date\"])\n",
    "CO2_year"
   ]
  },
  {
   "cell_type": "markdown",
   "id": "3a36bf96-04c0-4b67-9ef0-daecd7977567",
   "metadata": {},
   "source": [
    "### We can create a 2 dimensional NumPy array that is a __timeseries__ of CO2 using Pandas' `.to_numpy()` method:"
   ]
  },
  {
   "cell_type": "code",
   "execution_count": null,
   "id": "b4064365-209a-47d7-9577-bb2080f07f1c",
   "metadata": {
    "tags": []
   },
   "outputs": [],
   "source": [
    "CO2_timeseries = CO2_MaunaLoa[[\"Date\",\"Mauna Loa CO2 (ppm)\"]].to_numpy()"
   ]
  },
  {
   "cell_type": "code",
   "execution_count": null,
   "id": "a15eb8f9-fab9-4fca-9805-58a64f3312ee",
   "metadata": {
    "tags": []
   },
   "outputs": [],
   "source": [
    "CO2_timeseries"
   ]
  },
  {
   "cell_type": "markdown",
   "id": "084bb605-37f8-4f24-9d6b-31913910641d",
   "metadata": {},
   "source": [
    "### We could have also used this method above when we created a 1D array:"
   ]
  },
  {
   "cell_type": "code",
   "execution_count": null,
   "id": "4a37dd4c-3760-448b-9fde-f96140fcbe49",
   "metadata": {
    "tags": []
   },
   "outputs": [],
   "source": [
    "CO2_ppm_np = CO2_MaunaLoa[\"Mauna Loa CO2 (ppm)\"].to_numpy()"
   ]
  },
  {
   "cell_type": "markdown",
   "id": "691603d4-175c-427d-ad48-9c6224cad5d9",
   "metadata": {},
   "source": [
    "### Now we can use Pyplot, a submodule of the Matplotlib library to visualize the data, specifying the x and y axes that correspond to the Columns in our Pandas DataFrame."
   ]
  },
  {
   "cell_type": "code",
   "execution_count": null,
   "id": "22a34dc3-7278-450f-9bdc-a8a24177cff3",
   "metadata": {
    "tags": []
   },
   "outputs": [],
   "source": [
    "CO2_MaunaLoa.plot(x='Date',\n",
    "            y='Mauna Loa CO2 (ppm)',\n",
    "            linewidth=2)"
   ]
  },
  {
   "cell_type": "markdown",
   "id": "535e5691-5319-451f-933f-755881021699",
   "metadata": {},
   "source": [
    "### Or we can use matplotlib pyplot and specify the x, y as follows:"
   ]
  },
  {
   "cell_type": "code",
   "execution_count": null,
   "id": "777b8205-fd34-4b90-9d4c-cb2177a37f46",
   "metadata": {
    "tags": []
   },
   "outputs": [],
   "source": [
    "fig, ax = plt.subplots(figsize=(5,5))\n",
    "\n",
    "ax.plot(CO2_MaunaLoa['Date'],\n",
    "         CO2_MaunaLoa['Mauna Loa CO2 (ppm)'],\n",
    "         linewidth=2,label='Mauna Loa',\n",
    "         color='black')\n",
    "\n",
    "## plot a legend on the ax\n",
    "plt.legend()"
   ]
  },
  {
   "cell_type": "markdown",
   "id": "f9dd60c2-c760-48f3-b4bf-ffd007e34891",
   "metadata": {},
   "source": [
    "### What if we wanted to customize this more? This is just a small flavor of what we can do, your next lesson focuses on developing your plotting and plot customization skills!"
   ]
  },
  {
   "cell_type": "code",
   "execution_count": null,
   "id": "f640af29-3a92-464c-a03c-5457bcb3b03d",
   "metadata": {
    "tags": []
   },
   "outputs": [],
   "source": [
    "## Create your figure and axis objects using the subplots() \n",
    "## function from pyplot (which you imported using the alias plt):\n",
    "\n",
    "fig, ax = plt.subplots(figsize=(5,5))\n",
    "\n",
    "ax.plot(CO2_MaunaLoa['Date'],\n",
    "         CO2_MaunaLoa['Mauna Loa CO2 (ppm)'],\n",
    "         linewidth=2,label='Mauna Loa',\n",
    "         color='black')\n",
    "\n",
    "## Set properties of title, ylabels and xlabels\n",
    "ax.set_title('Measured CO2 from Mauna Loa',\n",
    "             fontsize=12, fontweight='bold')\n",
    "ax.set_ylabel('CO2 concentration [ppm]',\n",
    "             fontsize=12, fontweight='bold')\n",
    "ax.set_xlabel('Year',\n",
    "             fontsize=12, fontweight='bold')\n",
    "\n",
    "plt.legend() ## Add legend, with label corresponding the label you set in the plt.plot() above.\n",
    "plt.grid(linestyle='--') ## Add dashed grid lines\n",
    "\n",
    "### adjust ticklabel font properties:\n",
    "for tick in ax.get_xticklabels():\n",
    "    tick.set_fontsize(8)\n",
    "    tick.set_fontweight(\"bold\")\n",
    "for tick in ax.get_yticklabels():\n",
    "    tick.set_fontsize(8)\n",
    "    tick.set_fontweight(\"bold\")\n",
    "    \n",
    "## Change background color\n",
    "# Setting the background color of the plot\n",
    "# using set_facecolor() method\n",
    "\n",
    "ax.set_facecolor(\"azure\")"
   ]
  },
  {
   "cell_type": "markdown",
   "id": "68f877e8-6497-483d-9fee-be560ed6528e",
   "metadata": {},
   "source": [
    "### This lesson so far has focused on reading in and working with datasets that are stored as .csv files, but what if you have a dataset that is an Excel spreadsheet or a .txt file (like the .txt you just created in the arrays lesson!) ??? We will be working exclusively with .csv files for our 1D climate datasets, however you may wish to use the code below as a reference if you are using other datasets in your own research."
   ]
  },
  {
   "cell_type": "markdown",
   "id": "162c425c-e477-4f48-b54d-da96339cc9de",
   "metadata": {
    "tags": []
   },
   "source": [
    "### The code below reads in an __Excel (.xlxs, .xls)__ file as a Pandas DataFrame. In the most basic use-case, read_excel takes a path to an Excel file, and the sheet_name (if there are multiple sheets) indicating which sheet to parse."
   ]
  },
  {
   "cell_type": "markdown",
   "id": "ad404845-0cc0-4de8-9ad9-d2027f9f4dbf",
   "metadata": {
    "tags": []
   },
   "source": [
    "#### `# Returns a DataFrame`\n",
    "#### `pd.read_excel(\"path_to_file.xls\", sheet_name=\"Sheet1\")`\n",
    "\n",
    "### We won't be working with Excel files in this class"
   ]
  },
  {
   "cell_type": "markdown",
   "id": "7b29160c-4cab-45fe-bccc-e16a1a9ec5c7",
   "metadata": {},
   "source": [
    "### The code below reads in a text file (.txt) as a Pandas DataFrame. In this case we also use `pd.read_csv` however we indicate the the separator is a single space ('') for the space character because, for text files, the space character will seperate each field."
   ]
  },
  {
   "cell_type": "markdown",
   "id": "4612d199-9b70-496d-b1d1-7fdc6357cb32",
   "metadata": {},
   "source": [
    "#### `# read text file into pandas DataFrame`\n",
    "#### `df = pd.read_csv(\"gfg.txt\", sep=\" \")`"
   ]
  },
  {
   "cell_type": "markdown",
   "id": "4c2870bd-2c0e-4404-8c3f-a0f1cb1a4349",
   "metadata": {},
   "source": [
    "### Now that you know how to open up and work with files that contain 1D arrays, our next task will be becoming familiar with customizing plots using Matplotlib! But first .... your task is to use the remainder of the class to complete the following assignment:"
   ]
  },
  {
   "cell_type": "markdown",
   "id": "dbc4d2a3-bf17-4c3a-b428-e93579e4d988",
   "metadata": {},
   "source": [
    "### <span style=\"color:red\"> Complete the following:\n",
    "* #### <span style=\"color:red\"> Create a NEW notebook and rename it: CO2_TimeSeries_Analysis\n",
    "* #### <span style=\"color:red\"> Read in all three CO2 datasets: NOAA, WDCGG, and Mauna Loa\n",
    "* #### <span style=\"color:red\"> Create three seperate plots of time series of CO2 concentration in ppm.\n",
    "* #### <span style=\"color:red\"> Create a single plot with _all_ three datasets on the plot, make each time series a seperate color and with a legend on the plot (hint .... you can use the fig, ax = plt.subplots(figsize=(5,5)) method for this ... one plot will plot on top of the other).\n",
    "* #### <span style=\"color:red\"> In the cell below your image ... create a Figure caption using Markdown.\n",
    "* #### <span style=\"color:red\"> The first cell of your notebook should contain descriptive Markdown that describes the purpose of the notebook and the author including contact information.    \n",
    "* #### <span style=\"color:red\"> Push this notebook and your new notebook to your GitHub repository."
   ]
  }
 ],
 "metadata": {
  "kernelspec": {
   "display_name": "Python 3 (ipykernel)",
   "language": "python",
   "name": "python3"
  },
  "language_info": {
   "codemirror_mode": {
    "name": "ipython",
    "version": 3
   },
   "file_extension": ".py",
   "mimetype": "text/x-python",
   "name": "python",
   "nbconvert_exporter": "python",
   "pygments_lexer": "ipython3",
   "version": "3.11.9"
  }
 },
 "nbformat": 4,
 "nbformat_minor": 5
}
