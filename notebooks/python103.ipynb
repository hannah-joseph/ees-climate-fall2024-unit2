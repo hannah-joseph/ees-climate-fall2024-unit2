{
 "cells": [
  {
   "cell_type": "markdown",
   "id": "45343637-bef6-4a7a-ad12-20868ede2863",
   "metadata": {},
   "source": [
    "### This notebook goes over the fundamentals of Python arrays, specifically Numerical Python N-D Arrays (NumPy arrays).\n",
    "#### Portions of this notebook were adapted from lessons and images in the [NumPy: the absolute basics for beginners tutorial](https://numpy.org/devdocs/user/absolute_beginners.html) on numpy.org. Users should refer to the tutorial linked above for more in-depth lessons. The bare minimum that is needed to understand course material is presented here.\n",
    "\n",
    "__Author__: Dr. Beadling. For any questions regarding the contents of this notebook please contact rebecca.beadling@temple.edu."
   ]
  },
  {
   "cell_type": "markdown",
   "id": "a42863f4-f6b6-408c-b781-4b7209df08c4",
   "metadata": {},
   "source": [
    "### You should be __entering__ this lesson with ... \n",
    "* Knowledge of the fundamentals of the structure of a Jupyter notebook. \n",
    "* Knowledge of Python fundamentals including syntax, variable assignemnt, data types, indexing, arthmetic, control flow, and functions.\n",
    "* Knowledge of how to use git status, git commit, git push."
   ]
  },
  {
   "cell_type": "markdown",
   "id": "b54aa2d9-f266-48bd-bde1-042e28b8c641",
   "metadata": {},
   "source": [
    "### You should be __leaving__ this lesson with ...\n",
    "* An understanding of what an array is in Python.\n",
    "* An understanding of how to create arrays, index arrays, and apply operations across arrays (arithmetic with multiple arrays + broadcasting arrays using scalar values).\n",
    "* Basic arithmetic and array operations \n",
    "* How to write basic mathematical equations using NumPy.\n",
    "* A newly created numpy array saved out as a .csv file with Philadelphia Hourly temperatures."
   ]
  },
  {
   "cell_type": "code",
   "execution_count": null,
   "id": "37f49e93-3463-4a91-85de-690117db7d06",
   "metadata": {
    "tags": []
   },
   "outputs": [],
   "source": [
    "import numpy as np\n",
    "import matplotlib.pyplot as plt"
   ]
  },
  {
   "cell_type": "code",
   "execution_count": null,
   "id": "94007acd-29d2-4c45-8aeb-a5ea5b668cc4",
   "metadata": {
    "tags": []
   },
   "outputs": [],
   "source": [
    "%matplotlib inline                           \n",
    "%config InlineBackend.figure_format='retina' \n",
    "plt.rcParams['figure.figsize'] = 12,6   "
   ]
  },
  {
   "cell_type": "markdown",
   "id": "438e0e07-9abe-457d-b06c-f66531476d34",
   "metadata": {},
   "source": [
    "#### In previous lessons in this unit we encountered many different data types within the Python programming language. Some of these data types included __containers__, i.e., data structures that could hold a number of elements at the same time.\n",
    "\n",
    "#### <span style=\"color:red\"> What data types have we worked with that you could classify as being containers? Which of them are __ordered__ ? Put your answer in the cell below."
   ]
  },
  {
   "cell_type": "code",
   "execution_count": null,
   "id": "c61540ed-6f37-41df-9f79-a589af2dbf02",
   "metadata": {},
   "outputs": [],
   "source": []
  },
  {
   "cell_type": "markdown",
   "id": "745fa7ca-634f-48cd-809f-6ed07165ffee",
   "metadata": {},
   "source": [
    "#### In all of the examples of data types that we would consider __containers__ so far, the elements inside of the containers are allowed to be of _any data type_ and can have __multiple data types__. For example:"
   ]
  },
  {
   "cell_type": "code",
   "execution_count": null,
   "id": "713d0922-0147-4f0a-a151-9988cba982b5",
   "metadata": {
    "tags": []
   },
   "outputs": [],
   "source": [
    "colleges={\"2016-2018\":\"Alabama\",\n",
    "          \"2019\":\"Oklahoma\"}"
   ]
  },
  {
   "cell_type": "code",
   "execution_count": null,
   "id": "02743be7-cfcc-4a97-8c4d-b5a7dcc06c75",
   "metadata": {
    "tags": []
   },
   "outputs": [],
   "source": [
    "qb_stats = ['Jalen Hurts', 1, colleges, 1.85]"
   ]
  },
  {
   "cell_type": "code",
   "execution_count": null,
   "id": "9d0193c7-e092-42a4-a956-b1edf7167f15",
   "metadata": {
    "tags": []
   },
   "outputs": [],
   "source": [
    "qb_stats"
   ]
  },
  {
   "cell_type": "code",
   "execution_count": null,
   "id": "65cad8ba-5757-43dc-8435-52a358efcfe0",
   "metadata": {
    "tags": []
   },
   "outputs": [],
   "source": [
    "type(qb_stats)"
   ]
  },
  {
   "cell_type": "code",
   "execution_count": null,
   "id": "4f9c62b0-342f-45a9-b1d5-93164dddd61a",
   "metadata": {
    "tags": []
   },
   "outputs": [],
   "source": [
    "type(qb_stats[0]), type(qb_stats[1]), type(qb_stats[2]), type(qb_stats[3])"
   ]
  },
  {
   "cell_type": "code",
   "execution_count": null,
   "id": "65951e5c-f20d-45dc-a078-a548b796ce9f",
   "metadata": {
    "tags": []
   },
   "outputs": [],
   "source": [
    "for x in qb_stats:\n",
    "    dtype = type(x)\n",
    "    print(dtype), print(x)"
   ]
  },
  {
   "cell_type": "markdown",
   "id": "1fd027ab-787a-49fd-b5ea-b05ac3336f6e",
   "metadata": {},
   "source": [
    "#### An array is also an ordered container, but it is fundamentally different from `lists`, `dicts`, and `tuples`, in that every single element inside of the array has to be of the __same data type__. You can have an array that contains only floats, ints, or only any other Python data type, __but you cannot mix and match!__ \n",
    "\n",
    "#### This requirement is very powerful, because it means that we can perform operations across all the elements of the array without running into errors (if we are of course using an appropriate operation). Arrays are not built in data structures, so we must import specific python packages to create and work with them."
   ]
  },
  {
   "cell_type": "markdown",
   "id": "37b0379b-0fb0-4d8f-8cb4-8302ecc7e118",
   "metadata": {},
   "source": [
    "#### One of the most common Array structures you will work with in Python when performing numerical calculations or working with numerical data is a __NumPy Array__, or a \"N-dimensional array\". We work with NumPy arrays by importing and calling the __Numerical Python (NumPy)__ package. Recall that we imported this package as np at the start of this notebook."
   ]
  },
  {
   "cell_type": "markdown",
   "id": "e357d5e1-b85b-4fd7-b8f0-76d12d00a817",
   "metadata": {},
   "source": [
    "### From [the Numpy user guide](https://numpy.org/doc/stable/user/absolute_beginners.html):\n",
    "\"NumPy (Numerical Python) is an open source Python library that’s __used in almost every field of science and engineering__. It’s the universal standard for working with numerical data in Python, and it’s at the core of the scientific Python and PyData ecosystems. NumPy users include everyone from beginning coders to experienced researchers doing state-of-the-art scientific and industrial research and development. The NumPy API is used extensively in Pandas, SciPy, Matplotlib, scikit-learn, scikit-image and most other data science and scientific Python packages.\""
   ]
  },
  {
   "cell_type": "markdown",
   "id": "aeddbefa-3590-4c33-9ec0-ab991aca61e5",
   "metadata": {
    "tags": []
   },
   "source": [
    "![](https://upload.wikimedia.org/wikipedia/commons/thumb/3/31/NumPy_logo_2020.svg/1200px-NumPy_logo_2020.svg.png)"
   ]
  },
  {
   "cell_type": "markdown",
   "id": "03d557da-51b8-419f-8580-27ee56193c8d",
   "metadata": {},
   "source": [
    "### Is your head spinning with \"n-dimensional array\" ??? IT'S OKAY, STAY WITH ME!\n",
    "### A N-dimensional array is simply an array with __any number__ of dimensions."
   ]
  },
  {
   "cell_type": "markdown",
   "id": "1b830e98-5c29-418f-9670-f8c2be281a08",
   "metadata": {},
   "source": [
    "#### You can think about a ndarray (n-dimensional array) as a __grid__ of information. The information in this __grid__ can be accessed via indexing and slicing, just like the `lists` that we encountered earlier."
   ]
  },
  {
   "cell_type": "markdown",
   "id": "740a6b1d-bcb4-44de-8061-27c4350d69ab",
   "metadata": {},
   "source": [
    "### The image below shows arrays visualized as __grids__: \n",
    "* #### A __1D array__: information only 1 dimension. You will hear 1D arrays referred to as __vectors__. _(in more advanced courses)_\n",
    "> #### Example: change in temperature over time (a \"__timeseries__\") where the only dimension (axis) of the array is time.\n",
    "* #### A __2D array__: information in 2 dimensions. You will hear 2D arrays referred to as __matrices__. _(in more advanced courses)_\n",
    "> #### Example: a map of sea surface temperature, where the dimensions (axes) of the array are latitude x longitude.\n",
    "* #### A __3D array__: information in 3 dimensions. You will hear 2D arrays referred to as __tensors__. _(in more advanced courses)_\n",
    "> #### Example: global ocean temperature dataset, where the dimensions (axes) of the array are latitude x longitude x ocean depth. \n",
    "Now if we our global ocean temperature dataset was changing with __time__, our dimensions (axes) would be latitude x longitude x ocean depth x time. This would be a __4D array__.\n",
    "\n",
    "#### The analysis of observational datasets and climate model results requires the ability to work with numerical data stored in 1D to 4D arrays.\n"
   ]
  },
  {
   "cell_type": "markdown",
   "id": "81373d52-ae71-4034-92e3-af707d379cde",
   "metadata": {
    "tags": []
   },
   "source": [
    "![](https://predictivehacks.com/wp-content/uploads/2020/08/numpy_arrays.png)"
   ]
  },
  {
   "cell_type": "markdown",
   "id": "d1ebc0be-2acf-4a86-b3a6-0290ad61be27",
   "metadata": {
    "tags": []
   },
   "source": [
    "![](https://cac.cornell.edu/myers/teaching/ComputationalMethods/python/anatomyarray.png)"
   ]
  },
  {
   "cell_type": "markdown",
   "id": "6c3d5e7e-72ed-4f25-b084-35d2488807a0",
   "metadata": {},
   "source": [
    "#### Lets start with a simple 1D array (vector). We can create any 1D np.ndarray using the following syntax:\n",
    "* #### array_variable = np.array([element1,element2, .... element n])"
   ]
  },
  {
   "cell_type": "code",
   "execution_count": null,
   "id": "50ca8333-5662-4763-b262-40547949db47",
   "metadata": {
    "tags": []
   },
   "outputs": [],
   "source": [
    "array1d = np.array([1,2,3]) # create a variable called array1d equal to a numpy array with the contents ([])"
   ]
  },
  {
   "cell_type": "code",
   "execution_count": null,
   "id": "ec5e40ea-e212-4550-9dfa-89dcd9ab180e",
   "metadata": {},
   "outputs": [],
   "source": [
    "array1d"
   ]
  },
  {
   "cell_type": "markdown",
   "id": "720e6ffc-327f-4f7a-80a9-2200782bc3a5",
   "metadata": {},
   "source": [
    "#### Now printing out the data type (shown using two different methods below) shows us that this new variable we created is a numpy.ndarray:"
   ]
  },
  {
   "cell_type": "code",
   "execution_count": null,
   "id": "ce62cf1a-4f45-42c8-b9a7-b18559d271fa",
   "metadata": {
    "tags": []
   },
   "outputs": [],
   "source": [
    "### the \\ symbol allows us to break the line and continue it below.\n",
    "type(array1d),\\\n",
    "array1d.dtype"
   ]
  },
  {
   "cell_type": "markdown",
   "id": "02ca464c-23f6-48e9-bc9a-265ebfff174a",
   "metadata": {},
   "source": [
    "#### We can use the `.shape` and `.ndim`, methods to print out the shape of the array and the number of dimensions in the array:\n",
    "* #### `.shape:` the number of elements along __each axis__. \n",
    "The results are returned as (#of elements along axis 0, # of elements along axis 1, ... # of elements along axis n). See the example in the \"anatomy of an array\" diagram above. The array has a shape of 8 elements along axis 0, and 3 along axis 1, returning a shape of (8,3). \n",
    "* #### `.dims:` the number of dimensions in the array. \n",
    "A 1D array will return a result of 1, a 2D array will return a result of 2, and nD array will return a result of n.\n",
    "\n",
    "#### The result of applying these methods to our array1d below shows us that this is a 1D array with 3 elements along its first axis [0]."
   ]
  },
  {
   "cell_type": "code",
   "execution_count": null,
   "id": "89aa37fc-1bc3-497d-b959-721608d19aba",
   "metadata": {
    "tags": []
   },
   "outputs": [],
   "source": [
    "array1d"
   ]
  },
  {
   "cell_type": "code",
   "execution_count": null,
   "id": "405a4087-08cc-4040-8010-1d05e70ab47e",
   "metadata": {},
   "outputs": [],
   "source": [
    "array1d.shape"
   ]
  },
  {
   "cell_type": "code",
   "execution_count": null,
   "id": "18516dc8-36c8-4b57-9056-49ea618b314a",
   "metadata": {
    "tags": []
   },
   "outputs": [],
   "source": [
    "array1d.ndim"
   ]
  },
  {
   "cell_type": "markdown",
   "id": "8669beb6-ac18-446a-93da-74b146b52a5b",
   "metadata": {
    "tags": []
   },
   "source": [
    "#### Numpy has methods of `.ones()`, `.zeros()` , and `random.rand()` that creates an array filled with ones, zeros, or random numbers of a user specified shape. This functionality can be useful in certain applications, we will use it here to create ndarrays of various shapes in the examples below:"
   ]
  },
  {
   "cell_type": "code",
   "execution_count": null,
   "id": "d9b373cf-1111-44a0-8de2-c2da4cca7e64",
   "metadata": {
    "tags": []
   },
   "outputs": [],
   "source": [
    "arrayones_1d = np.ones(5)  # a 1D array, with 5 elements over the first dimension\n",
    "arrayones_1d"
   ]
  },
  {
   "cell_type": "code",
   "execution_count": null,
   "id": "28f06a75-d350-43b1-a28a-26f48944d519",
   "metadata": {
    "tags": []
   },
   "outputs": [],
   "source": [
    "arrayzeros_1d = np.zeros(5)  # a 1D array, with 5 elements over the first dimension\n",
    "arrayzeros_1d"
   ]
  },
  {
   "cell_type": "code",
   "execution_count": null,
   "id": "774e2684-f406-4d0c-84f8-69c8ee0b0ab4",
   "metadata": {
    "tags": []
   },
   "outputs": [],
   "source": [
    "arrayzeros_1d = np.random.rand(5)  # a 1D array, with 5 elements over the first dimension\n",
    "arrayzeros_1d"
   ]
  },
  {
   "cell_type": "markdown",
   "id": "a1a0c448-a9f7-45fb-91b8-a32127c326c3",
   "metadata": {},
   "source": [
    "#### What if we wanted to create a 2D array of ones, zeros, or random numbers?"
   ]
  },
  {
   "cell_type": "code",
   "execution_count": null,
   "id": "1cfd1b8e-d230-415d-9dd0-19952b402a7e",
   "metadata": {
    "tags": []
   },
   "outputs": [],
   "source": [
    "arrayones_2d = np.ones([5,1]) ##  # a 2D array, with 5 elements over the first (rows) and second (columns) dimensions\n",
    "arrayones_2d"
   ]
  },
  {
   "cell_type": "code",
   "execution_count": null,
   "id": "611d6379-4dc3-494b-9141-175c356e5d5d",
   "metadata": {
    "tags": []
   },
   "outputs": [],
   "source": [
    "arrayzeros_2d = np.zeros([5,5]) ## this is a 5 X 5 array\n",
    "arrayzeros_2d"
   ]
  },
  {
   "cell_type": "code",
   "execution_count": null,
   "id": "58aa2bc9-adee-40aa-a8b8-242b52466185",
   "metadata": {
    "tags": []
   },
   "outputs": [],
   "source": [
    "arrayrandom_2d = np.random.rand(5,5) ## this is a 5 X 5 array\n",
    "arrayrandom_2d"
   ]
  },
  {
   "cell_type": "markdown",
   "id": "f90a4d65-2761-4dda-81d3-7572f180fab8",
   "metadata": {},
   "source": [
    "#### <span style=\"color:red\"> Play around with changing the dimension sizes in the examples above to get a handle on how the arrays change. In the cell below, using np.ones and np.zeros, create a 2D array with 2 rows and 3 columns."
   ]
  },
  {
   "cell_type": "code",
   "execution_count": null,
   "id": "8a61263a-6014-48f2-8700-740b018c8892",
   "metadata": {},
   "outputs": [],
   "source": []
  },
  {
   "cell_type": "markdown",
   "id": "faa37de9-88aa-4e1d-be0f-a10078a16602",
   "metadata": {},
   "source": [
    "#### <span style=\"color:red\"> What if we wanted to create a 3D or 4D array of ones or zeros? Use the cells below to do so:"
   ]
  },
  {
   "cell_type": "code",
   "execution_count": null,
   "id": "fa900e59-dac9-414c-b4db-f3e085e91bea",
   "metadata": {},
   "outputs": [],
   "source": []
  },
  {
   "cell_type": "markdown",
   "id": "5b2ae5f3-4f5b-4560-a80a-b04ba781f167",
   "metadata": {},
   "source": [
    "#### We can index and slice arrays just like we learned for `lists`. Let's return to the 1D array we created at the start: `array1d`"
   ]
  },
  {
   "cell_type": "code",
   "execution_count": null,
   "id": "30ebb78a-c30d-4fb7-8e55-4e8f6d75559f",
   "metadata": {
    "tags": []
   },
   "outputs": [],
   "source": [
    "array1d"
   ]
  },
  {
   "cell_type": "markdown",
   "id": "aba356ae-f574-4f93-bfea-88da37079d29",
   "metadata": {},
   "source": [
    "#### <span style=\"color:red\"> How would you extract the first element in array1d? What about the last? What about if we wanted to extract the number2? For practice, for each one, in the cells below, show how you would do it using positive AND negative indexing."
   ]
  },
  {
   "cell_type": "code",
   "execution_count": null,
   "id": "7184bbba-e007-42fe-b7c8-a7c4dc027a96",
   "metadata": {
    "tags": []
   },
   "outputs": [],
   "source": [
    "array1d[0]"
   ]
  },
  {
   "cell_type": "code",
   "execution_count": null,
   "id": "a593e5fd-4f71-4081-83c3-d5fd27eadfda",
   "metadata": {},
   "outputs": [],
   "source": []
  },
  {
   "cell_type": "code",
   "execution_count": null,
   "id": "a277acdc-9a39-47cc-895e-4038df18bfa1",
   "metadata": {},
   "outputs": [],
   "source": []
  },
  {
   "cell_type": "code",
   "execution_count": null,
   "id": "b889c63c-6acc-4245-9292-4791a294e477",
   "metadata": {},
   "outputs": [],
   "source": []
  },
  {
   "cell_type": "markdown",
   "id": "290f2ecf-249e-4d88-a80e-55a38e67eee0",
   "metadata": {},
   "source": [
    "#### <span style=\"color:red\"> How would you extract the first TWO elements in array1d? "
   ]
  },
  {
   "cell_type": "code",
   "execution_count": null,
   "id": "a7838157-0b99-4f5f-937e-0a3ca65915b7",
   "metadata": {},
   "outputs": [],
   "source": [
    "array1d[0:2]"
   ]
  },
  {
   "cell_type": "markdown",
   "id": "228266df-683f-4bdb-bc2e-ab601b17788a",
   "metadata": {},
   "source": [
    "### We can visualize this as shown below:"
   ]
  },
  {
   "cell_type": "markdown",
   "id": "97351c9a-c0e7-465d-baa3-a62b306736e1",
   "metadata": {},
   "source": [
    "![](https://numpy.org/devdocs/_images/np_indexing.png)"
   ]
  },
  {
   "cell_type": "markdown",
   "id": "49199b35-8496-4904-904b-473005063c72",
   "metadata": {},
   "source": [
    "### Basic arithmetic and operations on arrays: 1D"
   ]
  },
  {
   "cell_type": "markdown",
   "id": "d4b2f3e8-9c9b-47af-8b61-e51f8184df72",
   "metadata": {
    "tags": []
   },
   "source": [
    "#### Arithmetic operators on arrays apply __elementwise__ (i.e., are applied to __element to element__). A new array is created and filled with the result."
   ]
  },
  {
   "cell_type": "code",
   "execution_count": null,
   "id": "0c766496-0c14-4d8f-8d74-30b28ac22af8",
   "metadata": {
    "tags": []
   },
   "outputs": [],
   "source": [
    "arr1 = np.array([10,20,30,40,50])\n",
    "arr2 = np.array([30,30,30,30,30])"
   ]
  },
  {
   "cell_type": "code",
   "execution_count": null,
   "id": "7f8da6d1-f55b-44b3-8e22-3645a9ff288d",
   "metadata": {
    "tags": []
   },
   "outputs": [],
   "source": [
    "arr1 + arr2   # elementwise addtion of arr1 and arr2: arr1[0] + arr2[0] ... and so on."
   ]
  },
  {
   "cell_type": "code",
   "execution_count": null,
   "id": "a49a0142-40ff-4589-b855-3e7ff2c558f1",
   "metadata": {
    "tags": []
   },
   "outputs": [],
   "source": [
    "arr1 - arr2   # elementwise subtraction of arr1 and arr2: arr1[0] - arr2[0] ... and so on."
   ]
  },
  {
   "cell_type": "code",
   "execution_count": null,
   "id": "f4a176de-4b14-41de-8cef-81e5f0307e71",
   "metadata": {
    "tags": []
   },
   "outputs": [],
   "source": [
    "arr1 * arr2     # elementwise product of arr1 and arr2: arr1[0] * arr2[0] ... and so on."
   ]
  },
  {
   "cell_type": "code",
   "execution_count": null,
   "id": "2d792b8f-21db-4c0d-8fcc-09504b61eead",
   "metadata": {
    "tags": []
   },
   "outputs": [],
   "source": [
    "arr1 / arr2     # elementwise floor division of arr1 and arr2: arr1[0] / arr2[0] ... and so on."
   ]
  },
  {
   "cell_type": "code",
   "execution_count": null,
   "id": "5a11565a-e72e-49cc-a4b8-cc543a49f752",
   "metadata": {
    "tags": []
   },
   "outputs": [],
   "source": [
    "arr2 > arr1   # elementwise boolean operations of arr1 and arr2: arr1[0] > arr2[0] ... and so on."
   ]
  },
  {
   "cell_type": "code",
   "execution_count": null,
   "id": "421c514f-0321-4293-a08e-ad86af3fbd11",
   "metadata": {
    "tags": []
   },
   "outputs": [],
   "source": [
    "arr1 ** arr2  # elementwise exponentiation .... element of arr1 raise to the power of the element of arr1: arr1[0] ** arr2[0] ... and so on."
   ]
  },
  {
   "cell_type": "markdown",
   "id": "9e0af44d-db15-4505-93ff-5e0842f1b39b",
   "metadata": {},
   "source": [
    "### Elementwise arithmetic is visualized in the graphics below:"
   ]
  },
  {
   "cell_type": "markdown",
   "id": "aee19f8e-c6b3-4791-bd37-69f8d17702a8",
   "metadata": {
    "tags": []
   },
   "source": [
    "![](https://numpy.org/doc/stable/_images/np_array_dataones.png)\n",
    "![](https://numpy.org/doc/stable/_images/np_data_plus_ones.png)\n",
    "![](https://numpy.org/doc/stable/_images/np_sub_mult_divide.png)"
   ]
  },
  {
   "cell_type": "markdown",
   "id": "01d59b79-d20d-4133-a613-2d5c1ed3eb62",
   "metadata": {},
   "source": [
    "### You can perform basic operations to elements within a single array or over a single axis of a multi-dimensional array:\n",
    "\n",
    "#### The following methods return a single (scalar) value:\n",
    "* `.sum()` : find the sum of the elements in an array (i.e., arr[0] + arr[1] + .... arr[n])\n",
    "* `.mean()` : fine the arithmetic mean (average) of the elements in the array (i.e., (arr[0] + arr[1] + .... arr[n]) / n number of elements)\n",
    "* `.std()` : fine the standard deviation the elemnts in the array.\n",
    "* `.min()` : find the element of the minimum (lowest) value in the array.\n",
    "* `.max()` : find the element of the maximum (greatest) value in the array.\n",
    "\n",
    "#### The following methods return an array with the resulting values:\n",
    "* `np.square(array)`: square all elements within the array, return array with squared values.\n",
    "* `np.sqrt(array)`: square root all elements within the array, return array with the square root of values.\n",
    "* `np.cos(array)`: apply cosine to all elements within the array, return array with the computed values.\n",
    "* `np.sin(array)`: apply sine to all elements within the array, return array with the computed values."
   ]
  },
  {
   "cell_type": "code",
   "execution_count": null,
   "id": "4de95e71-9ab4-439b-a0bd-149440a1adb7",
   "metadata": {
    "tags": []
   },
   "outputs": [],
   "source": [
    "arr1.sum()"
   ]
  },
  {
   "cell_type": "code",
   "execution_count": null,
   "id": "88dc60cd-c2be-4035-8807-3f370f4dbe74",
   "metadata": {
    "tags": []
   },
   "outputs": [],
   "source": [
    "arr1.mean()"
   ]
  },
  {
   "cell_type": "code",
   "execution_count": null,
   "id": "9dfd8f67-78b5-4313-bb8e-6df97631d2d6",
   "metadata": {
    "tags": []
   },
   "outputs": [],
   "source": [
    "np.square(arr1)"
   ]
  },
  {
   "cell_type": "code",
   "execution_count": null,
   "id": "496e5299-2b31-4a03-8329-549265117e4a",
   "metadata": {
    "tags": []
   },
   "outputs": [],
   "source": [
    "np.sqrt(arr2)"
   ]
  },
  {
   "cell_type": "markdown",
   "id": "fe807dc1-a1a2-45b4-80fe-03de73cc98fd",
   "metadata": {},
   "source": [
    "![](https://numpy.org/doc/stable/_images/np_aggregation.png)"
   ]
  },
  {
   "cell_type": "markdown",
   "id": "5781f549-f8cc-439c-afb9-acc6e00629d8",
   "metadata": {},
   "source": [
    "#### <span style=\"color:red\"> In the cells below, create a 1D array and practice using the `.sum()`, `.mean()`, `.std()`, `.min()`, `.max()`. Make sure you have a cell for each operation and display the output. Discuss any challenges in your understanding with those around you."
   ]
  },
  {
   "cell_type": "code",
   "execution_count": null,
   "id": "a8a105ad-77bc-4e86-b20c-f0f4285ce90c",
   "metadata": {
    "tags": []
   },
   "outputs": [],
   "source": []
  },
  {
   "cell_type": "code",
   "execution_count": null,
   "id": "365380b9-31bd-4acc-ba1b-a06f44f472e4",
   "metadata": {},
   "outputs": [],
   "source": []
  },
  {
   "cell_type": "code",
   "execution_count": null,
   "id": "49e116cf-02c3-4143-9dc8-5ded49475d55",
   "metadata": {},
   "outputs": [],
   "source": []
  },
  {
   "cell_type": "code",
   "execution_count": null,
   "id": "3278555f-f2d6-407b-ab81-457134d3a01d",
   "metadata": {},
   "outputs": [],
   "source": []
  },
  {
   "cell_type": "code",
   "execution_count": null,
   "id": "9296fa39-cc10-44b7-85da-8a8ed04c0268",
   "metadata": {},
   "outputs": [],
   "source": []
  },
  {
   "cell_type": "markdown",
   "id": "3f20467d-e8aa-4bf7-a025-7764cc32a574",
   "metadata": {},
   "source": [
    "#### <span style=\"color:red\"> In the cells below, create a 1D array and practice using the `np.square(array)`, `np.sqrt(array)`, `np.cos(array)`, `np.sin(array)`. Make sure you have a cell for each operation and display the output. Discuss any challenges in your understanding with those around you."
   ]
  },
  {
   "cell_type": "code",
   "execution_count": null,
   "id": "ca2cffec-008c-4721-b490-019d19862122",
   "metadata": {},
   "outputs": [],
   "source": []
  },
  {
   "cell_type": "code",
   "execution_count": null,
   "id": "7779b567-d36e-4c27-a4d1-be2ec83db818",
   "metadata": {},
   "outputs": [],
   "source": []
  },
  {
   "cell_type": "code",
   "execution_count": null,
   "id": "132905cb-be8d-40e0-ad32-e669da750adc",
   "metadata": {},
   "outputs": [],
   "source": []
  },
  {
   "cell_type": "code",
   "execution_count": null,
   "id": "9a84c333-58be-4bcf-b12a-1c71115d421b",
   "metadata": {},
   "outputs": [],
   "source": []
  },
  {
   "cell_type": "code",
   "execution_count": null,
   "id": "2e658873-bbd3-4d3c-8f32-6a5f8cdda54e",
   "metadata": {},
   "outputs": [],
   "source": []
  },
  {
   "cell_type": "markdown",
   "id": "3e77a047-e6b4-4ca2-a35c-64fc2bab3863",
   "metadata": {},
   "source": [
    "### __Broadcasting__: carrying out an operation between __an array and a single number__ (scalar). NumPy understands that the operation must be done __for each cell__."
   ]
  },
  {
   "cell_type": "markdown",
   "id": "f3921b35-d3c1-481b-9d12-23ddc524e310",
   "metadata": {},
   "source": [
    "#### Say you have an array that contains data regarding distance in miles, but you wish to convert this data into km for your calculation: \n",
    "* 1 mile = 1.6 km."
   ]
  },
  {
   "cell_type": "code",
   "execution_count": null,
   "id": "51c6bb9e-faed-47ce-a180-eb3e8518b413",
   "metadata": {
    "tags": []
   },
   "outputs": [],
   "source": [
    "data_in_miles = np.array([1.0, 2.0])\n",
    "data_in_km = data_in_miles*1.6\n",
    "data_in_km"
   ]
  },
  {
   "cell_type": "markdown",
   "id": "73b1d3f8-cf5d-4ef6-9b90-87d7ccd891b8",
   "metadata": {
    "tags": []
   },
   "source": [
    "![](https://numpy.org/doc/stable/_images/np_multiply_broadcasting.png)"
   ]
  },
  {
   "cell_type": "markdown",
   "id": "01b9b316-2631-4c2c-874c-39a5ce346988",
   "metadata": {},
   "source": [
    "### <span style=\"color:red\"> In the cells below: \n",
    "#### <span style=\"color:red\">  1. Create a 1D array of today's hourly temperatures in Philadelphia which you can find using __this [link](https://weather.com/weather/hourbyhour/l/Philadelphia+PA?canonicalCityId=aa0f46aff5c7ee96eb5fdea10c53c77c9578eb071854d7f04ae0a7aa517772ab)__: \n",
    "#### <span style=\"color:red\">  2. Print out the shape of your array. How many elements does your array contain?\n",
    "#### <span style=\"color:red\">  3.  Compute the max, min, average, and standard deviation of the temperatures.\n",
    "#### <span style=\"color:red\">  4.  Create new array that contains all the values in the array to converted to degrees Celcius.\n",
    "#### <span style=\"color:red\">  5.  Create new array that contains all the values in the array to converted to Kelvin."
   ]
  },
  {
   "cell_type": "code",
   "execution_count": null,
   "id": "618f01ef-6c0b-44e6-ad6e-f0a878f99d80",
   "metadata": {},
   "outputs": [],
   "source": []
  },
  {
   "cell_type": "markdown",
   "id": "ffdfe117-99f0-4422-b1d5-6ce43fc64403",
   "metadata": {},
   "source": []
  },
  {
   "cell_type": "code",
   "execution_count": null,
   "id": "4641d540-734c-4bc8-aae9-9875d732330a",
   "metadata": {},
   "outputs": [],
   "source": []
  },
  {
   "cell_type": "code",
   "execution_count": null,
   "id": "da69551b-2d6c-46bf-a51a-538db85979c7",
   "metadata": {},
   "outputs": [],
   "source": []
  },
  {
   "cell_type": "code",
   "execution_count": null,
   "id": "f5b8f268-f89d-4650-ad15-a906893b9e66",
   "metadata": {},
   "outputs": [],
   "source": []
  },
  {
   "cell_type": "markdown",
   "id": "d0a0ad93-5332-4b88-aeba-71a3aa711bf3",
   "metadata": {},
   "source": [
    "### Working with 2D arrays (matrices) [We won't go into the creation of 3D arrays (tensors) for our purposes, but the same methods apply]"
   ]
  },
  {
   "cell_type": "markdown",
   "id": "41876856-5f8e-4184-bfbb-0552ca519665",
   "metadata": {},
   "source": [
    "#### You were briefly introduced to the creation of > 1D arrays earlier in this lesson when you were challenged with creating them using the `.ones()`, `.zeros()`, and `.random.rand()`. How would we create one with user-defined values? We can pass Python \"lists of lists\":\n",
    "* #### The first axis (axis 0) of our array (ROWS) contains the elements inside the \"outer most\" brackets.\n",
    "* #### The second axis (axis 1) of our array (COLUMNS) contains the elements inside of the inner most brackets."
   ]
  },
  {
   "cell_type": "code",
   "execution_count": null,
   "id": "28e92251-f3b2-4435-813a-6b27e4a4598e",
   "metadata": {
    "tags": []
   },
   "outputs": [],
   "source": [
    "array2d = np.array([[1, 2], [3, 4], [5, 6]])\n",
    "array2d"
   ]
  },
  {
   "cell_type": "markdown",
   "id": "6a9dc4ba-ccd1-44d8-881e-e404a9ed4e4d",
   "metadata": {},
   "source": [
    "![](https://numpy.org/devdocs/_images/np_create_matrix.png)"
   ]
  },
  {
   "cell_type": "markdown",
   "id": "df82836c-4c58-4884-a2e5-b681d13cb16a",
   "metadata": {},
   "source": [
    "#### <span style=\"color:red\"> How many elements does the first axis (axis 0) contain?"
   ]
  },
  {
   "cell_type": "code",
   "execution_count": null,
   "id": "7239ee37-1685-46b8-be9a-1d1d4b300f54",
   "metadata": {},
   "outputs": [],
   "source": []
  },
  {
   "cell_type": "markdown",
   "id": "6e8a4b5e-4cff-4e6c-9364-ca72dda28c24",
   "metadata": {},
   "source": [
    "#### <span style=\"color:red\"> How many elements does the second axis (axis 1) contain?"
   ]
  },
  {
   "cell_type": "code",
   "execution_count": null,
   "id": "b4b02f8e-39b9-49e2-84ca-e11f10c35506",
   "metadata": {},
   "outputs": [],
   "source": []
  },
  {
   "cell_type": "markdown",
   "id": "e9f40350-db02-4c45-995a-5ed7940a5e76",
   "metadata": {},
   "source": [
    "#### <span style=\"color:red\"> Based on your assessment above. What will be the result of the `.shape` and `.ndim` methods? Explain your results to the person next to you."
   ]
  },
  {
   "cell_type": "code",
   "execution_count": null,
   "id": "4a96cdcb-d752-4079-aa7f-9f5316910361",
   "metadata": {},
   "outputs": [],
   "source": []
  },
  {
   "cell_type": "markdown",
   "id": "e9322c4e-5b5f-4bde-8b48-5fa220b37275",
   "metadata": {},
   "source": [
    "#### How do we __index__ if the array is greater than 1D ? The following array is the 2D array shown visually as blue shaded blocks in the image a few cells above."
   ]
  },
  {
   "cell_type": "code",
   "execution_count": null,
   "id": "b6f5e349-f199-410a-bdc4-145bdf2ae791",
   "metadata": {
    "tags": []
   },
   "outputs": [],
   "source": [
    "array2d"
   ]
  },
  {
   "cell_type": "code",
   "execution_count": null,
   "id": "95ac7fa1-ac0e-462a-b087-e26a85d428dd",
   "metadata": {},
   "outputs": [],
   "source": [
    "array2d[0,1]"
   ]
  },
  {
   "cell_type": "markdown",
   "id": "1fa25222-f041-4c94-9eca-3b90a355429d",
   "metadata": {},
   "source": [
    "#### If we want to selected a specific element of a 2D array, we use the following syntax which identifies the location (index) of the element as [row location,column location]. Multidimensional arrays can have one index per axis.\n",
    "* #### element = array[row_index,column_index]\n",
    "* #### The numerical value of 1 in our array2d is located at row 0, column 0:"
   ]
  },
  {
   "cell_type": "code",
   "execution_count": null,
   "id": "0910f778-1a4a-4e7c-b613-4ed0e0873df5",
   "metadata": {
    "tags": []
   },
   "outputs": [],
   "source": [
    "array2d[0,0]"
   ]
  },
  {
   "cell_type": "markdown",
   "id": "febe13c8-3792-4cb2-b79e-0e0a9f3aed6a",
   "metadata": {},
   "source": [
    "#### The number 5 in our array2d is located at row 2, column 0:"
   ]
  },
  {
   "cell_type": "code",
   "execution_count": null,
   "id": "d5248f46-d1d9-42e9-b369-0b5d7d20a3d9",
   "metadata": {
    "tags": []
   },
   "outputs": [],
   "source": [
    "array2d[2,0]"
   ]
  },
  {
   "cell_type": "markdown",
   "id": "8658bf9a-71bb-43f9-8527-401b10d91154",
   "metadata": {},
   "source": [
    "#### <span style=\"color:red\"> Write code in the cell below that extracts the number 4 from our array2d. Explain your thought process to the person next to you."
   ]
  },
  {
   "cell_type": "markdown",
   "id": "744cf326-4ea6-4c44-bb6e-76162a9a4834",
   "metadata": {},
   "source": []
  },
  {
   "cell_type": "markdown",
   "id": "543ec5d8-b0d5-482d-b7fc-d4bccff97ca4",
   "metadata": {},
   "source": [
    "#### <span style=\"color:red\"> Write code in the cell below that extracts the number 2 from our array2d. Explain your thought process to the person next to you."
   ]
  },
  {
   "cell_type": "markdown",
   "id": "02a46fea-e108-45df-81d7-10a751c0c4a3",
   "metadata": {},
   "source": []
  },
  {
   "cell_type": "markdown",
   "id": "52f7f7a1-7e1f-4dc1-b8e6-77da9e9ca8be",
   "metadata": {},
   "source": [
    "#### In the code below, the `:` translates to __extract ALL of the elements in each row__ and is equivalent to the example above where we specified 0:3:"
   ]
  },
  {
   "cell_type": "code",
   "execution_count": null,
   "id": "be4e7e1a-159b-449d-992b-60656e6d64ee",
   "metadata": {
    "tags": []
   },
   "outputs": [],
   "source": [
    "array2d[:, 1]    # This is equivalent to the previous example, the `:` translates to `extract ALL of the elements in each row`"
   ]
  },
  {
   "cell_type": "markdown",
   "id": "615b2500-5d72-467c-b9eb-c097be608cfe",
   "metadata": {
    "tags": []
   },
   "source": [
    "### Writing mathematical equations with NumPy. The ease of implementing mathematical formulas that work on arrays is one of the things that make NumPy so widely used in the scientific Python community. Let's work through some examples."
   ]
  },
  {
   "cell_type": "markdown",
   "id": "57b6f82c-09b0-4c96-aeec-d6485368867e",
   "metadata": {},
   "source": [
    "![](https://miro.medium.com/v2/resize:fit:640/format:webp/1*NoYRMhNKhmgC9fRossUXsA.png)"
   ]
  },
  {
   "cell_type": "markdown",
   "id": "499ffa5b-5832-464d-a4eb-cbf2920d2307",
   "metadata": {},
   "source": [
    "#### Translating the equation above into NumPy syntax would yield:\n",
    "#### In words: \"The __mean__ is equation to the sum of all of the elements in the array divided by the number of elements in the array\""
   ]
  },
  {
   "cell_type": "markdown",
   "id": "3845b72e-6df3-4e9d-9cf6-e94773f3985b",
   "metadata": {},
   "source": [
    "## `mean = np.sum(arr) / np.size`"
   ]
  },
  {
   "cell_type": "markdown",
   "id": "7d64ead4-36ef-4aa0-80db-f48b729d0f26",
   "metadata": {},
   "source": [
    "#### Apply this to our array, arr1:"
   ]
  },
  {
   "cell_type": "code",
   "execution_count": null,
   "id": "f12c549f-a472-4e5b-adfd-2d1efc05ac22",
   "metadata": {
    "tags": []
   },
   "outputs": [],
   "source": [
    "mean = arr1.sum() / arr1.size  ### .size returns the size, i.e., the number of elements in a array\n",
    "mean"
   ]
  },
  {
   "cell_type": "markdown",
   "id": "be2aeaf3-1c43-440e-8daf-b0ea166965ec",
   "metadata": {
    "tags": []
   },
   "source": [
    "#### Confirm that our value returned matches that from just using the `.mean()` method itself:"
   ]
  },
  {
   "cell_type": "code",
   "execution_count": null,
   "id": "5e7a1ee8-4185-4b36-beba-fe09524aaab7",
   "metadata": {
    "tags": []
   },
   "outputs": [],
   "source": [
    "arr1.mean()"
   ]
  },
  {
   "cell_type": "markdown",
   "id": "c758a68c-67df-45fa-b884-867cf084fc78",
   "metadata": {
    "tags": []
   },
   "source": [
    "#### <span style=\"color:red\"> In the cells below, translate the equation (sigma) for standard deviation into NumPy syntax and use it to compute the standard deviation of arr1. Confirm that your equation returns the same value as using the `.std()` method itself. Be careful of your parentheses!!"
   ]
  },
  {
   "cell_type": "markdown",
   "id": "812c7643-7e6a-4301-9834-a9dd4ae14447",
   "metadata": {},
   "source": [
    "![](https://www.gstatic.com/education/formulas2/553212783/en/population_standard_deviation.svg)"
   ]
  },
  {
   "cell_type": "markdown",
   "id": "b94656c5-999f-4f72-9710-35dbb92d903b",
   "metadata": {},
   "source": [
    "* ### sigma = population standard deviation\n",
    "* ### N = the size of the population\n",
    "* ### x_i = each value from the population (your elements)\n",
    "* ### u = the population mean"
   ]
  },
  {
   "cell_type": "code",
   "execution_count": null,
   "id": "574077f5-f1bd-4f85-abf0-d3842f5d150f",
   "metadata": {
    "tags": []
   },
   "outputs": [],
   "source": []
  },
  {
   "cell_type": "code",
   "execution_count": null,
   "id": "0e11ab54-0f18-4bfd-b5a2-d38239142d1a",
   "metadata": {
    "tags": []
   },
   "outputs": [],
   "source": []
  },
  {
   "cell_type": "markdown",
   "id": "689af15c-7f0c-4ede-8f88-c0efd3a20852",
   "metadata": {
    "tags": []
   },
   "source": [
    "#### <span style=\"color:red\"> Confirm that our value returned matches that from just using the `.mean()` method itself:"
   ]
  },
  {
   "cell_type": "code",
   "execution_count": null,
   "id": "e3fcef9f-b75d-49b9-b8c4-5b55554e5f0d",
   "metadata": {},
   "outputs": [],
   "source": []
  },
  {
   "cell_type": "markdown",
   "id": "9721165e-31a5-4a7e-8ae2-217a460b3403",
   "metadata": {},
   "source": [
    "#### <span style=\"color:red\"> Comprehension Check! Use the space below to write a function that takes in a 1D array as an arugment and returns the mean and standard deviation. Use the two equations for mean and standard deviation that you just worked out above. Revisit your python102b notebook to refresh yourself on functions."
   ]
  },
  {
   "cell_type": "code",
   "execution_count": null,
   "id": "cfb74feb-0b95-47b0-97dc-f146e7fbdcc9",
   "metadata": {
    "tags": []
   },
   "outputs": [],
   "source": []
  },
  {
   "cell_type": "markdown",
   "id": "d103c242-4da3-4eb1-bd5f-d25e86453d61",
   "metadata": {},
   "source": [
    "#### <span style=\"color:red\"> Send your array of hourly temperatures in Philadelphia through your function to compute the mean and standard deviation."
   ]
  },
  {
   "cell_type": "code",
   "execution_count": null,
   "id": "564cca86-cf4d-49af-8dda-0a1533914d16",
   "metadata": {},
   "outputs": [],
   "source": []
  },
  {
   "cell_type": "markdown",
   "id": "895cb9f4-2588-4b93-92d6-204039b1aed3",
   "metadata": {},
   "source": []
  },
  {
   "cell_type": "markdown",
   "id": "9db6696e-f9c5-403f-a5d6-86ee1b5ca652",
   "metadata": {},
   "source": [
    "#### There will likely come a time were you want to save your NumPy arrays and load them back in, so you do not have to re-run your code all the time.\n",
    "#### You can save a NumPy array as a plain text file like a `.csv` or `.txt` file with np.savetxt:\n",
    "* csv_arr = your_numpy_array   : define a new variable called csv_arr set equal to the numpy array you want to save\n",
    "* np.savetxt('name_of_file_to_be_saved.csv', csv_arr) : use np.savetxt to save your file with a user-designated name with .csv or .txt, csv_arr variable defined above.\n",
    "* np.loadtxt('name_of_file_defined_above')\n",
    "\n",
    "#### Example:\n",
    "####  `csv_arr = np.array([1, 2, 3, 4, 5, 6, 7, 8])` \n",
    "#### `np.savetxt('new_file.csv', csv_arr)`\n",
    "#### `np.loadtxt('new_file.csv')`\n"
   ]
  },
  {
   "cell_type": "markdown",
   "id": "bf50ebc1-9552-44f0-9586-c5990ff929eb",
   "metadata": {},
   "source": [
    "#### <span style=\"color:red\"> Following the example above, save your array Philadelphia hourly temperatures as a .csv file titled `Philly_Temps_[putdatehere].csv` and load it back into your Jupyter Notebook book and show the contents to confirm this was done correctly. You should see a .csv file appear in your directory on the left hand side of your screen."
   ]
  },
  {
   "cell_type": "code",
   "execution_count": null,
   "id": "be2cbe6e-cb58-4d20-a048-61c9d9b6b9fc",
   "metadata": {},
   "outputs": [],
   "source": []
  },
  {
   "cell_type": "code",
   "execution_count": null,
   "id": "e3249848-de57-417e-9981-1a1cb0cd227a",
   "metadata": {},
   "outputs": [],
   "source": []
  },
  {
   "cell_type": "code",
   "execution_count": null,
   "id": "a3712c54-bcf9-44f8-b55d-fab0e0470091",
   "metadata": {},
   "outputs": [],
   "source": []
  },
  {
   "cell_type": "markdown",
   "id": "8fe66262-bf92-4913-8ae9-e68d5ad79490",
   "metadata": {
    "tags": []
   },
   "source": [
    "### Congrats, you have worked through the basics of working with Arrays! The foundations you have learned here will be critical to understanding the structure of global climate datasets and the results of climate simulations. If you are having trouble grasping these concepts, please review this notebook again and / or come in for office hours or find peers in the class to work with."
   ]
  },
  {
   "cell_type": "markdown",
   "id": "5c33cc25-cc2a-45df-a774-08d576565f9c",
   "metadata": {},
   "source": [
    "#### After completing all the excercises outlined in red throughout this notebook, add both your Jupyter Notebook (this file!) and your .csv to your git, commit your changes, and push these back to your GitHub. Confirm you see these in your GitHub BEFORE leaving class."
   ]
  }
 ],
 "metadata": {
  "kernelspec": {
   "display_name": "Python 3 (ipykernel)",
   "language": "python",
   "name": "python3"
  },
  "language_info": {
   "codemirror_mode": {
    "name": "ipython",
    "version": 3
   },
   "file_extension": ".py",
   "mimetype": "text/x-python",
   "name": "python",
   "nbconvert_exporter": "python",
   "pygments_lexer": "ipython3",
   "version": "3.11.9"
  }
 },
 "nbformat": 4,
 "nbformat_minor": 5
}
