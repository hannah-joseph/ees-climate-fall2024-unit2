{
 "cells": [
  {
   "cell_type": "markdown",
   "id": "2032b30f-1086-4544-9c85-2ff40cf467b6",
   "metadata": {},
   "source": [
    "### To create effective visualizations of data you will need to become familiar with Python's Matplotlib package. This lesson follows on from the _\"Intro to Pandas and working with CSV files\"_ and is modeled after [Section 1 of \"Scientists Guide to Plotting Data in Python\"](https://www.earthdatascience.org/courses/scientists-guide-to-plotting-data-in-python/plot-with-matplotlib/introduction-to-matplotlib-plots/) written by Jenny Palomino and Leah Wasser, but here we will be working with a global mean surface air temperature dataset.\n",
    "\n",
    " __Author__: Rebecca L. Beadling. For any questions regarding the contents of this notebook please contact rebecca.beadling@temple.edu."
   ]
  },
  {
   "cell_type": "markdown",
   "id": "cf42601c-6de8-463f-bb36-97c8c1c08426",
   "metadata": {},
   "source": [
    "#### You should be __entering__ this lesson with ...\n",
    "* Knowledge of Pandas DataFrames and how to open and work with data in a CSV file.\n",
    "* Having read completely through\n",
    "[__this lesson__](https://www.earthdatascience.org/courses/scientists-guide-to-plotting-data-in-python/plot-with-matplotlib/introduction-to-matplotlib-plots/ \"click here!\").\n",
    "\n",
    "#### You should be __leaving__ this lesson with ...\n",
    "* The ability to explain the matplotlib object-oriented approach to plotting.\n",
    "* The ability to create different types of plots using matplotlib.\n",
    "* The ability to customize plots (including labels and colors) using matplotlib.\n",
    "* The ability to create figures with multiple plots."
   ]
  },
  {
   "cell_type": "code",
   "execution_count": null,
   "id": "aab5559f-79c5-4365-963c-5b13c1b7103b",
   "metadata": {
    "tags": []
   },
   "outputs": [],
   "source": [
    "import pandas as pd                          \n",
    "import matplotlib.pyplot as plt \n",
    "import numpy as np\n",
    "import cmocean \n",
    "\n",
    "%matplotlib inline                           \n",
    "%config InlineBackend.figure_format='retina' \n",
    "plt.rcParams['figure.figsize'] = 12,6   "
   ]
  },
  {
   "cell_type": "markdown",
   "id": "e139d074-aece-4c0f-a390-eb45284fe5ff",
   "metadata": {},
   "source": [
    "### Load our data into a Pandas DataFrame"
   ]
  },
  {
   "cell_type": "code",
   "execution_count": null,
   "id": "e36e9686-e2d3-4b1c-af71-cc54a2c45792",
   "metadata": {
    "tags": []
   },
   "outputs": [],
   "source": [
    "ees_climate_dir = 'C:/Users/TU_Climate24_Student/Desktop/ees_climate/'\n",
    "GISS_temp = pd.read_csv(ees_climate_dir+'unit2/data/temp/gmt_GISTEMP.csv')"
   ]
  },
  {
   "cell_type": "code",
   "execution_count": null,
   "id": "7f31e0ce-fa33-4add-9ad1-03ffc927c9a0",
   "metadata": {
    "tags": []
   },
   "outputs": [],
   "source": [
    "GISS_temp"
   ]
  },
  {
   "cell_type": "markdown",
   "id": "bef5fb74-23db-4c39-bb9c-06e07031839e",
   "metadata": {},
   "source": [
    "### Now we are ready for plotting!"
   ]
  },
  {
   "cell_type": "markdown",
   "id": "ea3f8ade-bd37-4659-a901-ea8a22c913ca",
   "metadata": {},
   "source": [
    "Matplotlib uses an \"object oriented approach\" to plotting. This means that plots can be built step-by-step by adding new elements to the plot -- each \"figure\" and \"axis\" is considered a seperate \"object\". You can have as many axis objects within your figure object as you want!\n",
    "\n",
    "* __figure object__: the overall figure space (your entire blank canvas!) that can contain one or more plots.\n",
    "\n",
    "* __axis objects__: the individual plots that are rendered within the figure."
   ]
  },
  {
   "cell_type": "markdown",
   "id": "49a795e2-9460-4140-b0f9-8284541ee8ed",
   "metadata": {},
   "source": [
    "![image](https://www.earthdatascience.org/images/earth-analytics/plot-data/fig-1-plot.png)\n",
    "\n",
    "<center> source: https://www.earthdatascience.org/images/earth-analytics/plot-data/fig-1-plot.png </center>"
   ]
  },
  {
   "cell_type": "markdown",
   "id": "bae9dc6a-0c15-43ff-843f-462c4d503d2a",
   "metadata": {},
   "source": [
    "#### We will be using __Pyplot__ module to add different components to figure objects, including creating the individual plots as axis objects, also known as __subplots__. We imported the pyplot module earlier and assigned the alias __plt__ in our import packages cell."
   ]
  },
  {
   "cell_type": "markdown",
   "id": "6335b768-82f2-4d17-af15-3f6026b5591b",
   "metadata": {},
   "source": [
    "To create a plot using matplotlib’s object oriented approach, you first create the figure (which we assign the variable name \"__fig__\") and at least one axis (which we assign the variable name \"__ax__\") using the subplots() function from the pyplot module:\n",
    "\n",
    "Notice that the fig and ax are created at the same time by setting them equal to the output of the pyplot.subplots() function. As no other arguments have been provided, the result is a figure with one plot (your axis object) that is empty but ready for data."
   ]
  },
  {
   "cell_type": "code",
   "execution_count": null,
   "id": "21ecf4d9-5815-402e-b334-8e90ec68b855",
   "metadata": {
    "tags": []
   },
   "outputs": [],
   "source": [
    "fig, ax = plt.subplots() \n",
    "## fig and ax are just variable names for the figure and axis objects,\n",
    "## we really can call them anything we want (f, a, etc .. but fig, ax keeps it intuitive)\n",
    "## It is considered good practice to call the figure fig and axes ax, ax1, ax2 (etc)."
   ]
  },
  {
   "cell_type": "markdown",
   "id": "ebcf673c-bfb9-43db-8a8d-c1d64769bcb9",
   "metadata": {},
   "source": [
    "#### What if we wanted to change our figure size?"
   ]
  },
  {
   "cell_type": "code",
   "execution_count": null,
   "id": "8242718f-71ea-41af-afcf-b78b6728ac5a",
   "metadata": {
    "tags": []
   },
   "outputs": [],
   "source": [
    "## figsize = (width, height)\n",
    "fig, ax = plt.subplots(figsize = (5, 5))"
   ]
  },
  {
   "cell_type": "markdown",
   "id": "317ebdfe-2492-4a06-a940-d27c1752008c",
   "metadata": {},
   "source": [
    "\n",
    "### Lets add our data to our plot."
   ]
  },
  {
   "cell_type": "markdown",
   "id": "ae4e52a2-e3dc-43c0-a362-0d628f764da0",
   "metadata": {},
   "source": [
    "Here we are calling the .plot method of the ax object and specifying the arguments for the x axis and the y axis of the plot as follows: __ax.plot(x_axis, y_axis)__. In our case we want our x_axis to be the calendar date and our y_axis to be atmospheric CO2 concentration, so we must specify the appropriate columns within our pandas DataFrame."
   ]
  },
  {
   "cell_type": "code",
   "execution_count": null,
   "id": "6be59c08-9c92-47e6-8798-9a08e0b3c883",
   "metadata": {
    "tags": []
   },
   "outputs": [],
   "source": [
    "## Here we have added additional arguments of linewidth, label, and color to specify\n",
    "## the line thickness, lable for the legend, and the color of the line. There are more \n",
    "## customizations you can make, but more on this later.\n",
    "\n",
    "fig, ax = plt.subplots(figsize = (10, 5))\n",
    "\n",
    "ax.plot(GISS_temp['Year'],\n",
    "        GISS_temp['GISTEMP (degC)'],\n",
    "        linewidth=2,label='GISTEMP global mean surface air temp anomaly',\n",
    "        color='black')\n",
    "\n",
    "## plot a legend on the ax\n",
    "ax.legend() \n",
    "\n",
    "## add a horizontal line at 0 !\n",
    "ax.axhline(0,color='k')\n",
    "\n",
    "## add plot title:\n",
    "ax.set_title('Global Ave. Temperature anomaly (deg C) Relative to 1850 - 1900')\n",
    "\n",
    "## add axes labes:\n",
    "ax.set_ylabel('Temperataure anomaly (deg C)')\n",
    "ax.set_xlabel('Year')"
   ]
  },
  {
   "cell_type": "markdown",
   "id": "41800a54-79f5-4e8d-bec3-4d78fc2a38f1",
   "metadata": {},
   "source": [
    "### By default, ax.plot() creates a line plot. What if we wanted to make a scatter or bar plot instead?\n",
    "* __Scatter plots__ (using ax.scatter): values are displayed as individual points that are not connected with a continuous line.\n",
    "* __Bar plots__ (using ax.bar): values are displayed as bars with height indicating the value at a specific point."
   ]
  },
  {
   "cell_type": "markdown",
   "id": "1e23f74a-90dd-4803-940d-f9f3a06e76c3",
   "metadata": {
    "tags": []
   },
   "source": [
    "### Scatter Plot"
   ]
  },
  {
   "cell_type": "code",
   "execution_count": null,
   "id": "9faf6dc7-6e90-40e7-a35f-fd4e2b49e4b7",
   "metadata": {
    "tags": []
   },
   "outputs": [],
   "source": [
    "## Here we have added additional arguments of label, marker, s, and color to specify\n",
    "## the lable for the legend, marker style with '.' indicating a dot, marker size,\n",
    "## and marker color. There are more customizations you can make, but more on this later.\n",
    "fig, ax = plt.subplots(figsize = (10, 5))\n",
    "\n",
    "ax.scatter(GISS_temp['Year'],\n",
    "        GISS_temp['GISTEMP (degC)'],\n",
    "        linewidth=2,label='GISTEMP global mean surface air temp anomaly',\n",
    "        color='black',\n",
    "        s=8, marker='s') ## s == markersize == 5, marker == s == square\n",
    "\n",
    "## plot a legend on the ax\n",
    "ax.legend() \n",
    "\n",
    "## add a horizontal line at 0 !\n",
    "ax.axhline(0,color='k')\n",
    "\n",
    "## add plot title:\n",
    "ax.set_title('Global Ave. Temperature anomaly (deg C) Relative to 1850 - 1900')\n",
    "\n",
    "## add axes labes:\n",
    "ax.set_ylabel('Temperature anomaly (deg C)')\n",
    "ax.set_xlabel('Year')"
   ]
  },
  {
   "cell_type": "markdown",
   "id": "4a13cef7-8ad5-4b76-a23e-5f0704b28f2b",
   "metadata": {},
   "source": [
    "### Line plot WITH scatter points overtop!"
   ]
  },
  {
   "cell_type": "code",
   "execution_count": null,
   "id": "058cf023-93be-43d4-8c6b-0205bbd640a8",
   "metadata": {
    "tags": []
   },
   "outputs": [],
   "source": [
    "## Here we have added additional arguments of label, marker, s, and color to specify\n",
    "## the lable for the legend, marker style with '.' indicating a dot, marker size,\n",
    "## and marker color. There are more customizations you can make, but more on this later.\n",
    "fig, ax = plt.subplots(figsize = (10, 5))\n",
    "\n",
    "ax.plot(GISS_temp['Year'],\n",
    "        GISS_temp['GISTEMP (degC)'],\n",
    "        linewidth=2,label='GISTEMP global mean surface air temp anomaly',\n",
    "        color='red')\n",
    "\n",
    "ax.scatter(GISS_temp['Year'],\n",
    "        GISS_temp['GISTEMP (degC)'],\n",
    "        linewidth=2,#label='GISTEMP global mean surface air temp anomaly',\n",
    "        color='k',\n",
    "        s=20, marker='s') ## s == markersize == 5, marker == s == square\n",
    "\n",
    "\n",
    "## plot a legend on the ax\n",
    "ax.legend() \n",
    "\n",
    "## add a horizontal line at 0 !\n",
    "ax.axhline(0,color='k')\n",
    "\n",
    "## add plot title:\n",
    "ax.set_title('Global Ave. Temperature anomaly (deg C) Relative to 1850 - 1900')\n",
    "\n",
    "## add axes labes:\n",
    "ax.set_ylabel('Temperature anomaly (deg C)')\n",
    "ax.set_xlabel('Year')"
   ]
  },
  {
   "cell_type": "markdown",
   "id": "a0dd2f61-1937-4d29-a0fc-b60a1ca68d06",
   "metadata": {
    "tags": []
   },
   "source": [
    "### Bar Plot"
   ]
  },
  {
   "cell_type": "code",
   "execution_count": null,
   "id": "e9c48ed1-99fa-4774-a69e-6846afda55b8",
   "metadata": {
    "tags": []
   },
   "outputs": [],
   "source": [
    "fig, ax = plt.subplots(figsize = (10, 5))\n",
    "\n",
    "ax.bar(GISS_temp['Year'],\n",
    "        GISS_temp['GISTEMP (degC)'],\n",
    "        linewidth=2,label='GISTEMP global mean surface air temp anomaly',\n",
    "        color='blue',\n",
    "        ) \n",
    "\n",
    "## plot a legend on the ax\n",
    "ax.legend()\n",
    "\n",
    "## add a horizontal line at 0 !\n",
    "ax.axhline(0,color='k')\n",
    "\n",
    "## add plot title:\n",
    "ax.set_title('Global Ave. Temperature anomaly (deg C) Relative to 1850 - 1900')\n",
    "\n",
    "## add axes labes:\n",
    "ax.set_ylabel('Temperature anomaly (deg C)')\n",
    "ax.set_xlabel('Year')"
   ]
  },
  {
   "cell_type": "code",
   "execution_count": null,
   "id": "ec9e9bd1-2379-4cf3-85cd-167e502e79c7",
   "metadata": {
    "tags": []
   },
   "outputs": [],
   "source": [
    "fig, ax = plt.subplots(figsize = (10, 5))\n",
    "\n",
    "ax.bar(GISS_temp['Year'],\n",
    "        GISS_temp['GISTEMP (degC)'],\n",
    "        linewidth=2,#label='GISTEMP global mean surface air temp anomaly',\n",
    "        color='blue',\n",
    "        ) \n",
    "\n",
    "ax.plot(GISS_temp['Year'],\n",
    "        GISS_temp['GISTEMP (degC)'],\n",
    "        linewidth=2,label='GISTEMP global mean surface air temp anomaly',\n",
    "        color='k')\n",
    "\n",
    "## plot a legend on the ax\n",
    "ax.legend()\n",
    "\n",
    "## add a horizontal line at 0 !\n",
    "ax.axhline(0,color='k')\n",
    "\n",
    "## add plot title:\n",
    "ax.set_title('Global Ave. Temperataure anomaly (deg C) Relative to 1850 - 1900')\n",
    "\n",
    "## add axes labes:\n",
    "ax.set_ylabel('Temperature anomaly (deg C)')\n",
    "ax.set_xlabel('Year')"
   ]
  },
  {
   "cell_type": "markdown",
   "id": "bdb2ee7c-4adc-49f4-8ad7-9e1f3c0203d3",
   "metadata": {},
   "source": [
    "### Fill the space in between instead of bars:"
   ]
  },
  {
   "cell_type": "code",
   "execution_count": null,
   "id": "25524e78-ca0b-4f23-ba9e-a9698f13d70d",
   "metadata": {
    "tags": []
   },
   "outputs": [],
   "source": [
    "fig, ax = plt.subplots(figsize = (10, 5))\n",
    "\n",
    "ax.fill_between(GISS_temp['Year'], 0, GISS_temp['GISTEMP (degC)'],\n",
    "             color = \"blue\",\n",
    "             alpha = 0.50, ### alpha is the transparency!\n",
    "             label = 'GISTEMP global mean surface air temp anomaly')\n",
    "\n",
    "## plot a legend on the ax\n",
    "ax.legend()\n",
    "\n",
    "## add a horizontal line at 0 !\n",
    "ax.axhline(0,color='k')\n",
    "\n",
    "## add plot title:\n",
    "ax.set_title('Global Ave. Temperature anomaly (deg C) Relative to 1850 - 1900')\n",
    "\n",
    "## add axes labes:\n",
    "ax.set_ylabel('Temperature anomaly (deg C)')\n",
    "ax.set_xlabel('Year')"
   ]
  },
  {
   "cell_type": "markdown",
   "id": "b1005651-51a9-4fdf-9717-b3f871f831be",
   "metadata": {},
   "source": [
    "### What if I wanted the fill color to communicate information regarding the magitidue of the anomaly? i.e., __how__ warm it is relative to the baseline period."
   ]
  },
  {
   "cell_type": "markdown",
   "id": "0e694d7e-7f82-4b46-8bc8-ffff0920ecec",
   "metadata": {},
   "source": [
    "### Bar plot with color palette"
   ]
  },
  {
   "cell_type": "code",
   "execution_count": null,
   "id": "073262c5-1874-4742-8dbe-6491b0af5965",
   "metadata": {
    "tags": []
   },
   "outputs": [],
   "source": [
    "# Import cm and colormaps from matplotlib and create aliases\n",
    "from matplotlib import cm\n",
    "from matplotlib import colormaps as colormap\n",
    "cool_warm_cmap = colormap[\"coolwarm\"]\n",
    "cool_warm_cmap"
   ]
  },
  {
   "cell_type": "code",
   "execution_count": null,
   "id": "87b2b42b-bdd0-4ff5-b7cd-2578734ff176",
   "metadata": {
    "tags": []
   },
   "outputs": [],
   "source": [
    "# Normalize data for colormap\n",
    "GISS_temp_values = GISS_temp['GISTEMP (degC)']  ### Set the values to be used in our colormap\n",
    "norm = plt.Normalize(min(GISS_temp_values), \n",
    "                     max(GISS_temp_values))\n",
    "\n",
    "# Apply colormap --- two different colormaps as examples\n",
    "cmap_coolwarm = colormap.get_cmap('coolwarm')\n",
    "cmap_thermal = colormap.get_cmap(cmocean.cm.thermal)\n",
    "\n",
    "bar_colors_coolwarm = cmap_coolwarm(norm(GISS_temp_values))\n",
    "bar_colors_thermal = cmap_thermal(norm(GISS_temp_values))"
   ]
  },
  {
   "cell_type": "code",
   "execution_count": null,
   "id": "5b413d1d-6bc4-4afb-89d8-d1e20d0142ec",
   "metadata": {
    "tags": []
   },
   "outputs": [],
   "source": [
    "fig, ax = plt.subplots(figsize = (10, 5))\n",
    "\n",
    "ax.bar(GISS_temp['Year'],\n",
    "        GISS_temp['GISTEMP (degC)'],\n",
    "        linewidth=2,label='GISTEMP global mean surface air temp anomaly',\n",
    "        color=bar_colors_coolwarm\n",
    "        ) \n",
    "\n",
    "## add a horizontal line at 0 !\n",
    "ax.axhline(0,color='k')\n",
    "\n",
    "## add plot title:\n",
    "ax.set_title('Global Ave. Temperature anomaly (deg C) Relative to 1850 - 1900')\n",
    "\n",
    "## add axes labes:\n",
    "ax.set_ylabel('Temperature anomaly (deg C)')\n",
    "ax.set_xlabel('Year')\n",
    "\n",
    "ax.grid(linestyle='--') ### add dashed grid lines"
   ]
  },
  {
   "cell_type": "code",
   "execution_count": null,
   "id": "15aa7bd2-6afc-4384-9dbc-4bebc559d59c",
   "metadata": {
    "tags": []
   },
   "outputs": [],
   "source": [
    "fig, ax = plt.subplots(figsize = (10, 5))\n",
    "\n",
    "ax.bar(GISS_temp['Year'],\n",
    "        GISS_temp['GISTEMP (degC)'],\n",
    "        linewidth=2,label='GISTEMP global mean surface air temp anomaly',\n",
    "        color=bar_colors_coolwarm\n",
    "        ) \n",
    "\n",
    "## add a horizontal line at 0 !\n",
    "ax.axhline(0,color='k')\n",
    "\n",
    "## add plot title:\n",
    "ax.set_title('Global Ave. Temperature anomaly (deg C) Relative to 1850 - 1900')\n",
    "\n",
    "## add axes labes:\n",
    "ax.set_ylabel('Temperature anomaly (deg C)')\n",
    "ax.set_xlabel('Year')\n",
    "\n",
    "#ax.grid(linestyle='--') ### add dashed grid lines\n",
    "\n",
    "ax.set_facecolor(\"k\")\n",
    "ax.axhline(0,color='white',linewidth=0.5)"
   ]
  },
  {
   "cell_type": "code",
   "execution_count": null,
   "id": "36cd5844-f2ef-420e-80fd-8b881856b3fc",
   "metadata": {
    "tags": []
   },
   "outputs": [],
   "source": [
    "fig, ax = plt.subplots(figsize = (10, 5))\n",
    "\n",
    "ax.bar(GISS_temp['Year'],\n",
    "        GISS_temp['GISTEMP (degC)'],\n",
    "        linewidth=2,label='GISTEMP global mean surface air temp anomaly',\n",
    "        color=bar_colors_thermal\n",
    "        ) \n",
    "\n",
    "## add a horizontal line at 0 !\n",
    "ax.axhline(0,color='white',linewidth=0.5)\n",
    "\n",
    "## add plot title:\n",
    "ax.set_title('Global Ave. Temperature anomaly (deg C) Relative to 1850 - 1900')\n",
    "\n",
    "## add axes labes:\n",
    "ax.set_ylabel('Temperature anomaly (deg C)')\n",
    "ax.set_xlabel('Year')\n",
    "\n",
    "#ax.grid(linestyle='--') ### add dashed grid lines\n",
    "\n",
    "# set plot background color\n",
    "ax.set_facecolor(\"k\")"
   ]
  },
  {
   "cell_type": "markdown",
   "id": "27806961-4461-489e-a005-4217c08ac9b8",
   "metadata": {},
   "source": [
    "### Filling in-between using a color map requires a bit more coding ... we won't go over this here, but consider the following as a reference for future studies if you wish:"
   ]
  },
  {
   "cell_type": "code",
   "execution_count": null,
   "id": "3718954e-2782-4546-a05e-178cd66193b4",
   "metadata": {
    "tags": []
   },
   "outputs": [],
   "source": [
    "span = abs(min(GISS_temp_values) - max(GISS_temp_values))\n",
    "color_index = np.arange(min(GISS_temp_values),max(GISS_temp_values),span/100)\n",
    "color_index\n",
    "\n",
    "import cmocean as cmo\n",
    "cmap = colormap.get_cmap(cmo.cm.thermal)\n",
    "\n",
    "fig, ax = plt.subplots(figsize = (10, 5))\n",
    "\n",
    "\n",
    "for index in sorted(color_index):\n",
    "    index_value = (index - 0)/span\n",
    "    color=cmap(index_value)\n",
    "    \n",
    "    ax.fill_between(GISS_temp['Year'], 0, GISS_temp['GISTEMP (degC)'], where=(GISS_temp['GISTEMP (degC)'] >= index),\n",
    "             color = color,\n",
    "             label = 'GISTEMP global mean surface air temp anomaly')\n",
    "\n",
    "ax.plot(GISS_temp['Year'],\n",
    "        GISS_temp['GISTEMP (degC)'],\n",
    "        linewidth=2,label='GISTEMP global mean surface air temp anomaly',\n",
    "        color='white')\n",
    "\n",
    "# set plot background color\n",
    "ax.set_facecolor(\"k\")\n",
    "ax.axhline(0,color='white',linewidth=0.5)"
   ]
  },
  {
   "cell_type": "code",
   "execution_count": null,
   "id": "c235e8cc-b985-4bcb-9788-9ed8c4cd255e",
   "metadata": {
    "tags": []
   },
   "outputs": [],
   "source": [
    "span = abs(min(GISS_temp_values) - max(GISS_temp_values))\n",
    "color_index = np.arange(min(GISS_temp_values),max(GISS_temp_values),span/100)\n",
    "color_index\n",
    "\n",
    "import cmocean as cmo\n",
    "cmap = colormap.get_cmap('coolwarm')\n",
    "\n",
    "fig, ax = plt.subplots(figsize = (10, 5))\n",
    "\n",
    "\n",
    "for index in sorted(color_index):\n",
    "    index_value = (index - 0)/span\n",
    "    color=cmap(index_value)\n",
    "    \n",
    "    ax.fill_between(GISS_temp['Year'], 0, GISS_temp['GISTEMP (degC)'], where=(GISS_temp['GISTEMP (degC)'] >= index),\n",
    "             color = color,\n",
    "             label = 'GISTEMP global mean surface air temp anomaly')\n",
    "\n",
    "ax.plot(GISS_temp['Year'],\n",
    "        GISS_temp['GISTEMP (degC)'],\n",
    "        linewidth=2,label='GISTEMP global mean surface air temp anomaly',\n",
    "        color='white')\n",
    "\n",
    "# set plot background color\n",
    "ax.set_facecolor(\"k\")\n",
    "ax.axhline(0,color='white',linewidth=0.5)"
   ]
  },
  {
   "cell_type": "markdown",
   "id": "d228e601-75c7-496b-98d1-048a1607d5c3",
   "metadata": {},
   "source": [
    "### Multiple datasets on a __single__ plot. Lets read in a few temperature datasets and make a simple plot of them all together."
   ]
  },
  {
   "cell_type": "code",
   "execution_count": null,
   "id": "4379c515-4367-4877-b35e-2b6add67694e",
   "metadata": {},
   "outputs": [],
   "source": [
    "ees_climate_dir = 'C:/Users/TU_Climate24_Student/Desktop/ees_climate/'\n",
    "\n",
    "GISS_temp = pd.read_csv(ees_climate_dir+'unit2/data/temp/gmt_GISTEMP.csv')\n",
    "HadCRUT5_temp = pd.read_csv(ees_climate_dir+'unit2/data/temp/gmt_HadCRUT5.csv')\n",
    "JRA55_temp = pd.read_csv(ees_climate_dir+'unit2/data/temp/gmt_JRA-55.csv')"
   ]
  },
  {
   "cell_type": "code",
   "execution_count": null,
   "id": "057386c2-e3f4-4ba9-8749-d02819b3cb96",
   "metadata": {
    "tags": []
   },
   "outputs": [],
   "source": [
    "JRA55_temp"
   ]
  },
  {
   "cell_type": "code",
   "execution_count": null,
   "id": "3d96a5e7-d49c-4250-afb5-a43b26a35565",
   "metadata": {
    "tags": []
   },
   "outputs": [],
   "source": [
    "fig, ax = plt.subplots(figsize = (10, 5))\n",
    "\n",
    "### add the GISS temp dataset to the plot first:\n",
    "ax.plot(GISS_temp['Year'],\n",
    "        GISS_temp['GISTEMP (degC)'],\n",
    "        linewidth=2,label='GISTEMP global mean surface air temp anomaly',\n",
    "        color='black')\n",
    "\n",
    "### add the hadcrut5 dataset on top and change our label and color!\n",
    "ax.plot(HadCRUT5_temp['Year'],\n",
    "        HadCRUT5_temp['HadCRUT5 (degC)'],\n",
    "        linewidth=2,label='HadCRUT5 global mean surface air temp anomaly',\n",
    "        color='red')\n",
    "\n",
    "### add the JRA-55 dataset on top and change our label and color!\n",
    "ax.plot(JRA55_temp['Year'],\n",
    "        JRA55_temp['JRA-55 (degC)'],\n",
    "        linewidth=2,label='JRA-55 global mean surface air temp anomaly',\n",
    "        color='orange')\n",
    "\n",
    "## plot a legend on the ax\n",
    "ax.legend() \n",
    "\n",
    "## add a horizontal line at 0 !\n",
    "ax.axhline(0,color='k')\n",
    "\n",
    "## add plot title:\n",
    "ax.set_title('Global Ave. Temperature anomaly (deg C) Relative to 1850 - 1900')\n",
    "\n",
    "## add axes labes:\n",
    "ax.set_ylabel('Temperataure anomaly (deg C)')\n",
    "ax.set_xlabel('Year')"
   ]
  },
  {
   "cell_type": "markdown",
   "id": "e60242a7-3f92-418e-ad50-8ed03348b7f1",
   "metadata": {},
   "source": [
    "### What if we had multiple datasets that we wanted show on seperate plots? Now this requires some developing the skill of __subplotting__."
   ]
  },
  {
   "cell_type": "markdown",
   "id": "eab2de43-08f1-4a08-8ed7-d5ae8b318fd3",
   "metadata": {},
   "source": [
    "#### Using matplotlib’s object-oriented approach makes it easier to include more than one plot in a figure by creating additional __axis objects__. In all the examples above, our `fig, ax = plt.subplots()` code only had one axis (`ax`), but we can add as many as we want ... remember, our `fig` is our blank canvas!"
   ]
  },
  {
   "cell_type": "markdown",
   "id": "1d7b8eed-abc1-4ea8-82bd-b1a579f8552f",
   "metadata": {},
   "source": [
    "![](https://www.earthdatascience.org/images/earth-analytics/plot-data/fig-2-plots.png)\n",
    "When creating a figure with multiple axis objects, you can arrange the plots across multiple rows and columns. Source: Earth Lab, Alana Faller"
   ]
  },
  {
   "cell_type": "markdown",
   "id": "da14eade-502f-4328-a889-4b442672bb3e",
   "metadata": {},
   "source": [
    "### In the example below, we specify the number of rows and columns we want within our `plt.subplots()` statement. In this case, we want 1 row and 2 columns.\n",
    "\n",
    "* #### our first plot (column 1, row 1) is referred to as ax1\n",
    "* #### our first plot (column 2, row 1) is referred to as ax2"
   ]
  },
  {
   "cell_type": "code",
   "execution_count": null,
   "id": "a82b7269-db2a-4934-9da1-bf468b8d9ba4",
   "metadata": {
    "tags": []
   },
   "outputs": [],
   "source": [
    "# Figure with two plots across one row\n",
    "fig, (ax1, ax2) = plt.subplots(nrows = 1, ncols = 2, figsize = (10, 6))"
   ]
  },
  {
   "cell_type": "code",
   "execution_count": null,
   "id": "ab7096db-ae73-452d-9e62-a498c3bb39d3",
   "metadata": {
    "tags": []
   },
   "outputs": [],
   "source": [
    "# Figure with three plots across one row\n",
    "fig, (ax1, ax2, ax3) = plt.subplots(nrows = 1, ncols = 3, figsize = (10, 6))"
   ]
  },
  {
   "cell_type": "code",
   "execution_count": null,
   "id": "e392ac8c-2c29-4cf0-97a5-6a61f71e76ab",
   "metadata": {
    "tags": []
   },
   "outputs": [],
   "source": [
    "# Figure with two plots down one column\n",
    "fig, (ax1, ax2) = plt.subplots(nrows = 2, ncols = 1, figsize = (10, 6))"
   ]
  },
  {
   "cell_type": "code",
   "execution_count": null,
   "id": "e0933382-9fab-4a5f-9c33-418f6307fee7",
   "metadata": {},
   "outputs": [],
   "source": [
    "# Figure with three plots down one column\n",
    "fig, (ax1, ax2, ax3) = plt.subplots(nrows = 3, ncols = 1, figsize = (10, 6))"
   ]
  },
  {
   "cell_type": "markdown",
   "id": "441a9ee2-f7aa-4eab-b7eb-7a4069450265",
   "metadata": {
    "tags": []
   },
   "source": [
    "### You can play around with both the number of rows and columns as well as `figsize` to arrive at the look that you want."
   ]
  },
  {
   "cell_type": "code",
   "execution_count": null,
   "id": "524cb1dd-db1d-4f4a-8d7e-07ebfa842e3e",
   "metadata": {},
   "outputs": [],
   "source": [
    "# Figure with three plots down one column\n",
    "fig, (ax1, ax2) = plt.subplots(nrows = 2, ncols = 1, figsize = (5, 5))"
   ]
  },
  {
   "cell_type": "markdown",
   "id": "2e3c27e4-d6eb-4c48-94a4-50e0ccb44c54",
   "metadata": {},
   "source": [
    "## A key benefit of the matplotlib object oriented approach is that __each axis is its own object and can be customized independently of the other plots__ in the figure. In the example below for each individual plot, we put the associated ax before it (`ax1.plot()`, `ax2.plot()`, .. etc):\n",
    "\n"
   ]
  },
  {
   "cell_type": "code",
   "execution_count": null,
   "id": "72ed4ce2-de96-40a0-8e38-43ce3cd92ab4",
   "metadata": {
    "tags": []
   },
   "outputs": [],
   "source": [
    "# Figure with three plots down one column\n",
    "fig, (ax1, ax2, ax3) = plt.subplots(nrows = 3, ncols = 1, figsize = (4, 10))\n",
    "\n",
    "### add the GISS temp dataset to the first plot (ax1):\n",
    "ax1.plot(GISS_temp['Year'],\n",
    "        GISS_temp['GISTEMP (degC)'],\n",
    "        linewidth=2,label='GISTEMP',\n",
    "        color='black')\n",
    "\n",
    "### add the hadcrut5 dataset on top and change our label and color!\n",
    "ax2.plot(HadCRUT5_temp['Year'],\n",
    "        HadCRUT5_temp['HadCRUT5 (degC)'],\n",
    "        linewidth=2,label='HadCRUT5',\n",
    "        color='red')\n",
    "\n",
    "### add the hadcrut5 dataset on top and change our label and color!\n",
    "ax3.plot(JRA55_temp['Year'],\n",
    "        JRA55_temp['JRA-55 (degC)'],\n",
    "        linewidth=2,label='JRA-55',\n",
    "        color='orange')\n",
    "\n",
    "#### set up all our labels etc:\n",
    "\n",
    "## plot a legend on the ax\n",
    "ax1.legend() \n",
    "ax1.axhline(0,color='k')\n",
    "ax1.set_ylabel('Temperataure anomaly (deg C)')\n",
    "ax1.set_xlabel('Year')\n",
    "ax1.set_xlim(1850,2023) ## set our x-axis limits so that they show the same period for every plot.\n",
    "\n",
    "## plot a legend on the ax\n",
    "ax2.legend() \n",
    "ax2.axhline(0,color='k')\n",
    "ax2.set_ylabel('Temperataure anomaly (deg C)')\n",
    "ax2.set_xlabel('Year')\n",
    "ax2.set_xlim(1850,2023) ## set our x-axis limits so that they show the same period for every plot.\n",
    "\n",
    "\n",
    "## plot a legend on the ax\n",
    "ax3.legend() \n",
    "ax3.axhline(0,color='k')\n",
    "ax3.set_ylabel('Temperataure anomaly (deg C)')\n",
    "ax3.set_xlabel('Year')\n",
    "ax3.set_xlim(1850,2023) ## set our x-axis limits so that they show the same period for every plot.\n",
    "\n",
    "\n",
    "## add plot title:\n",
    "## plt.title('Global Ave. Temperature anomaly (deg C) Relative to 1850 - 1900')\n",
    "\n",
    "## Set an overall figure title\n",
    "fig.suptitle(' Global Ave. Temperature anomaly Relative to 1850 - 1900 ', fontsize=12)\n",
    "\n",
    "## Make everything look nicely spaced!\n",
    "plt.tight_layout()"
   ]
  },
  {
   "cell_type": "markdown",
   "id": "2f7164c5-8755-41f3-9a7d-ce0a6f06c308",
   "metadata": {},
   "source": [
    "### Now that you know are familiar with the general syntax for plotting 1D datasets using Matplotlib, your task is to use the remainder of the class and the links listed below to complete the following assignment:\n",
    "\n",
    "### <span style=\"color:red\"> Complete the following:\n",
    "* #### <span style=\"color:red\"> Create a NEW notebook and rename it: GMSAT_TimeSeries_Analysis\n",
    "* #### <span style=\"color:red\"> Read in all the global mean surface air temperature datasets in the /data/temp/ directory (there are 6).\n",
    "* #### <span style=\"color:red\"> Using subplotting, create 6 seperate plots of the time series. All axes must be labeled and you must have a title.\n",
    "* #### <span style=\"color:red\"> Create a single plot with _all_ datasets on the plot, make each time series a seperate color and with a legend on the plot.\n",
    "* #### <span style=\"color:red\"> Pick one of the timeseries and make a very visually appealing figure! Play around with changing the fontsize, background colors, linewidth, markerstyle, colormaps, etc ...\n",
    "* #### <span style=\"color:red\"> In the cell below each figure (remember the figure is the _entire_ canvas ... create a Figure caption using Markdown.\n",
    "* #### <span style=\"color:red\"> The first cell of your notebook should contain descriptive Markdown that describes the purpose of the notebook and the author including contact information.       \n",
    "* #### <span style=\"color:red\"> Push your new notebook to your GitHub repository.\n",
    "\n",
    "    \n",
    "#### Here are some useful links for exploring the different colors available through Matplotlib as you customize your plots:\n",
    "\n",
    "##### Matplotlib Color Demos -- there are limitless options for color customization in Matplotlib:\n",
    "##### https://matplotlib.org/stable/gallery/color/color_demo.html#sphx-glr-gallery-color-color-demo-py\n",
    "##### https://matplotlib.org/stable/gallery/color/named_colors.html (list of named colors)\n",
    "    "
   ]
  }
 ],
 "metadata": {
  "kernelspec": {
   "display_name": "Python 3 (ipykernel)",
   "language": "python",
   "name": "python3"
  },
  "language_info": {
   "codemirror_mode": {
    "name": "ipython",
    "version": 3
   },
   "file_extension": ".py",
   "mimetype": "text/x-python",
   "name": "python",
   "nbconvert_exporter": "python",
   "pygments_lexer": "ipython3",
   "version": "3.11.9"
  }
 },
 "nbformat": 4,
 "nbformat_minor": 5
}
