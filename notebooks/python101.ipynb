{
 "cells": [
  {
   "cell_type": "markdown",
   "id": "9c436693-d2a7-44c1-aa27-a7c862998c29",
   "metadata": {},
   "source": [
    "### It is considered a best practice to begin your Jupyter Notebook with informative text written using a Markdown cell that describes the purpose of the code within the notebook. This will help you remember what your goal of the notebook is and will help any user of your code become oriented to your notebook.\n",
    "\n",
    "### It is also always a good practice to describe the author of the notebook and your contact information.\n",
    "\n",
    "__Author__: Rebecca L. Beadling. For any questions regarding the contents of this notebook please contact rebecca.beadling@temple.edu.\n",
    "\n",
    "***\n",
    "\n",
    "> #### Markdown is a lightweight markup language that you can use to add __formatting elements__ to plaintext. You can add edit text to add headings, subheadings, edit fontstyle, fontsize, add urls, add symbols, add images, indentation, bullet points, numbering,  etc.\n",
    "\n",
    "> # This is a heading!\n",
    "And this is some text.\n",
    ">## And this is a subheading\n",
    "with a bulleted list in it:\n",
    ">\n",
    "> - one\n",
    "> - two\n",
    "> - three\n",
    "\n",
    "> #### Something really neat that you can do is embed graphics within your cells, if you want to add a diagram for example to describe what it is your computing.\n",
    "> #### You can find a cheatsheet here for formatting Markdown in your Jupyter Notebook Markdown cells here: https://www.ibm.com/docs/en/watson-studio-local/1.2.3?topic=notebooks-markdown-jupyter-cheatsheet. \n",
    "> #### And another guide can be found [here](https://www.markdownguide.org/basic-syntax) emphasizing best practices.\n",
    "> Use these two resources as a guide throughout the course as your begin to put together your notebooks.\n",
    "\n"
   ]
  },
  {
   "cell_type": "markdown",
   "id": "a44a8a09-3f0a-4a0d-828b-e8bddb8a8ad8",
   "metadata": {
    "tags": []
   },
   "source": [
    "#### <span style=\"color:red\"> In the cell below, change the cell type to Markdown and write text that describes your prior coding experience (if any) and note that this will be your first Jupyter notebook and describe the purpose of it (which is to introduce elements of a Jupyter notebook and fundamentals of Python). In your text you must include the following:\n",
    "\n",
    "* a heading\n",
    "* subheading\n",
    "* italicized text\n",
    "* bolded text\n",
    "* an embedded url (i.e., NOT just copy and pasting the text of the URL). See example in the second to last line in the cell above.\n",
    "* an image\n",
    "\n",
    "Run the cell to generate the formatted markdown!</span>"
   ]
  },
  {
   "cell_type": "code",
   "execution_count": null,
   "id": "29576610-cddf-4616-a7b9-e8c1c1438c51",
   "metadata": {},
   "outputs": [],
   "source": []
  },
  {
   "cell_type": "markdown",
   "id": "91678cd8-5558-47b4-bb56-42d2385274a4",
   "metadata": {},
   "source": [
    "#### After your descriptive introductory text, the next cell is usually where you find your \"import\" statements. Python itself comes with a limited number of built-in functions (https://docs.python.org/3/library/functions.html), such as:\n",
    "* `print()` : prints expressions out\n",
    "* `abs()` :  returns the absolute value of a number\n",
    "* `int()` :  converts another data type to an integer\n",
    "* `len()`: returns the length of a sequence or collection\n",
    "\n",
    "#### To be able to perform advanced computations and produce sophisticated code and data visualizations, one must import specific Python _modules_, _packages_, or _libraries_ designed for specific tasks. \n",
    "\n",
    "#### In the cell below, we import the Numerical Python library (NumPy) and assign it an __alias__ of np. The point of assigning aliases is so we do not have to type the entire package name each time we want to call a function from it within our code (this will become more clear later on)."
   ]
  },
  {
   "cell_type": "code",
   "execution_count": null,
   "id": "ee09737a-2c2e-4fe5-8f4c-e415afb36a29",
   "metadata": {
    "tags": []
   },
   "outputs": [],
   "source": [
    "# anything within a code cell preceeded by a '#' is considered a \"comment\" and thus is not executed.\n",
    "# import the entire numpy library, giving it the alias 'np'\n",
    "import numpy as np\n",
    "\n",
    "# import the matplotlib library for plotting, giving it the alias 'plt'\n",
    "import matplotlib.pyplot as plt  "
   ]
  },
  {
   "cell_type": "markdown",
   "id": "06675175-cbfc-42e9-94f2-3d5108ba6ab4",
   "metadata": {},
   "source": [
    "#### After your import statements, you will want to set up some settings within your notebook. The statements in the cell below preceeded by the % sign are referred to as 'magic functions'. You do not need to know the details of these now besides the following:\n",
    ">`%matplotlib inline`:  the output of plotting commands is displayed inline, directly below the code cell that produced it. The resulting plots will then also be stored in the notebook document.\n",
    ">\n",
    ">`%config InlineBackend.figure_format='retina'`: to render higher resolution images [more details can be found here]( https://ryanwingate.com/visualization/matplotlib/inline-backend-on-retina-displays/).\n",
    ">\n",
    "> `plt.rcParams['figure.figsize'] = 12,6`: sets the default figure size to 12 x 6."
   ]
  },
  {
   "cell_type": "code",
   "execution_count": null,
   "id": "e5743e56-a5bd-44a9-bb89-ef2fd2ad8892",
   "metadata": {
    "tags": []
   },
   "outputs": [],
   "source": [
    "%matplotlib inline                           \n",
    "%config InlineBackend.figure_format='retina' \n",
    "plt.rcParams['figure.figsize'] = 12,6   "
   ]
  },
  {
   "cell_type": "markdown",
   "id": "de8cf1eb-1ba2-48bd-b31f-aa37cacaaec1",
   "metadata": {
    "tags": []
   },
   "source": [
    "#### Our very first Python program can be a single line using the built-in `print` function:"
   ]
  },
  {
   "cell_type": "code",
   "execution_count": null,
   "id": "f408fb5c-9b9a-4c6f-82ad-7df15790425a",
   "metadata": {},
   "outputs": [],
   "source": [
    "print(\"Hello World!\") ## the print function prints out the expression inside of the ( ).\n",
    "print(2+4)"
   ]
  },
  {
   "cell_type": "markdown",
   "id": "18787479-add6-4911-b5c0-ce532251f159",
   "metadata": {},
   "source": [
    "#### <span style=\"color:red\"> Change the (2+4) in the second line above to (\"2+4\"). How does the output change? __Why?__ Place your response as Markdown in the cell below:</span>"
   ]
  },
  {
   "cell_type": "code",
   "execution_count": null,
   "id": "70d7a347-e277-4bbc-800c-75db004ded38",
   "metadata": {},
   "outputs": [],
   "source": []
  },
  {
   "cell_type": "markdown",
   "id": "080dafb1-ec4d-45d7-b681-84109efe174d",
   "metadata": {},
   "source": [
    "#### Congrats, you've written your first Python program!! We can also use Python to do some basic math for us:"
   ]
  },
  {
   "cell_type": "code",
   "execution_count": null,
   "id": "77ea7164-903f-4652-ab0f-7024d1b18801",
   "metadata": {
    "tags": []
   },
   "outputs": [],
   "source": [
    "2 + 2 # addition"
   ]
  },
  {
   "cell_type": "code",
   "execution_count": null,
   "id": "ec6e6698-023d-4e2b-b96e-aec013c23d53",
   "metadata": {
    "tags": []
   },
   "outputs": [],
   "source": [
    "4 ** 2 # exponentiation: 4 squared.\n",
    "2 ** 7 # exponentiation: 2 to the power of 7."
   ]
  },
  {
   "cell_type": "code",
   "execution_count": null,
   "id": "18b35ab3-7b39-4031-bbe8-e9c4ee01e5e2",
   "metadata": {
    "tags": []
   },
   "outputs": [],
   "source": [
    "17 / 3 # classic division, always returns a float (see more below)"
   ]
  },
  {
   "cell_type": "code",
   "execution_count": null,
   "id": "273bc252-1268-4262-acc1-54abcd244a09",
   "metadata": {
    "tags": []
   },
   "outputs": [],
   "source": [
    "17 // 3 # floor division discards the fractional part"
   ]
  },
  {
   "cell_type": "code",
   "execution_count": null,
   "id": "a3836d86-f71c-4e42-acbe-c257163e5acf",
   "metadata": {
    "tags": []
   },
   "outputs": [],
   "source": [
    "17 % 3 # the % (modulus) operator returns the remainder of the division"
   ]
  },
  {
   "cell_type": "code",
   "execution_count": null,
   "id": "1d38388f-a630-406d-a454-ee01d8c88778",
   "metadata": {
    "tags": []
   },
   "outputs": [],
   "source": [
    "(0.5) * (0.5) # multiplicaton"
   ]
  },
  {
   "cell_type": "code",
   "execution_count": null,
   "id": "8bbc26b4-0215-4b7e-9841-2be215062b5c",
   "metadata": {
    "tags": []
   },
   "outputs": [],
   "source": [
    "4 - 5 # subtraction"
   ]
  },
  {
   "cell_type": "code",
   "execution_count": null,
   "id": "7a414d3e-32b8-4e69-a2c2-cf24c72cacf7",
   "metadata": {
    "tags": []
   },
   "outputs": [],
   "source": [
    "# rounding\n",
    "round(9 / 10)"
   ]
  },
  {
   "cell_type": "code",
   "execution_count": null,
   "id": "00a7f057-637d-4d44-800f-a087f40a768d",
   "metadata": {
    "tags": []
   },
   "outputs": [],
   "source": [
    "# scientific notation\n",
    "4e7"
   ]
  },
  {
   "cell_type": "markdown",
   "id": "4856d08a-e7db-457d-9bde-d324ce23f938",
   "metadata": {},
   "source": [
    "#### We can also use Python to evaluate __logic__ or __boolean__ operations. __Boolean Operators__ result in values of `__True__` or `__False__` (more on this below)."
   ]
  },
  {
   "cell_type": "code",
   "execution_count": null,
   "id": "c28cced9-2151-4096-844e-c01fd209387a",
   "metadata": {
    "tags": []
   },
   "outputs": [],
   "source": [
    "1>7"
   ]
  },
  {
   "cell_type": "code",
   "execution_count": null,
   "id": "938c8311-fd8a-444f-b507-93d0bb71bc6a",
   "metadata": {
    "tags": []
   },
   "outputs": [],
   "source": [
    "2<4"
   ]
  },
  {
   "cell_type": "markdown",
   "id": "565b6f03-09bc-4d90-8628-160f8959ef0f",
   "metadata": {},
   "source": [
    "#### There are several __data types or classes__ that can exist within Python\n",
    "* Integers (`int`): numerical data __without__ a decimal place, i.e., a whole number.\n",
    "* Floating-point (`float`): numerical  data __with__ a decimal place or represented in scientific notation.\n",
    "* Character strings (`str`): character data denoted by either single quotes '' or double quotes \" \".\n",
    "* A `list`: an __ordered__ container of objects (can be any type of object) denoted by square brackets [ ], whose contents are __mutable__ (can be modified)\n",
    "* A `tuple`: an __ordered__ container of objects (can be any type of object) denoted by parentheses ( ), whose contents are __immutable__ (canNOT be modified)\n",
    "* A dictionary (`dict`): a collection of __labeled__ objects. Python uses curly braces { } to create dictionaries.\n",
    "* Boolean (`bool`): logical data that results in `True` or `False`."
   ]
  },
  {
   "cell_type": "markdown",
   "id": "462544ec-8ab2-41c5-9ac9-9a603bd081bb",
   "metadata": {
    "tags": []
   },
   "source": [
    "#### <span style=\"color:red\"> Put your answers to the following questions in the cell below:\n",
    "\n",
    "* <span style=\"color:red\"> Which of the outputs generated in the cells above are __ints vs. floats__ ? \n",
    "* <span style=\"color:red\"> What happens if you have an equation with mixed integers and floats? \n",
    "\n",
    "<span style=\"color:red\"> Note that classic division __always__ returns a floating point number regardless of inputs. </span>"
   ]
  },
  {
   "cell_type": "code",
   "execution_count": null,
   "id": "9e9cb565-8090-4dd2-8720-03d0ccb8db08",
   "metadata": {},
   "outputs": [],
   "source": []
  },
  {
   "cell_type": "markdown",
   "id": "e35e15bd-8d96-492b-9cc9-5c5821df19da",
   "metadata": {},
   "source": [
    "#### The equal sign (`=`) is used to assign a value to a variable:"
   ]
  },
  {
   "cell_type": "code",
   "execution_count": null,
   "id": "1c7a214b-1b81-4c9d-bb4e-bcbe212a1dae",
   "metadata": {
    "tags": []
   },
   "outputs": [],
   "source": [
    "a = 12        # assign 12 to variable a\n",
    "b = 8         # assign 8 to variable b\n",
    "print(a + b)  # print the result of a + b"
   ]
  },
  {
   "cell_type": "code",
   "execution_count": null,
   "id": "cb459bd9-a9c7-4051-a6b7-f967dc4d4352",
   "metadata": {
    "tags": []
   },
   "outputs": [],
   "source": [
    "# assign string Dr.Beadling to variable name\n",
    "name = \"Dr. Beadling\" ### remember this also could have been written in single quotes: name = 'Dr. Beadling'\n",
    "print(name) # print value of variable name"
   ]
  },
  {
   "cell_type": "code",
   "execution_count": null,
   "id": "df00daea-985e-464c-bf96-dc01d5b9c998",
   "metadata": {
    "tags": []
   },
   "outputs": [],
   "source": [
    "width = 20            # assign 20 to variable width\n",
    "height = 5 * 9        # assign the result of 5 * 9 to variable height\n",
    "print(width * height) # print value of (width * height)"
   ]
  },
  {
   "cell_type": "markdown",
   "id": "efcf3f0f-041a-4659-ac0c-b0b9833b95d3",
   "metadata": {},
   "source": [
    "#### Your notebook will remember your previously defined variables in other cells, so you can use them in later computations. However, once you restart your Kernel, all memory of variables will be lost and the cells in which you defined them will need to be run again."
   ]
  },
  {
   "cell_type": "code",
   "execution_count": null,
   "id": "8c6d2ca1-c236-437a-a22d-9b32ecbba329",
   "metadata": {
    "tags": []
   },
   "outputs": [],
   "source": [
    "print(a,b,name,width,height)"
   ]
  },
  {
   "cell_type": "markdown",
   "id": "422c361d-fce9-4d17-a1f1-c06b2bf69416",
   "metadata": {},
   "source": [
    "#### If you want to know which data type an object is, we can use Python's `type` function:"
   ]
  },
  {
   "cell_type": "code",
   "execution_count": null,
   "id": "9b58d17a-868d-4afc-ae4e-01141669d4e8",
   "metadata": {
    "tags": []
   },
   "outputs": [],
   "source": [
    "print(type(\"Dr. Beadling\")) "
   ]
  },
  {
   "cell_type": "code",
   "execution_count": null,
   "id": "35748816-5dfc-4112-bcf7-3dd83866e931",
   "metadata": {
    "tags": []
   },
   "outputs": [],
   "source": [
    "print(type(name)) "
   ]
  },
  {
   "cell_type": "code",
   "execution_count": null,
   "id": "60bf5a0f-7a98-4072-ba15-fb1dee1afbd9",
   "metadata": {
    "tags": []
   },
   "outputs": [],
   "source": [
    "print(type(a)) "
   ]
  },
  {
   "cell_type": "code",
   "execution_count": null,
   "id": "9bffe7c4-50f9-4234-8810-a8baaca19f25",
   "metadata": {
    "tags": []
   },
   "outputs": [],
   "source": [
    "print(type(True))"
   ]
  },
  {
   "cell_type": "markdown",
   "id": "ffb7e493-f8a5-401e-978c-0c2f1b356863",
   "metadata": {},
   "source": [
    "#### More on `bool` data types"
   ]
  },
  {
   "cell_type": "markdown",
   "id": "d392eebb-2492-425f-b8de-058ad75fc954",
   "metadata": {},
   "source": [
    "#### As mentioned above, we can evaluate __logic__ or __boolean__ operations. __Boolean Operators__ / __logical operators__ result in the `bool` data type of __True__ or __False__. In python there are several logical operators to be aware of:\n",
    "* `and` Returns `True` if both statements are true, example: `x < 5 and x < 10`\n",
    "* `or` Returns `True` if one of the statements is true, example: `x < 5 or x < 4`"
   ]
  },
  {
   "cell_type": "markdown",
   "id": "76920537-0d3d-46ab-9d54-e6d5dba0b9dd",
   "metadata": {},
   "source": [
    "#### <span style=\"color:red\"> Before you run the cells below, make a prediction of whether the boolean value returned will be `True` or `False`\n",
    "\n",
    "#### <span style=\"color:red\"> __Prediction Cell 1:__ \n",
    "#### <span style=\"color:red\"> __Prediction Cell 2:__ \n",
    "#### <span style=\"color:red\"> __Prediction Cell 3:__ "
   ]
  },
  {
   "cell_type": "code",
   "execution_count": null,
   "id": "b26647b1-6abd-4d53-a0ff-6a57e2ec0571",
   "metadata": {
    "tags": []
   },
   "outputs": [],
   "source": [
    "x = 5\n",
    "x < 5 and x < 10"
   ]
  },
  {
   "cell_type": "code",
   "execution_count": null,
   "id": "b7fe85ff-3d9c-49ea-8149-ccad5bd07dff",
   "metadata": {
    "tags": []
   },
   "outputs": [],
   "source": [
    "x = 9\n",
    "x < 5 or x < 10"
   ]
  },
  {
   "cell_type": "markdown",
   "id": "43bf3dac-2260-4f95-80f3-20d0c2d9531a",
   "metadata": {},
   "source": [
    "#### Comparison operators are used to compare values and evaluate down to a single Boolean value of either `True` or `False`:\n",
    "* #### `==` _Equal to_ : results in a `True` if the 2 operands are equal, and a `False` if unequal.\n",
    "* #### `!=` _Not equal to_ : results in a `True` if the 2 operands are unequal, and a `False` if equal.\n",
    "* #### `<` _Less than_ : results in a `True` if the first operand is smaller than the second, else a `False`.\n",
    "* #### `>` _Greater than_ : results in a `True` if the first operand is greater than the second, else a `False`.\n",
    "* #### `<=` _Less than or equal to_ : results in a `True` if the first operand is lesser than or equal to the second, else a `False`.\n",
    "* #### `>=` _Greater than or equal to_ : results in a `True` if the first operand is greater than or equal to the second, else a `False`."
   ]
  },
  {
   "cell_type": "markdown",
   "id": "eb85894b-93bf-49d8-807c-89ce2a883762",
   "metadata": {},
   "source": [
    "#### <span style=\"color:red\"> Create a few code cells below here and spend a few minutes trying out all of the comparison operators above until you feel like you have an understanding of how they work."
   ]
  },
  {
   "cell_type": "code",
   "execution_count": null,
   "id": "7fba2035-af5d-456e-8c39-a5366fee344b",
   "metadata": {
    "tags": []
   },
   "outputs": [],
   "source": [
    "5 > 6"
   ]
  },
  {
   "cell_type": "code",
   "execution_count": null,
   "id": "c5bf91c4-f641-4ea3-80b9-4a26b465dc62",
   "metadata": {},
   "outputs": [],
   "source": []
  },
  {
   "cell_type": "code",
   "execution_count": null,
   "id": "4b3a254f-43b3-4629-893a-234b5a6f6960",
   "metadata": {},
   "outputs": [],
   "source": []
  },
  {
   "cell_type": "code",
   "execution_count": null,
   "id": "5ce0e508-ac29-40f2-b308-2d547a7c8d24",
   "metadata": {},
   "outputs": [],
   "source": []
  },
  {
   "cell_type": "code",
   "execution_count": null,
   "id": "e115a89d-7d36-484d-b7c7-9883b46dd5c6",
   "metadata": {},
   "outputs": [],
   "source": []
  },
  {
   "cell_type": "code",
   "execution_count": null,
   "id": "5c9b952c-0874-4fda-a4d6-c163565c72db",
   "metadata": {},
   "outputs": [],
   "source": []
  },
  {
   "cell_type": "code",
   "execution_count": null,
   "id": "39315d69-30c0-4f89-bc49-891ee1d5b108",
   "metadata": {},
   "outputs": [],
   "source": []
  },
  {
   "cell_type": "code",
   "execution_count": null,
   "id": "05ff4b65-7897-4dce-8a01-90d051c96da0",
   "metadata": {},
   "outputs": [],
   "source": []
  },
  {
   "cell_type": "markdown",
   "id": "4dd04ef6-44d0-4f71-953c-a09ad11e604d",
   "metadata": {},
   "source": [
    "#### More on `list` data types. \n",
    "* #### You can create a list by assigning a variable via: `list_name = []` with the list contents, or __elements__ inside of the brackets as shown in the example below.\n",
    "* #### Lists can consist of objects of any data type.\n",
    "* #### Lists are mutable.\n",
    "* #### Elements within a list can be extracted."
   ]
  },
  {
   "cell_type": "code",
   "execution_count": null,
   "id": "396970cd-0998-47bd-82a2-7fab24a7652b",
   "metadata": {
    "tags": []
   },
   "outputs": [],
   "source": [
    "mylist1 = [0, 1, 1, 2, 3, 5, 8] # create a list called mylist1\n",
    "mylist1 # you could have also put print(mylist) and it would have shown the same thing"
   ]
  },
  {
   "cell_type": "code",
   "execution_count": null,
   "id": "3d531edd-e81a-4212-8196-9460523ebe2a",
   "metadata": {
    "tags": []
   },
   "outputs": [],
   "source": [
    "mylist2 = [2, 11, 23, 5, 10, 5, 0]\n",
    "mylist2"
   ]
  },
  {
   "cell_type": "code",
   "execution_count": null,
   "id": "7a9bc1a6-307e-4e67-8c6c-dc36f2308a0c",
   "metadata": {
    "tags": []
   },
   "outputs": [],
   "source": [
    "print(type(mylist1))"
   ]
  },
  {
   "cell_type": "markdown",
   "id": "7b8f5b02-b1a8-4d89-8965-bebcd6d0daac",
   "metadata": {},
   "source": [
    "#### Lists can contain __any type__ of objects:"
   ]
  },
  {
   "cell_type": "code",
   "execution_count": null,
   "id": "9e106ac6-d853-4578-985f-4473a6d6387e",
   "metadata": {
    "tags": []
   },
   "outputs": [],
   "source": [
    "mylist3 = [(2 ** 2), \"orange\", 5.0, \"yellow\", 5, 0]\n",
    "mylist3"
   ]
  },
  {
   "cell_type": "code",
   "execution_count": null,
   "id": "04d55720-9efc-4599-944d-f16621e78d36",
   "metadata": {},
   "outputs": [],
   "source": []
  },
  {
   "cell_type": "markdown",
   "id": "fe0121d1-6b81-43e0-9eb2-cb58320d33f3",
   "metadata": {},
   "source": [
    "#### <span style=\"color:red\"> Identify what __data types__ each of the object in the list above and put your answers as markdown in the cell below."
   ]
  },
  {
   "cell_type": "code",
   "execution_count": null,
   "id": "7d44ce89-bfdc-4d34-bc9b-dcacd489f3dd",
   "metadata": {},
   "outputs": [],
   "source": []
  },
  {
   "cell_type": "code",
   "execution_count": null,
   "id": "7f63baac-d2d3-4394-809a-97d55aac085d",
   "metadata": {},
   "outputs": [],
   "source": []
  },
  {
   "cell_type": "code",
   "execution_count": null,
   "id": "223e2ade-88a5-4c0d-bf33-3fa12dd809ba",
   "metadata": {},
   "outputs": [],
   "source": []
  },
  {
   "cell_type": "code",
   "execution_count": null,
   "id": "dfcba7c4-d389-4d12-b82b-31bd274a1b35",
   "metadata": {},
   "outputs": [],
   "source": []
  },
  {
   "cell_type": "code",
   "execution_count": null,
   "id": "b0b0f3a9-7490-4af5-8bd1-9bad150b9edb",
   "metadata": {},
   "outputs": [],
   "source": []
  },
  {
   "cell_type": "code",
   "execution_count": null,
   "id": "d5fbadc2-f05a-4257-b62a-8a46848c4589",
   "metadata": {},
   "outputs": [],
   "source": []
  },
  {
   "cell_type": "markdown",
   "id": "74ef4ae6-294a-40fb-84c6-bc49533468d7",
   "metadata": {},
   "source": [
    "#### How do we access data stored within a list?"
   ]
  },
  {
   "cell_type": "markdown",
   "id": "3373af95-2281-424a-bb68-31a8315640f8",
   "metadata": {},
   "source": [
    "#### In Python, each __element__ within a list is assigned a specific __index__. An index is a unique integer value that represents an element's position within a list. __Indexing__ refers to the process of accessing the element.\n",
    " \n",
    "## __IMPORTANT__: Indexing in Python starts at 0, which means that the first element in a sequence has an index of 0, the second element has an index of 1, and so on. Consider the following example below:"
   ]
  },
  {
   "cell_type": "code",
   "execution_count": null,
   "id": "df940619-ccc7-457d-a3d5-52dc71a35847",
   "metadata": {
    "tags": []
   },
   "outputs": [],
   "source": [
    "our_test_list=['Code', 'Favtutor', 'Machine Learning', 'Students', 'Studies', 'java', 'python'] #create a list called our_test_list\n",
    "our_test_list"
   ]
  },
  {
   "cell_type": "markdown",
   "id": "8b4437d5-d26e-4f70-90cb-3973d41884fb",
   "metadata": {
    "tags": []
   },
   "source": [
    "### <span style=\"color:red\">Print the __data type__ of the list above."
   ]
  },
  {
   "cell_type": "code",
   "execution_count": null,
   "id": "e48a6674-85c0-43c3-a836-a63acedf8975",
   "metadata": {},
   "outputs": [],
   "source": []
  },
  {
   "cell_type": "markdown",
   "id": "bf6ed761-9b65-4360-8e40-54cc9d6d4fc2",
   "metadata": {},
   "source": [
    "#### To access elements within a list, we use square brackets [ ] where inside the brackets we pass the index value of the location we want to read. \n",
    "* For example, to index the first element in the list: `list_name[0]`\n",
    "* To index the second element in the list: `list_name[1]`"
   ]
  },
  {
   "cell_type": "markdown",
   "id": "9695efa5-df02-4265-b0c5-d082a55926b4",
   "metadata": {},
   "source": [
    "### <span style=\"color:red\"> Print the __data type__ of the first __element__ within the list."
   ]
  },
  {
   "cell_type": "code",
   "execution_count": null,
   "id": "62c8da7e-05bc-4d95-a5ff-2ba910a8fce7",
   "metadata": {},
   "outputs": [],
   "source": []
  },
  {
   "cell_type": "markdown",
   "id": "3d71b86b-07b7-4d17-b86d-984ad249b601",
   "metadata": {},
   "source": [
    "### <span style=\"color:red\"> Print the __data type__ of the __second__ element within the list."
   ]
  },
  {
   "cell_type": "code",
   "execution_count": null,
   "id": "c86e277b-d7a7-4efc-82b3-ce50eb0196cb",
   "metadata": {},
   "outputs": [],
   "source": []
  },
  {
   "cell_type": "markdown",
   "id": "7f9034f9-6792-4145-aaaf-b6281b7835ff",
   "metadata": {},
   "source": [
    "### <span style=\"color:red\"> __Before__ you run the cell below, put a comment (`#`) next to each line predicting the elements you think the print statements will return based off of the description of indexing above. Were your predictions correct??"
   ]
  },
  {
   "cell_type": "code",
   "execution_count": null,
   "id": "ffd74c4c-3711-4106-8e21-2de2848c5bea",
   "metadata": {
    "tags": []
   },
   "outputs": [],
   "source": [
    "print(our_test_list[0])\n",
    "print(our_test_list[1])\n",
    "print(our_test_list[5])"
   ]
  },
  {
   "cell_type": "markdown",
   "id": "df388bff-0a3c-42b5-9bf6-08ff198b7e5a",
   "metadata": {},
   "source": [
    "### <span style=\"color:red\"> __Based on your understanding from the activity above__, write code in cell below that would print out 'python' from our_test_list:"
   ]
  },
  {
   "cell_type": "code",
   "execution_count": null,
   "id": "80bb2487-262a-446b-878a-3b26e8f0a3ed",
   "metadata": {
    "tags": []
   },
   "outputs": [],
   "source": []
  },
  {
   "cell_type": "markdown",
   "id": "2ec692ab-a66e-4389-80fe-11119ca81d21",
   "metadata": {},
   "source": [
    "#### In Python, one also has the option of \"negative indexing\". In this case, the [-1] index is __always__ the last element of the array. The image below shows our_test_list elements with the corresponding _index_ and _negative_ index underneath. The string `'Machine Learning'` can be accessed either by the following:"
   ]
  },
  {
   "cell_type": "code",
   "execution_count": null,
   "id": "e3658c0f-045e-4b5d-bc71-a0ed0c066940",
   "metadata": {
    "tags": []
   },
   "outputs": [],
   "source": [
    "our_test_list[2]\n",
    "our_test_list[-5]"
   ]
  },
  {
   "cell_type": "markdown",
   "id": "b831f95c-4d1e-4579-a53f-425f86b9b0e1",
   "metadata": {
    "tags": []
   },
   "source": [
    "![](https://favtutor.com/resources/images/uploads/mceu_51042390911678942910142.png)"
   ]
  },
  {
   "cell_type": "markdown",
   "id": "24aeaf17-1130-494d-8e32-5e7d8068264d",
   "metadata": {},
   "source": [
    "#### Another useful python function is the `len` function, which returns the __length__ of `list`, i.e., how many elements the list contains:"
   ]
  },
  {
   "cell_type": "code",
   "execution_count": null,
   "id": "442a7c6f-af24-4c1e-87cd-51ce8120c833",
   "metadata": {
    "tags": []
   },
   "outputs": [],
   "source": [
    "len(our_test_list)"
   ]
  },
  {
   "cell_type": "markdown",
   "id": "7e418484-b6b5-4306-896f-61cb9ef11caf",
   "metadata": {},
   "source": [
    "#### It is useful to remember that the __first__ element of a list is always indexed by [0] or [-len], and the __last__ element is always indexed by  [-1] or [len - 1]. <span style=\"color:red\">Based on this fact, use the `len` function to return the first and last element of our_test_list:"
   ]
  },
  {
   "cell_type": "code",
   "execution_count": null,
   "id": "afa54ad9-7216-43da-bafa-7d4e878eacae",
   "metadata": {
    "tags": []
   },
   "outputs": [],
   "source": [
    "# last element\n",
    "our_test_list[len(our_test_list)-1]\n",
    "\n",
    "# first element\n",
    "our_test_list[-len(our_test_list)]"
   ]
  },
  {
   "cell_type": "markdown",
   "id": "088d3d7d-8288-43ca-bafa-6483b1e2efcc",
   "metadata": {},
   "source": [
    "#### What if we want to pull out multiple elements within a list, i.e, a portion of the list? This is what we refer to as __slicing__ the list."
   ]
  },
  {
   "cell_type": "markdown",
   "id": "03ade5ea-cc26-489c-8915-2861466ac5c3",
   "metadata": {},
   "source": [
    "#### Slicing a list takes on the following syntax in python:\n",
    "\n",
    "> if `a` is a list, then `a[m:n]` will return a portion of `a` specified by `m:n`:\n",
    "> * starting with index position `m`\n",
    "> * and __up to but not including__ `n`\n"
   ]
  },
  {
   "cell_type": "markdown",
   "id": "5cbdcf38-78a0-4d1a-8652-339ae3a1d1b9",
   "metadata": {},
   "source": [
    "### Your head might be spinning, that is OK! Let's work through this with our example -- this is a __very important concept__ to grasp. Let's take another look at our_list_test and how it is indexed."
   ]
  },
  {
   "cell_type": "markdown",
   "id": "9b7bcc41-2200-4c4c-9466-66bfb43cd069",
   "metadata": {
    "tags": []
   },
   "source": [
    "![](https://favtutor.com/resources/images/uploads/mceu_51042390911678942910142.png)"
   ]
  },
  {
   "cell_type": "markdown",
   "id": "f41bc797-80a2-4065-94f0-fbd0ee290396",
   "metadata": {},
   "source": [
    "#### Our syntax for slicing will be:\n",
    "> `our_test_list[m:n]`, returning a portion of `our_test_list` specified by `m:n`:\n",
    "> * starting with index position `m`\n",
    "> * and __up to but not including__ `n`\n",
    "\n",
    "#### So if we want to extract the __first two__ indexes, we would do the following:"
   ]
  },
  {
   "cell_type": "code",
   "execution_count": null,
   "id": "335ccd98-d709-476b-8430-0f5f37564b74",
   "metadata": {
    "tags": []
   },
   "outputs": [],
   "source": [
    "our_test_list[0:2]"
   ]
  },
  {
   "cell_type": "markdown",
   "id": "1204295a-ff32-4ef8-b945-d9b180dffab6",
   "metadata": {},
   "source": [
    "#### <span style=\"color:red\"> Pause and think this through. Why is 2 our second number in our code above and not 1? Talk to the person next to you and provide your answer as markdown below:"
   ]
  },
  {
   "cell_type": "code",
   "execution_count": null,
   "id": "860866b7-9c50-4102-ac62-51675fc18483",
   "metadata": {},
   "outputs": [],
   "source": []
  },
  {
   "cell_type": "markdown",
   "id": "6867c8c1-339d-433f-85e7-ec68a264281e",
   "metadata": {},
   "source": [
    "#### <span style=\"color:red\">What if we wanted to slice out 'machine learning' through 'java'? How would you do this? Do this two ways: first using __postive indexing__ and second using __negative indexing__. Work through it and provide your answer in the cell below as code:"
   ]
  },
  {
   "cell_type": "code",
   "execution_count": null,
   "id": "522dc659-1b00-46a1-b8ae-8ec6a7a2a65d",
   "metadata": {
    "tags": []
   },
   "outputs": [],
   "source": []
  },
  {
   "cell_type": "markdown",
   "id": "d22075cf-ee8f-40a7-9763-0dffef91d7c6",
   "metadata": {},
   "source": [
    "#### There are more sophisticated slicing functions, but you can save that for more advanced studies or your own work. For now, this is what you need to grasp."
   ]
  },
  {
   "cell_type": "markdown",
   "id": "1d92b4ff-5dea-45e7-bc4b-e159c7362d8c",
   "metadata": {},
   "source": [
    "#### There are also several useful functions we can apply a `list` shown in the image below. We will not go over the details of these now, but you are encouraged to take time to explore and understand how these work, as these might prove useful in your research (https://python.plainenglish.io/mastering-python-lists-your-ultimate-guide-to-creating-manipulating-and-optimizing-lists-571fe91d9fcd)"
   ]
  },
  {
   "cell_type": "markdown",
   "id": "2883a05e-17c0-43aa-9b1d-c28015356f5e",
   "metadata": {
    "tags": []
   },
   "source": [
    "![](https://miro.medium.com/v2/resize:fit:920/0*1YrDnQmQZB50G2cz.png)"
   ]
  },
  {
   "cell_type": "markdown",
   "id": "ff52f2e9-d4cc-4c1b-9341-6cfc66ea9d91",
   "metadata": {},
   "source": [
    "#### A __final point__ to recognize about a `list` is that its contents are `mutable`, which means they can be __modified__ or changed (i.e., mutated)."
   ]
  },
  {
   "cell_type": "code",
   "execution_count": null,
   "id": "41f5052f-f26f-4b91-865d-33e45d233a4e",
   "metadata": {
    "tags": []
   },
   "outputs": [],
   "source": [
    "fruits = ['apple', 'banana', 'orange'] # created a list called fruits.\n",
    "fruits"
   ]
  },
  {
   "cell_type": "code",
   "execution_count": null,
   "id": "7cd103d3-5957-4308-ae51-142e4977d634",
   "metadata": {
    "tags": []
   },
   "outputs": [],
   "source": [
    "fruits[0] = \"grape\" # replace the first element in the list with the string \"grape\""
   ]
  },
  {
   "cell_type": "code",
   "execution_count": null,
   "id": "31a9099b-7be2-4846-a916-731570b52743",
   "metadata": {
    "tags": []
   },
   "outputs": [],
   "source": [
    "fruits # running this cell will now show you the new modified list"
   ]
  },
  {
   "cell_type": "markdown",
   "id": "11eeb2ff-47a9-4bef-9f49-200e5e03979d",
   "metadata": {
    "tags": []
   },
   "source": [
    "#### More on `tuple` data types. \n",
    "* #### You can create a tuple by assigning a variable via: `tuple_name = ( )` with the tuple contents, or __elements__ inside of the parentheses as shown in the example below.\n",
    "* #### Tuples can consist of objects of any data type.\n",
    "* #### Tuples are __immutable__. __THIS IS THE KEY DIFFERENCE BETWEEN A LIST AND TUPLE!!__ We cannot modify the contents of a tuple!!\n",
    "* #### Elements within a tuple can be extracted (i.e., indexed and sliced, following the same conventions as that outlined above for `lists`)"
   ]
  },
  {
   "cell_type": "code",
   "execution_count": null,
   "id": "8b84d6a2-7b49-4f9f-a417-ebfacedafb61",
   "metadata": {
    "tags": []
   },
   "outputs": [],
   "source": [
    "fruits = ('apple', 'banana', 'orange') # created a tuple called fruits.\n",
    "fruits"
   ]
  },
  {
   "cell_type": "code",
   "execution_count": null,
   "id": "10b1f920-9b49-4503-a2b8-eb121c572273",
   "metadata": {
    "tags": []
   },
   "outputs": [],
   "source": [
    "fruits[0]"
   ]
  },
  {
   "cell_type": "markdown",
   "id": "836c02c4-e9b1-49ff-ae00-7e2cbedf7d39",
   "metadata": {},
   "source": [
    "#### <span style=\"color:red\"> Predict what will happen when you run the cell below. This is the same exact code we ran a few cells up when learning about `lists`. What is it meant to do?"
   ]
  },
  {
   "cell_type": "code",
   "execution_count": null,
   "id": "26aaf2d7-843d-462a-a00c-9de59bdc3efd",
   "metadata": {
    "tags": []
   },
   "outputs": [],
   "source": [
    "fruits[0] = \"grape\""
   ]
  },
  {
   "cell_type": "markdown",
   "id": "f1a6f098-554b-4f0c-9075-676d828abecb",
   "metadata": {},
   "source": [
    "#### More on `dict` (dictionary) data types. A dictionary is a collection of __labeled__ objects, the __label__ is referred to as an object's __key__. Python uses curly braces {} to create dictionaries."
   ]
  },
  {
   "cell_type": "code",
   "execution_count": null,
   "id": "01af1837-5de5-4a67-a769-9c70a961cfdf",
   "metadata": {
    "tags": []
   },
   "outputs": [],
   "source": [
    "mypet = {\n",
    "    \"name\": \"Franny\",  ### the key is 'name'; the value is 'Franny'\n",
    "    \"species\": \"cat\",  ### the key is 'species'; the value is 'cat'\n",
    "    \"age\": 9,          ### the key is 'age'; the value is '8'\n",
    "}\n",
    "\n",
    "type(mypet)"
   ]
  },
  {
   "cell_type": "code",
   "execution_count": null,
   "id": "8f8a12f3-abc4-46b0-b9ce-4f9b0ffe3817",
   "metadata": {
    "tags": []
   },
   "outputs": [],
   "source": [
    "mypet"
   ]
  },
  {
   "cell_type": "markdown",
   "id": "05c658d3-a168-48b7-a8ac-04b6e7d30621",
   "metadata": {},
   "source": [
    "#### If we want to access the values inside of a `dict` we can do so using `[ ]`"
   ]
  },
  {
   "cell_type": "code",
   "execution_count": null,
   "id": "2784d73a-d5ef-47b8-ae11-2c19e07b928b",
   "metadata": {
    "tags": []
   },
   "outputs": [],
   "source": [
    "mypet[\"species\"]"
   ]
  },
  {
   "cell_type": "markdown",
   "id": "62447496-1c68-4ceb-927d-abc9b82adc06",
   "metadata": {},
   "source": [
    "#### <span style=\"color:red\"> Write code in the cell below that would return the age of Franny:"
   ]
  },
  {
   "cell_type": "code",
   "execution_count": null,
   "id": "3996f77f-e843-4a28-b5b8-7be42e7224d7",
   "metadata": {},
   "outputs": [],
   "source": []
  },
  {
   "cell_type": "markdown",
   "id": "625f8a54-e3fa-416a-97af-a3b1729f3af2",
   "metadata": {},
   "source": [
    "### After you have completed the task above, complete the following exercises on each link below. DO NOT CLICK SHOW ANSWERS!!! CHALLENGE YOURSELF. If you do not understand something and are stuck, try to work it out with those around you.\n",
    "* ## __[syntax exercises](https://www.w3schools.com/python/exercise.asp?x=xrcise_syntax1)__\n",
    "* ## __[comments exercises](https://www.w3schools.com/python/exercise.asp?x=xrcise_comments1)__\n",
    "* ## __[variable exercises](https://www.w3schools.com/python/exercise.asp?x=xrcise_variables1)__\n",
    "* ## __[variable names exercises](https://www.w3schools.com/python/exercise.asp?x=xrcise_variables_names1)__\n",
    "* ## __[data types exercises](https://www.w3schools.com/python/exercise.asp?x=xrcise_datatypes1)__\n",
    "* ## __[Numbers exercises](https://www.w3schools.com/python/exercise.asp?x=xrcise_numbers1)__\n",
    "* ## __[Strings exercises](https://www.w3schools.com/python/exercise.asp?x=xrcise_strings1)__\n",
    "* ## __[Slicing strings exercises](https://www.w3schools.com/python/exercise.asp?x=xrcise_strings_slicing1)__\n",
    "* ## __[Booleans exercises](https://www.w3schools.com/python/exercise.asp?x=xrcise_booleans1)__\n",
    "* ## __[Operators exercises](https://www.w3schools.com/python/exercise.asp?x=xrcise_operators1)__\n",
    "* ## __[lists exercises](https://www.w3schools.com/python/exercise.asp?x=xrcise_lists1)__\n",
    "* ## __[tuples exercises](https://www.w3schools.com/python/exercise.asp?x=xrcise_tuples1)__"
   ]
  },
  {
   "cell_type": "markdown",
   "id": "a5af0d0e-165f-47f0-900f-88080d6b00b9",
   "metadata": {},
   "source": [
    "## Congrats you have begun your journey of learning the foundations of Python! "
   ]
  },
  {
   "cell_type": "markdown",
   "id": "035df48e-c32c-4904-a797-918ec4c3e460",
   "metadata": {},
   "source": [
    "### Shutting down your notebook (don't do this yet!! These are just instructions for when class is over).\n",
    "### Before shutting down, save your notebook with the disc icon in the Notebook toolbar. Go to the the File menu and click `Shut Down` to close the browser tab and Jupyter Lab itself."
   ]
  }
 ],
 "metadata": {
  "kernelspec": {
   "display_name": "Python 3 (ipykernel)",
   "language": "python",
   "name": "python3"
  },
  "language_info": {
   "codemirror_mode": {
    "name": "ipython",
    "version": 3
   },
   "file_extension": ".py",
   "mimetype": "text/x-python",
   "name": "python",
   "nbconvert_exporter": "python",
   "pygments_lexer": "ipython3",
   "version": "3.11.9"
  }
 },
 "nbformat": 4,
 "nbformat_minor": 5
}
