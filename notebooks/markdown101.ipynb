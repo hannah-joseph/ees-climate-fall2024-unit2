{
 "cells": [
  {
   "cell_type": "markdown",
   "id": "a83d881d-d04d-466d-acf3-9b2efc2550e0",
   "metadata": {},
   "source": [
    "## This notebook can be used to refine your markdown literacy and was created while referencing [Markdown Guide](https://www.markdownguide.org/basic-syntax/)."
   ]
  },
  {
   "cell_type": "markdown",
   "id": "8e3680df-108c-4421-9180-876fca61b0ac",
   "metadata": {},
   "source": [
    "__Author__: Megan Siwak. For any questions regarding the contents of this notebook please contact megan.siwak@temple.edu."
   ]
  },
  {
   "cell_type": "markdown",
   "id": "8f475b7d-c7ee-4cb6-b616-1d47bb52bfd4",
   "metadata": {},
   "source": [
    "#### Note: the see the raw markdown in each one of these cells, double click the cell."
   ]
  },
  {
   "cell_type": "markdown",
   "id": "3a1f9c69-0f76-4d1b-9a2f-594c4abceeb2",
   "metadata": {},
   "source": [
    "### About text sizing"
   ]
  },
  {
   "cell_type": "markdown",
   "id": "a180964e-193f-49dd-a974-e8bf8dc224de",
   "metadata": {},
   "source": [
    "Font sizes are denoted using `#`. __Note that a space is located between the # and the text.__  \n",
    "Largest text is preceded by one `#`. Text sizes decrease with an increasing number of `#`."
   ]
  },
  {
   "cell_type": "markdown",
   "id": "8fc903ba-475a-4121-9e2b-317641edb9ed",
   "metadata": {},
   "source": [
    "### Font formatting"
   ]
  },
  {
   "cell_type": "markdown",
   "id": "dde21ff0-91e1-4577-b473-90de0b8bbac5",
   "metadata": {},
   "source": [
    "| Format | Code |\n",
    "| ----- | ----- |\n",
    "| <u> Underline </u> | `<u>` txt `</u>` |\n",
    "| * Italicize * | `*` txt `*` |\n",
    "| ** Bold ** | `**` txt `**` |\n",
    "| ~~ Strikethrough ~~ | `~~` txt `~~` |\n",
    "| <sub> Subscript </sub> | `<sub>` txt `</sub>` |\n",
    "| <sup> Superscript </sup> | `<sup>` Superscript `</sup>` |"
   ]
  },
  {
   "cell_type": "markdown",
   "id": "4c7e2871-5189-493e-ad76-649113d52a5b",
   "metadata": {},
   "source": [
    "### Line orientation"
   ]
  },
  {
   "cell_type": "markdown",
   "id": "2622db84-e1cd-41ed-8065-d1820ae2d71d",
   "metadata": {},
   "source": [
    "Hitting `Enter` on its own will not cause a line break when the cell is run. To write in an actual line break, type several spaces after the end of a line prior to hitting `Enter`. "
   ]
  },
  {
   "cell_type": "markdown",
   "id": "85fe1d94-9250-408e-9103-3369123f728d",
   "metadata": {},
   "source": [
    "> __Blockquote__ refers to this indented block of text.\n",
    "> To make this, type `>` prior to writing the first line. Hitting `Enter` will automatically create a new line.\n",
    "> Note that many Markdown elements can be included in blockquotes."
   ]
  },
  {
   "cell_type": "markdown",
   "id": "b6c206ce-6a35-42d9-8d13-c2e2d8c9119b",
   "metadata": {},
   "source": [
    "Tables can be created using the following format:    \n",
    "`| Heading 1 | Heading 2 |`   \n",
    "`| --- | --- |`  \n",
    "`| Column 1, Row 1 | Column 2, Row 1 |`  \n",
    "`| Column 1, Row 2 | Column 2, Row 2 |`  \n",
    "and can continue downwards and outwards as necessary. Though the lines may not appear to align when writing the text, Markdown will recognize this as a table so long as the `---` are included."
   ]
  },
  {
   "cell_type": "markdown",
   "id": "4dd66c5e-44ce-4dd5-9d75-f84904203a2d",
   "metadata": {},
   "source": [
    "1. lists can be created by writing\n",
    "2. a number followed by a period.\n",
    "\n",
    "Or, \n",
    "\n",
    "- lists can be created by writing\n",
    "- a dash prior to each line."
   ]
  },
  {
   "cell_type": "markdown",
   "id": "dc54c0c1-d290-445b-8884-477775eea818",
   "metadata": {},
   "source": [
    "### Colors"
   ]
  },
  {
   "cell_type": "markdown",
   "id": "991e4772-797b-49c8-b6dc-44b0b96a7e10",
   "metadata": {},
   "source": [
    "Text can be written in different colors! This is done using the following format:"
   ]
  },
  {
   "cell_type": "markdown",
   "id": "05445e22-b118-492c-ac84-29243e49cc38",
   "metadata": {},
   "source": [
    "`<span style = \"color: red\">` <span style = \"color: red\"> txt </span>`</span>`"
   ]
  },
  {
   "cell_type": "markdown",
   "id": "1a273206-0be3-4626-9a9f-020efc22682e",
   "metadata": {},
   "source": [
    "<span style = \"color: seagreen\"> While the above example uses red, many colors can be chosen from. This text is written in seagreen! "
   ]
  },
  {
   "cell_type": "markdown",
   "id": "6290c743-593e-496c-aebd-88fe248fa1c5",
   "metadata": {},
   "source": [
    "### Other important features"
   ]
  },
  {
   "cell_type": "markdown",
   "id": "0dc24369-41fe-43cf-937a-d704873b7539",
   "metadata": {},
   "source": [
    "A Markdown cell can contain code -- this is done by surrounding the code in ` (~ key)."
   ]
  },
  {
   "cell_type": "markdown",
   "id": "cc76c3b5-ea00-4bd6-a1e4-cdcdac73165c",
   "metadata": {},
   "source": [
    "An image can be inputted into a notebook, so long as it is already uploaded to Jupyter. To do this, type  \n",
    "`![alt txt](image_name.jpg)`"
   ]
  },
  {
   "cell_type": "markdown",
   "id": "893d9dbb-aab4-4427-a939-6238f049f413",
   "metadata": {},
   "source": [
    "To put a link in the text, type   \n",
    "`[title](link)`"
   ]
  },
  {
   "cell_type": "markdown",
   "id": "c4a809a5-fefe-410f-8bdc-b2f42a415acc",
   "metadata": {},
   "source": [
    "A horizontal line can be written in as --- ."
   ]
  }
 ],
 "metadata": {
  "kernelspec": {
   "display_name": "Python 3 (ipykernel)",
   "language": "python",
   "name": "python3"
  },
  "language_info": {
   "codemirror_mode": {
    "name": "ipython",
    "version": 3
   },
   "file_extension": ".py",
   "mimetype": "text/x-python",
   "name": "python",
   "nbconvert_exporter": "python",
   "pygments_lexer": "ipython3",
   "version": "3.11.9"
  }
 },
 "nbformat": 4,
 "nbformat_minor": 5
}
